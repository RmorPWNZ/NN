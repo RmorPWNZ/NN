{
 "cells": [
  {
   "cell_type": "markdown",
   "metadata": {},
   "source": [
    "# Natural Language Processing Project\n",
    "\n",
    "Welcome to the NLP Project for this section of the course. In this NLP project you will be attempting to classify Yelp Reviews into 1 star or 5 star categories based off the text content in the reviews. This will be a simpler procedure than the lecture, since we will utilize the pipeline methods for more complex tasks.\n",
    "\n",
    "We will use the [Yelp Review Data Set from Kaggle](https://www.kaggle.com/c/yelp-recsys-2013).\n",
    "\n",
    "\n",
    "**Необходимо классифицировать отзывы, анализируя текст, положительный он или отрицательный**\n",
    "\n",
    "**Data descr:**\n",
    "\n",
    "Each observation in this dataset is a review of a particular business by a particular user.\n",
    "\n",
    "The \"stars\" column is the number of stars (1 through 5) assigned by the reviewer to the business. (Higher stars is better.) In other words, it is the rating of the business by the person who wrote the review.\n",
    "\n",
    "The \"cool\" column is the number of \"cool\" votes this review received from other Yelp users. \n",
    "\n",
    "All reviews start with 0 \"cool\" votes, and there is no limit to how many \"cool\" votes a review can receive. In other words, it is a rating of the review itself, not a rating of the business.\n",
    "\n",
    "The \"useful\" and \"funny\" columns are similar to the \"cool\" column.\n",
    "\n",
    "Let's get started! Just follow the directions below!"
   ]
  },
  {
   "cell_type": "markdown",
   "metadata": {},
   "source": [
    "## Imports\n"
   ]
  },
  {
   "cell_type": "code",
   "execution_count": 1,
   "metadata": {},
   "outputs": [],
   "source": [
    "import numpy as np\n",
    "import pandas as pd\n",
    "import matplotlib.pyplot as plt\n",
    "import seaborn as sns\n",
    "%matplotlib inline"
   ]
  },
  {
   "cell_type": "markdown",
   "metadata": {},
   "source": [
    "## Get the Data\n"
   ]
  },
  {
   "cell_type": "code",
   "execution_count": 2,
   "metadata": {},
   "outputs": [],
   "source": [
    "yelp=pd.read_csv('yelp.csv')"
   ]
  },
  {
   "cell_type": "code",
   "execution_count": 3,
   "metadata": {},
   "outputs": [
    {
     "data": {
      "text/html": [
       "<div>\n",
       "<style scoped>\n",
       "    .dataframe tbody tr th:only-of-type {\n",
       "        vertical-align: middle;\n",
       "    }\n",
       "\n",
       "    .dataframe tbody tr th {\n",
       "        vertical-align: top;\n",
       "    }\n",
       "\n",
       "    .dataframe thead th {\n",
       "        text-align: right;\n",
       "    }\n",
       "</style>\n",
       "<table border=\"1\" class=\"dataframe\">\n",
       "  <thead>\n",
       "    <tr style=\"text-align: right;\">\n",
       "      <th></th>\n",
       "      <th>business_id</th>\n",
       "      <th>date</th>\n",
       "      <th>review_id</th>\n",
       "      <th>stars</th>\n",
       "      <th>text</th>\n",
       "      <th>type</th>\n",
       "      <th>user_id</th>\n",
       "      <th>cool</th>\n",
       "      <th>useful</th>\n",
       "      <th>funny</th>\n",
       "    </tr>\n",
       "  </thead>\n",
       "  <tbody>\n",
       "    <tr>\n",
       "      <th>0</th>\n",
       "      <td>9yKzy9PApeiPPOUJEtnvkg</td>\n",
       "      <td>2011-01-26</td>\n",
       "      <td>fWKvX83p0-ka4JS3dc6E5A</td>\n",
       "      <td>5</td>\n",
       "      <td>My wife took me here on my birthday for breakf...</td>\n",
       "      <td>review</td>\n",
       "      <td>rLtl8ZkDX5vH5nAx9C3q5Q</td>\n",
       "      <td>2</td>\n",
       "      <td>5</td>\n",
       "      <td>0</td>\n",
       "    </tr>\n",
       "    <tr>\n",
       "      <th>1</th>\n",
       "      <td>ZRJwVLyzEJq1VAihDhYiow</td>\n",
       "      <td>2011-07-27</td>\n",
       "      <td>IjZ33sJrzXqU-0X6U8NwyA</td>\n",
       "      <td>5</td>\n",
       "      <td>I have no idea why some people give bad review...</td>\n",
       "      <td>review</td>\n",
       "      <td>0a2KyEL0d3Yb1V6aivbIuQ</td>\n",
       "      <td>0</td>\n",
       "      <td>0</td>\n",
       "      <td>0</td>\n",
       "    </tr>\n",
       "    <tr>\n",
       "      <th>2</th>\n",
       "      <td>6oRAC4uyJCsJl1X0WZpVSA</td>\n",
       "      <td>2012-06-14</td>\n",
       "      <td>IESLBzqUCLdSzSqm0eCSxQ</td>\n",
       "      <td>4</td>\n",
       "      <td>love the gyro plate. Rice is so good and I als...</td>\n",
       "      <td>review</td>\n",
       "      <td>0hT2KtfLiobPvh6cDC8JQg</td>\n",
       "      <td>0</td>\n",
       "      <td>1</td>\n",
       "      <td>0</td>\n",
       "    </tr>\n",
       "    <tr>\n",
       "      <th>3</th>\n",
       "      <td>_1QQZuf4zZOyFCvXc0o6Vg</td>\n",
       "      <td>2010-05-27</td>\n",
       "      <td>G-WvGaISbqqaMHlNnByodA</td>\n",
       "      <td>5</td>\n",
       "      <td>Rosie, Dakota, and I LOVE Chaparral Dog Park!!...</td>\n",
       "      <td>review</td>\n",
       "      <td>uZetl9T0NcROGOyFfughhg</td>\n",
       "      <td>1</td>\n",
       "      <td>2</td>\n",
       "      <td>0</td>\n",
       "    </tr>\n",
       "    <tr>\n",
       "      <th>4</th>\n",
       "      <td>6ozycU1RpktNG2-1BroVtw</td>\n",
       "      <td>2012-01-05</td>\n",
       "      <td>1uJFq2r5QfJG_6ExMRCaGw</td>\n",
       "      <td>5</td>\n",
       "      <td>General Manager Scott Petello is a good egg!!!...</td>\n",
       "      <td>review</td>\n",
       "      <td>vYmM4KTsC8ZfQBg-j5MWkw</td>\n",
       "      <td>0</td>\n",
       "      <td>0</td>\n",
       "      <td>0</td>\n",
       "    </tr>\n",
       "  </tbody>\n",
       "</table>\n",
       "</div>"
      ],
      "text/plain": [
       "              business_id        date               review_id  stars  \\\n",
       "0  9yKzy9PApeiPPOUJEtnvkg  2011-01-26  fWKvX83p0-ka4JS3dc6E5A      5   \n",
       "1  ZRJwVLyzEJq1VAihDhYiow  2011-07-27  IjZ33sJrzXqU-0X6U8NwyA      5   \n",
       "2  6oRAC4uyJCsJl1X0WZpVSA  2012-06-14  IESLBzqUCLdSzSqm0eCSxQ      4   \n",
       "3  _1QQZuf4zZOyFCvXc0o6Vg  2010-05-27  G-WvGaISbqqaMHlNnByodA      5   \n",
       "4  6ozycU1RpktNG2-1BroVtw  2012-01-05  1uJFq2r5QfJG_6ExMRCaGw      5   \n",
       "\n",
       "                                                text    type  \\\n",
       "0  My wife took me here on my birthday for breakf...  review   \n",
       "1  I have no idea why some people give bad review...  review   \n",
       "2  love the gyro plate. Rice is so good and I als...  review   \n",
       "3  Rosie, Dakota, and I LOVE Chaparral Dog Park!!...  review   \n",
       "4  General Manager Scott Petello is a good egg!!!...  review   \n",
       "\n",
       "                  user_id  cool  useful  funny  \n",
       "0  rLtl8ZkDX5vH5nAx9C3q5Q     2       5      0  \n",
       "1  0a2KyEL0d3Yb1V6aivbIuQ     0       0      0  \n",
       "2  0hT2KtfLiobPvh6cDC8JQg     0       1      0  \n",
       "3  uZetl9T0NcROGOyFfughhg     1       2      0  \n",
       "4  vYmM4KTsC8ZfQBg-j5MWkw     0       0      0  "
      ]
     },
     "execution_count": 3,
     "metadata": {},
     "output_type": "execute_result"
    }
   ],
   "source": [
    "yelp.head()"
   ]
  },
  {
   "cell_type": "code",
   "execution_count": 4,
   "metadata": {},
   "outputs": [
    {
     "name": "stdout",
     "output_type": "stream",
     "text": [
      "<class 'pandas.core.frame.DataFrame'>\n",
      "RangeIndex: 10000 entries, 0 to 9999\n",
      "Data columns (total 10 columns):\n",
      " #   Column       Non-Null Count  Dtype \n",
      "---  ------       --------------  ----- \n",
      " 0   business_id  10000 non-null  object\n",
      " 1   date         10000 non-null  object\n",
      " 2   review_id    10000 non-null  object\n",
      " 3   stars        10000 non-null  int64 \n",
      " 4   text         10000 non-null  object\n",
      " 5   type         10000 non-null  object\n",
      " 6   user_id      10000 non-null  object\n",
      " 7   cool         10000 non-null  int64 \n",
      " 8   useful       10000 non-null  int64 \n",
      " 9   funny        10000 non-null  int64 \n",
      "dtypes: int64(4), object(6)\n",
      "memory usage: 781.4+ KB\n"
     ]
    }
   ],
   "source": [
    "yelp.info()"
   ]
  },
  {
   "cell_type": "code",
   "execution_count": 5,
   "metadata": {},
   "outputs": [
    {
     "data": {
      "text/html": [
       "<div>\n",
       "<style scoped>\n",
       "    .dataframe tbody tr th:only-of-type {\n",
       "        vertical-align: middle;\n",
       "    }\n",
       "\n",
       "    .dataframe tbody tr th {\n",
       "        vertical-align: top;\n",
       "    }\n",
       "\n",
       "    .dataframe thead th {\n",
       "        text-align: right;\n",
       "    }\n",
       "</style>\n",
       "<table border=\"1\" class=\"dataframe\">\n",
       "  <thead>\n",
       "    <tr style=\"text-align: right;\">\n",
       "      <th></th>\n",
       "      <th>stars</th>\n",
       "      <th>cool</th>\n",
       "      <th>useful</th>\n",
       "      <th>funny</th>\n",
       "    </tr>\n",
       "  </thead>\n",
       "  <tbody>\n",
       "    <tr>\n",
       "      <th>count</th>\n",
       "      <td>10000.000000</td>\n",
       "      <td>10000.000000</td>\n",
       "      <td>10000.000000</td>\n",
       "      <td>10000.000000</td>\n",
       "    </tr>\n",
       "    <tr>\n",
       "      <th>mean</th>\n",
       "      <td>3.777500</td>\n",
       "      <td>0.876800</td>\n",
       "      <td>1.409300</td>\n",
       "      <td>0.701300</td>\n",
       "    </tr>\n",
       "    <tr>\n",
       "      <th>std</th>\n",
       "      <td>1.214636</td>\n",
       "      <td>2.067861</td>\n",
       "      <td>2.336647</td>\n",
       "      <td>1.907942</td>\n",
       "    </tr>\n",
       "    <tr>\n",
       "      <th>min</th>\n",
       "      <td>1.000000</td>\n",
       "      <td>0.000000</td>\n",
       "      <td>0.000000</td>\n",
       "      <td>0.000000</td>\n",
       "    </tr>\n",
       "    <tr>\n",
       "      <th>25%</th>\n",
       "      <td>3.000000</td>\n",
       "      <td>0.000000</td>\n",
       "      <td>0.000000</td>\n",
       "      <td>0.000000</td>\n",
       "    </tr>\n",
       "    <tr>\n",
       "      <th>50%</th>\n",
       "      <td>4.000000</td>\n",
       "      <td>0.000000</td>\n",
       "      <td>1.000000</td>\n",
       "      <td>0.000000</td>\n",
       "    </tr>\n",
       "    <tr>\n",
       "      <th>75%</th>\n",
       "      <td>5.000000</td>\n",
       "      <td>1.000000</td>\n",
       "      <td>2.000000</td>\n",
       "      <td>1.000000</td>\n",
       "    </tr>\n",
       "    <tr>\n",
       "      <th>max</th>\n",
       "      <td>5.000000</td>\n",
       "      <td>77.000000</td>\n",
       "      <td>76.000000</td>\n",
       "      <td>57.000000</td>\n",
       "    </tr>\n",
       "  </tbody>\n",
       "</table>\n",
       "</div>"
      ],
      "text/plain": [
       "              stars          cool        useful         funny\n",
       "count  10000.000000  10000.000000  10000.000000  10000.000000\n",
       "mean       3.777500      0.876800      1.409300      0.701300\n",
       "std        1.214636      2.067861      2.336647      1.907942\n",
       "min        1.000000      0.000000      0.000000      0.000000\n",
       "25%        3.000000      0.000000      0.000000      0.000000\n",
       "50%        4.000000      0.000000      1.000000      0.000000\n",
       "75%        5.000000      1.000000      2.000000      1.000000\n",
       "max        5.000000     77.000000     76.000000     57.000000"
      ]
     },
     "execution_count": 5,
     "metadata": {},
     "output_type": "execute_result"
    }
   ],
   "source": [
    "yelp.describe()"
   ]
  },
  {
   "cell_type": "markdown",
   "metadata": {},
   "source": [
    "**Создадим столбец с длинной каждого отзыва для дальнейшего исследования данных.**"
   ]
  },
  {
   "cell_type": "code",
   "execution_count": 15,
   "metadata": {},
   "outputs": [
    {
     "data": {
      "text/html": [
       "<div>\n",
       "<style scoped>\n",
       "    .dataframe tbody tr th:only-of-type {\n",
       "        vertical-align: middle;\n",
       "    }\n",
       "\n",
       "    .dataframe tbody tr th {\n",
       "        vertical-align: top;\n",
       "    }\n",
       "\n",
       "    .dataframe thead th {\n",
       "        text-align: right;\n",
       "    }\n",
       "</style>\n",
       "<table border=\"1\" class=\"dataframe\">\n",
       "  <thead>\n",
       "    <tr style=\"text-align: right;\">\n",
       "      <th></th>\n",
       "      <th>business_id</th>\n",
       "      <th>date</th>\n",
       "      <th>review_id</th>\n",
       "      <th>stars</th>\n",
       "      <th>text</th>\n",
       "      <th>type</th>\n",
       "      <th>user_id</th>\n",
       "      <th>cool</th>\n",
       "      <th>useful</th>\n",
       "      <th>funny</th>\n",
       "      <th>text length</th>\n",
       "    </tr>\n",
       "  </thead>\n",
       "  <tbody>\n",
       "    <tr>\n",
       "      <th>0</th>\n",
       "      <td>9yKzy9PApeiPPOUJEtnvkg</td>\n",
       "      <td>2011-01-26</td>\n",
       "      <td>fWKvX83p0-ka4JS3dc6E5A</td>\n",
       "      <td>5</td>\n",
       "      <td>My wife took me here on my birthday for breakf...</td>\n",
       "      <td>review</td>\n",
       "      <td>rLtl8ZkDX5vH5nAx9C3q5Q</td>\n",
       "      <td>2</td>\n",
       "      <td>5</td>\n",
       "      <td>0</td>\n",
       "      <td>889</td>\n",
       "    </tr>\n",
       "    <tr>\n",
       "      <th>1</th>\n",
       "      <td>ZRJwVLyzEJq1VAihDhYiow</td>\n",
       "      <td>2011-07-27</td>\n",
       "      <td>IjZ33sJrzXqU-0X6U8NwyA</td>\n",
       "      <td>5</td>\n",
       "      <td>I have no idea why some people give bad review...</td>\n",
       "      <td>review</td>\n",
       "      <td>0a2KyEL0d3Yb1V6aivbIuQ</td>\n",
       "      <td>0</td>\n",
       "      <td>0</td>\n",
       "      <td>0</td>\n",
       "      <td>1345</td>\n",
       "    </tr>\n",
       "    <tr>\n",
       "      <th>2</th>\n",
       "      <td>6oRAC4uyJCsJl1X0WZpVSA</td>\n",
       "      <td>2012-06-14</td>\n",
       "      <td>IESLBzqUCLdSzSqm0eCSxQ</td>\n",
       "      <td>4</td>\n",
       "      <td>love the gyro plate. Rice is so good and I als...</td>\n",
       "      <td>review</td>\n",
       "      <td>0hT2KtfLiobPvh6cDC8JQg</td>\n",
       "      <td>0</td>\n",
       "      <td>1</td>\n",
       "      <td>0</td>\n",
       "      <td>76</td>\n",
       "    </tr>\n",
       "    <tr>\n",
       "      <th>3</th>\n",
       "      <td>_1QQZuf4zZOyFCvXc0o6Vg</td>\n",
       "      <td>2010-05-27</td>\n",
       "      <td>G-WvGaISbqqaMHlNnByodA</td>\n",
       "      <td>5</td>\n",
       "      <td>Rosie, Dakota, and I LOVE Chaparral Dog Park!!...</td>\n",
       "      <td>review</td>\n",
       "      <td>uZetl9T0NcROGOyFfughhg</td>\n",
       "      <td>1</td>\n",
       "      <td>2</td>\n",
       "      <td>0</td>\n",
       "      <td>419</td>\n",
       "    </tr>\n",
       "    <tr>\n",
       "      <th>4</th>\n",
       "      <td>6ozycU1RpktNG2-1BroVtw</td>\n",
       "      <td>2012-01-05</td>\n",
       "      <td>1uJFq2r5QfJG_6ExMRCaGw</td>\n",
       "      <td>5</td>\n",
       "      <td>General Manager Scott Petello is a good egg!!!...</td>\n",
       "      <td>review</td>\n",
       "      <td>vYmM4KTsC8ZfQBg-j5MWkw</td>\n",
       "      <td>0</td>\n",
       "      <td>0</td>\n",
       "      <td>0</td>\n",
       "      <td>469</td>\n",
       "    </tr>\n",
       "  </tbody>\n",
       "</table>\n",
       "</div>"
      ],
      "text/plain": [
       "              business_id        date               review_id  stars  \\\n",
       "0  9yKzy9PApeiPPOUJEtnvkg  2011-01-26  fWKvX83p0-ka4JS3dc6E5A      5   \n",
       "1  ZRJwVLyzEJq1VAihDhYiow  2011-07-27  IjZ33sJrzXqU-0X6U8NwyA      5   \n",
       "2  6oRAC4uyJCsJl1X0WZpVSA  2012-06-14  IESLBzqUCLdSzSqm0eCSxQ      4   \n",
       "3  _1QQZuf4zZOyFCvXc0o6Vg  2010-05-27  G-WvGaISbqqaMHlNnByodA      5   \n",
       "4  6ozycU1RpktNG2-1BroVtw  2012-01-05  1uJFq2r5QfJG_6ExMRCaGw      5   \n",
       "\n",
       "                                                text    type  \\\n",
       "0  My wife took me here on my birthday for breakf...  review   \n",
       "1  I have no idea why some people give bad review...  review   \n",
       "2  love the gyro plate. Rice is so good and I als...  review   \n",
       "3  Rosie, Dakota, and I LOVE Chaparral Dog Park!!...  review   \n",
       "4  General Manager Scott Petello is a good egg!!!...  review   \n",
       "\n",
       "                  user_id  cool  useful  funny  text length  \n",
       "0  rLtl8ZkDX5vH5nAx9C3q5Q     2       5      0          889  \n",
       "1  0a2KyEL0d3Yb1V6aivbIuQ     0       0      0         1345  \n",
       "2  0hT2KtfLiobPvh6cDC8JQg     0       1      0           76  \n",
       "3  uZetl9T0NcROGOyFfughhg     1       2      0          419  \n",
       "4  vYmM4KTsC8ZfQBg-j5MWkw     0       0      0          469  "
      ]
     },
     "execution_count": 15,
     "metadata": {},
     "output_type": "execute_result"
    }
   ],
   "source": [
    "yelp['text length'] = yelp['text'].apply(len)\n",
    "yelp.head()"
   ]
  },
  {
   "cell_type": "code",
   "execution_count": 16,
   "metadata": {},
   "outputs": [],
   "source": [
    "#def splt(mess):\n",
    " #   return mess.split()\n",
    "#yelp['text length']=yelp['text'].apply(splt).apply(len)\n",
    "#yelp.head()"
   ]
  },
  {
   "cell_type": "markdown",
   "metadata": {},
   "source": [
    "# Exploration."
   ]
  },
  {
   "cell_type": "code",
   "execution_count": 7,
   "metadata": {},
   "outputs": [
    {
     "data": {
      "text/plain": [
       "<seaborn.axisgrid.FacetGrid at 0x1a06e1b1340>"
      ]
     },
     "execution_count": 7,
     "metadata": {},
     "output_type": "execute_result"
    },
    {
     "data": {
      "image/png": "[encoded data removed]",
      "text/plain": [
       "<Figure size 1080x216 with 5 Axes>"
      ]
     },
     "metadata": {
      "needs_background": "light"
     },
     "output_type": "display_data"
    }
   ],
   "source": [
    "g = sns.FacetGrid(yelp,col='stars')\n",
    "g.map(plt.hist,'text length')"
   ]
  },
  {
   "cell_type": "code",
   "execution_count": 17,
   "metadata": {},
   "outputs": [
    {
     "data": {
      "text/plain": [
       "<AxesSubplot:xlabel='stars', ylabel='text length'>"
      ]
     },
     "execution_count": 17,
     "metadata": {},
     "output_type": "execute_result"
    },
    {
     "data": {
      "image/png": "[encoded data removed]",
      "text/plain": [
       "<Figure size 864x432 with 1 Axes>"
      ]
     },
     "metadata": {
      "needs_background": "light"
     },
     "output_type": "display_data"
    }
   ],
   "source": [
    "plt.figure(figsize=(12,6))\n",
    "sns.boxplot(x='stars',y='text length',data=yelp)"
   ]
  },
  {
   "cell_type": "code",
   "execution_count": 9,
   "metadata": {},
   "outputs": [
    {
     "data": {
      "text/plain": [
       "<AxesSubplot:xlabel='stars', ylabel='count'>"
      ]
     },
     "execution_count": 9,
     "metadata": {},
     "output_type": "execute_result"
    },
    {
     "data": {
      "image/png": "[encoded data removed]",
      "text/plain": [
       "<Figure size 432x288 with 1 Axes>"
      ]
     },
     "metadata": {
      "needs_background": "light"
     },
     "output_type": "display_data"
    }
   ],
   "source": [
    "sns.countplot(x='stars',data=yelp)"
   ]
  },
  {
   "cell_type": "code",
   "execution_count": 10,
   "metadata": {},
   "outputs": [
    {
     "data": {
      "text/html": [
       "<div>\n",
       "<style scoped>\n",
       "    .dataframe tbody tr th:only-of-type {\n",
       "        vertical-align: middle;\n",
       "    }\n",
       "\n",
       "    .dataframe tbody tr th {\n",
       "        vertical-align: top;\n",
       "    }\n",
       "\n",
       "    .dataframe thead th {\n",
       "        text-align: right;\n",
       "    }\n",
       "</style>\n",
       "<table border=\"1\" class=\"dataframe\">\n",
       "  <thead>\n",
       "    <tr style=\"text-align: right;\">\n",
       "      <th></th>\n",
       "      <th>cool</th>\n",
       "      <th>useful</th>\n",
       "      <th>funny</th>\n",
       "      <th>text length</th>\n",
       "    </tr>\n",
       "    <tr>\n",
       "      <th>stars</th>\n",
       "      <th></th>\n",
       "      <th></th>\n",
       "      <th></th>\n",
       "      <th></th>\n",
       "    </tr>\n",
       "  </thead>\n",
       "  <tbody>\n",
       "    <tr>\n",
       "      <th>1</th>\n",
       "      <td>0.576769</td>\n",
       "      <td>1.604806</td>\n",
       "      <td>1.056075</td>\n",
       "      <td>153.953271</td>\n",
       "    </tr>\n",
       "    <tr>\n",
       "      <th>2</th>\n",
       "      <td>0.719525</td>\n",
       "      <td>1.563107</td>\n",
       "      <td>0.875944</td>\n",
       "      <td>156.435814</td>\n",
       "    </tr>\n",
       "    <tr>\n",
       "      <th>3</th>\n",
       "      <td>0.788501</td>\n",
       "      <td>1.306639</td>\n",
       "      <td>0.694730</td>\n",
       "      <td>140.714579</td>\n",
       "    </tr>\n",
       "    <tr>\n",
       "      <th>4</th>\n",
       "      <td>0.954623</td>\n",
       "      <td>1.395916</td>\n",
       "      <td>0.670448</td>\n",
       "      <td>131.174135</td>\n",
       "    </tr>\n",
       "    <tr>\n",
       "      <th>5</th>\n",
       "      <td>0.944261</td>\n",
       "      <td>1.381780</td>\n",
       "      <td>0.608631</td>\n",
       "      <td>114.463590</td>\n",
       "    </tr>\n",
       "  </tbody>\n",
       "</table>\n",
       "</div>"
      ],
      "text/plain": [
       "           cool    useful     funny  text length\n",
       "stars                                           \n",
       "1      0.576769  1.604806  1.056075   153.953271\n",
       "2      0.719525  1.563107  0.875944   156.435814\n",
       "3      0.788501  1.306639  0.694730   140.714579\n",
       "4      0.954623  1.395916  0.670448   131.174135\n",
       "5      0.944261  1.381780  0.608631   114.463590"
      ]
     },
     "execution_count": 10,
     "metadata": {},
     "output_type": "execute_result"
    }
   ],
   "source": [
    "stars = yelp.groupby('stars').mean()\n",
    "stars"
   ]
  },
  {
   "cell_type": "code",
   "execution_count": 12,
   "metadata": {},
   "outputs": [
    {
     "data": {
      "text/html": [
       "<div>\n",
       "<style scoped>\n",
       "    .dataframe tbody tr th:only-of-type {\n",
       "        vertical-align: middle;\n",
       "    }\n",
       "\n",
       "    .dataframe tbody tr th {\n",
       "        vertical-align: top;\n",
       "    }\n",
       "\n",
       "    .dataframe thead th {\n",
       "        text-align: right;\n",
       "    }\n",
       "</style>\n",
       "<table border=\"1\" class=\"dataframe\">\n",
       "  <thead>\n",
       "    <tr style=\"text-align: right;\">\n",
       "      <th></th>\n",
       "      <th>cool</th>\n",
       "      <th>useful</th>\n",
       "      <th>funny</th>\n",
       "      <th>text length</th>\n",
       "    </tr>\n",
       "  </thead>\n",
       "  <tbody>\n",
       "    <tr>\n",
       "      <th>cool</th>\n",
       "      <td>1.000000</td>\n",
       "      <td>-0.743329</td>\n",
       "      <td>-0.944939</td>\n",
       "      <td>-0.865362</td>\n",
       "    </tr>\n",
       "    <tr>\n",
       "      <th>useful</th>\n",
       "      <td>-0.743329</td>\n",
       "      <td>1.000000</td>\n",
       "      <td>0.894506</td>\n",
       "      <td>0.697506</td>\n",
       "    </tr>\n",
       "    <tr>\n",
       "      <th>funny</th>\n",
       "      <td>-0.944939</td>\n",
       "      <td>0.894506</td>\n",
       "      <td>1.000000</td>\n",
       "      <td>0.847204</td>\n",
       "    </tr>\n",
       "    <tr>\n",
       "      <th>text length</th>\n",
       "      <td>-0.865362</td>\n",
       "      <td>0.697506</td>\n",
       "      <td>0.847204</td>\n",
       "      <td>1.000000</td>\n",
       "    </tr>\n",
       "  </tbody>\n",
       "</table>\n",
       "</div>"
      ],
      "text/plain": [
       "                 cool    useful     funny  text length\n",
       "cool         1.000000 -0.743329 -0.944939    -0.865362\n",
       "useful      -0.743329  1.000000  0.894506     0.697506\n",
       "funny       -0.944939  0.894506  1.000000     0.847204\n",
       "text length -0.865362  0.697506  0.847204     1.000000"
      ]
     },
     "execution_count": 12,
     "metadata": {},
     "output_type": "execute_result"
    }
   ],
   "source": [
    "stars_corr = stars.corr()\n",
    "stars_corr"
   ]
  },
  {
   "cell_type": "code",
   "execution_count": 17,
   "metadata": {},
   "outputs": [
    {
     "data": {
      "text/plain": [
       "<AxesSubplot:>"
      ]
     },
     "execution_count": 17,
     "metadata": {},
     "output_type": "execute_result"
    },
    {
     "data": {
      "image/png": "[encoded data removed]",
      "text/plain": [
       "<Figure size 432x288 with 2 Axes>"
      ]
     },
     "metadata": {
      "needs_background": "light"
     },
     "output_type": "display_data"
    }
   ],
   "source": [
    "sns.heatmap(stars_corr,cmap='coolwarm',annot=True)"
   ]
  },
  {
   "cell_type": "markdown",
   "metadata": {},
   "source": [
    "## NLP Classification Task\n",
    "\n",
    "Создадим таблицу только из отзывов на 5 звёзд и 1 звезду "
   ]
  },
  {
   "cell_type": "code",
   "execution_count": 36,
   "metadata": {},
   "outputs": [
    {
     "data": {
      "text/html": [
       "<div>\n",
       "<style scoped>\n",
       "    .dataframe tbody tr th:only-of-type {\n",
       "        vertical-align: middle;\n",
       "    }\n",
       "\n",
       "    .dataframe tbody tr th {\n",
       "        vertical-align: top;\n",
       "    }\n",
       "\n",
       "    .dataframe thead th {\n",
       "        text-align: right;\n",
       "    }\n",
       "</style>\n",
       "<table border=\"1\" class=\"dataframe\">\n",
       "  <thead>\n",
       "    <tr style=\"text-align: right;\">\n",
       "      <th></th>\n",
       "      <th>business_id</th>\n",
       "      <th>date</th>\n",
       "      <th>review_id</th>\n",
       "      <th>stars</th>\n",
       "      <th>text</th>\n",
       "      <th>type</th>\n",
       "      <th>user_id</th>\n",
       "      <th>cool</th>\n",
       "      <th>useful</th>\n",
       "      <th>funny</th>\n",
       "      <th>text length</th>\n",
       "    </tr>\n",
       "  </thead>\n",
       "  <tbody>\n",
       "    <tr>\n",
       "      <th>0</th>\n",
       "      <td>9yKzy9PApeiPPOUJEtnvkg</td>\n",
       "      <td>2011-01-26</td>\n",
       "      <td>fWKvX83p0-ka4JS3dc6E5A</td>\n",
       "      <td>5</td>\n",
       "      <td>My wife took me here on my birthday for breakf...</td>\n",
       "      <td>review</td>\n",
       "      <td>rLtl8ZkDX5vH5nAx9C3q5Q</td>\n",
       "      <td>2</td>\n",
       "      <td>5</td>\n",
       "      <td>0</td>\n",
       "      <td>889</td>\n",
       "    </tr>\n",
       "    <tr>\n",
       "      <th>1</th>\n",
       "      <td>ZRJwVLyzEJq1VAihDhYiow</td>\n",
       "      <td>2011-07-27</td>\n",
       "      <td>IjZ33sJrzXqU-0X6U8NwyA</td>\n",
       "      <td>5</td>\n",
       "      <td>I have no idea why some people give bad review...</td>\n",
       "      <td>review</td>\n",
       "      <td>0a2KyEL0d3Yb1V6aivbIuQ</td>\n",
       "      <td>0</td>\n",
       "      <td>0</td>\n",
       "      <td>0</td>\n",
       "      <td>1345</td>\n",
       "    </tr>\n",
       "    <tr>\n",
       "      <th>3</th>\n",
       "      <td>_1QQZuf4zZOyFCvXc0o6Vg</td>\n",
       "      <td>2010-05-27</td>\n",
       "      <td>G-WvGaISbqqaMHlNnByodA</td>\n",
       "      <td>5</td>\n",
       "      <td>Rosie, Dakota, and I LOVE Chaparral Dog Park!!...</td>\n",
       "      <td>review</td>\n",
       "      <td>uZetl9T0NcROGOyFfughhg</td>\n",
       "      <td>1</td>\n",
       "      <td>2</td>\n",
       "      <td>0</td>\n",
       "      <td>419</td>\n",
       "    </tr>\n",
       "    <tr>\n",
       "      <th>4</th>\n",
       "      <td>6ozycU1RpktNG2-1BroVtw</td>\n",
       "      <td>2012-01-05</td>\n",
       "      <td>1uJFq2r5QfJG_6ExMRCaGw</td>\n",
       "      <td>5</td>\n",
       "      <td>General Manager Scott Petello is a good egg!!!...</td>\n",
       "      <td>review</td>\n",
       "      <td>vYmM4KTsC8ZfQBg-j5MWkw</td>\n",
       "      <td>0</td>\n",
       "      <td>0</td>\n",
       "      <td>0</td>\n",
       "      <td>469</td>\n",
       "    </tr>\n",
       "    <tr>\n",
       "      <th>6</th>\n",
       "      <td>zp713qNhx8d9KCJJnrw1xA</td>\n",
       "      <td>2010-02-12</td>\n",
       "      <td>riFQ3vxNpP4rWLk_CSri2A</td>\n",
       "      <td>5</td>\n",
       "      <td>Drop what you're doing and drive here. After I...</td>\n",
       "      <td>review</td>\n",
       "      <td>wFweIWhv2fREZV_dYkz_1g</td>\n",
       "      <td>7</td>\n",
       "      <td>7</td>\n",
       "      <td>4</td>\n",
       "      <td>1565</td>\n",
       "    </tr>\n",
       "  </tbody>\n",
       "</table>\n",
       "</div>"
      ],
      "text/plain": [
       "              business_id        date               review_id  stars  \\\n",
       "0  9yKzy9PApeiPPOUJEtnvkg  2011-01-26  fWKvX83p0-ka4JS3dc6E5A      5   \n",
       "1  ZRJwVLyzEJq1VAihDhYiow  2011-07-27  IjZ33sJrzXqU-0X6U8NwyA      5   \n",
       "3  _1QQZuf4zZOyFCvXc0o6Vg  2010-05-27  G-WvGaISbqqaMHlNnByodA      5   \n",
       "4  6ozycU1RpktNG2-1BroVtw  2012-01-05  1uJFq2r5QfJG_6ExMRCaGw      5   \n",
       "6  zp713qNhx8d9KCJJnrw1xA  2010-02-12  riFQ3vxNpP4rWLk_CSri2A      5   \n",
       "\n",
       "                                                text    type  \\\n",
       "0  My wife took me here on my birthday for breakf...  review   \n",
       "1  I have no idea why some people give bad review...  review   \n",
       "3  Rosie, Dakota, and I LOVE Chaparral Dog Park!!...  review   \n",
       "4  General Manager Scott Petello is a good egg!!!...  review   \n",
       "6  Drop what you're doing and drive here. After I...  review   \n",
       "\n",
       "                  user_id  cool  useful  funny  text length  \n",
       "0  rLtl8ZkDX5vH5nAx9C3q5Q     2       5      0          889  \n",
       "1  0a2KyEL0d3Yb1V6aivbIuQ     0       0      0         1345  \n",
       "3  uZetl9T0NcROGOyFfughhg     1       2      0          419  \n",
       "4  vYmM4KTsC8ZfQBg-j5MWkw     0       0      0          469  \n",
       "6  wFweIWhv2fREZV_dYkz_1g     7       7      4         1565  "
      ]
     },
     "execution_count": 36,
     "metadata": {},
     "output_type": "execute_result"
    }
   ],
   "source": [
    "yelp_class = yelp[(yelp.stars==1) | (yelp.stars==5)]\n",
    "yelp_class.head()"
   ]
  },
  {
   "cell_type": "code",
   "execution_count": 37,
   "metadata": {},
   "outputs": [],
   "source": [
    "X=yelp_class['text']\n",
    "y=yelp_class['stars']"
   ]
  },
  {
   "cell_type": "markdown",
   "metadata": {},
   "source": [
    "**Создадим разрежённую матрицу, \"мешок слов\".**"
   ]
  },
  {
   "cell_type": "code",
   "execution_count": 38,
   "metadata": {},
   "outputs": [],
   "source": [
    "from sklearn.feature_extraction.text import CountVectorizer\n",
    "cv=CountVectorizer()"
   ]
  },
  {
   "cell_type": "code",
   "execution_count": 39,
   "metadata": {},
   "outputs": [
    {
     "name": "stdout",
     "output_type": "stream",
     "text": [
      "['00', '000', '00a', '00am', '00pm', '01', '02', '03', '03342', '04', '05', '06', '07', '09', '0buxoc0crqjpvkezo3bqog', '0l', '10', '100', '1000', '1000x', '1001', '100s', '100th', '101', '102', '1030', '105', '1070', '108', '109', '10am', '10ish', '10min', '10mins', '10minutes', '10pm', '10th', '10x', '10yo', '11', '110', '1100', '111', '111th', '112', '115', '115th', '116', '118', '11a', '11am', '11p', '11pm', '12', '120', '128i', '129', '12am', '12oz', '12pm', '12th', '13', '1300', '13331', '13th', '14', '140', '147', '14lbs', '15', '150', '1500', '150mm', '157', '15am', '15mins', '15pm', '15th', '16', '160', '165', '169', '16th', '17', '175', '17p', '17th', '18', '180', '1800', '1895', '18th', '19', '1900', '1913', '1928', '1929', '1930s', '1940', '1952', '1955', '1956', '1960', '1961', '1968', '1969', '1970', '1978', '1980', '1980s', '1987', '1990', '1990s', '1992', '1995', '1996', '1997', '1998', '1999', '19th', '1cent', '1k', '1p', '1pm', '1st', '20', '200', '2002', '2003', '2004', '2005', '2006', '2007', '2008', '2009', '200lbs', '2010', '2011', '2012', '202', '20mbs', '20miles', '20min', '20minutes', '20pm', '20s', '20th', '20x', '21', '21st', '22', '220', '2240', '22oz', '23', '24', '24hrs', '24st', '24th', '25', '250', '25b', '25min', '25th', '26', '260', '2600', '2608', '2669', '26th', '27', '272', '27th', '28', '29', '29th', '2am', '2mbps', '2nd', '2pm', '2rd', '2wice', '2x', '30', '300', '3000', '30am', '30ish', '30p', '30pm', '30s', '30th', '31', '311', '312', '316', '32', '33', '33rd', '34', '34th', '35', '350', '350ib', '35c', '35th', '36', '37', '370', '38', '38th', '39', '39th', '3am', '3d', '3g', '3k', '3lbs', '3n9u549zse8up', '3p', '3pm', '3rd', '3x', '40', '400', '4000', '400s', '40ish', '40lm', '40min', '40th', '41', '411', '4113416766', '42', '420', '43', '44', '4458', '44th', '45', '453990', '45min', '45pm', '46', '4655', '46th', '475', '48', '480', '48th', '49', '490', '4b', '4cxbhzxxtmexf9krjmfviq', '4hr', '4ish', '4pm', '4th', '4x6', '50', '500', '50cents', '50lm', '50s', '51', '51pm', '52', '5231', '53', '53pm', '54', '547', '55', '56', '57', '59', '59th', '5k', '5min', '5p', '5pm', '5stars', '5th', '5yo', '60', '600', '6000', '602', '60miles', '60s', '61', '61st', '62010', '623', '63', '630am', '64', '64th', '65', '66', '6600', '67', '68', '680', '69', '6am', '6p', '6pm', '6th', '70', '700', '70s', '70th', '71', '71st', '74th', '75', '750', '755891987', '76', '7807', '79', '7am', '7pm', '7th', '80', '800', '8000hp', '80s', '81', '83', '832', '83rd', '85', '85154658', '85340', '86', '88', '89', '8am', '8pm', '8th', '8v', '8x10', '8yo', '90', '9000', '90s', '91', '911', '92nd', '945am', '95', '96', '977', '98', '99', '9999', '99cent', '9am', '9oz', '9p', '9pm', '9th', '9year', '9yo', '______', '_______________', '_c', '_gyib8ea4hdfylss17zc_g', 'a1', 'a2', 'aa', 'aaa', 'aaaamazing', 'aaammmazzing', 'aaron', 'ab', 'aback', 'abandoned', 'abandoning', 'abba', 'abbreviate', 'abbreviated', 'abby', 'abc', 'abdomen', 'abhor', 'abiding', 'abilities', 'ability', 'abilty', 'able', 'abodoba', 'abou', 'abound', 'about', 'above', 'abrasion', 'abroad', 'abrupt', 'absence', 'absent', 'absinthe', 'absoloutely', 'absolut', 'absolute', 'absolutely', 'absolutley', 'absolutly', 'absorb', 'absorption', 'abstain', 'abstained', 'abstract', 'absurd', 'abuelo', 'abundance', 'abundant', 'abuse', 'abused', 'abusive', 'abysmal', 'ac', 'acacia', 'academy', 'acai', 'acapulco', 'accent', 'accented', 'accents', 'accept', 'acceptable', 'accepted', 'accepting', 'accepts', 'access', 'accessed', 'accessible', 'accessories', 'accessorize', 'accessory', 'accident', 'accidental', 'accidentally', 'accidently', 'acclaimed', 'accolades', 'accommodate', 'accommodated', 'accommodates', 'accommodating', 'accommodation', 'accommodations', 'accomodate', 'accomodated', 'accomodating', 'accompanied', 'accompanies', 'accompaniment', 'accompany', 'accompanying', 'accomplish', 'accomplished', 'accomplishment', 'according', 'accordingly', 'account', 'accountable', 'accounts', 'accoutrement', 'accredited', 'accross', 'accumulated', 'accurate', 'accurately', 'accusation', 'accused', 'accustom', 'accustomed', 'accutemp', 'ace', 'ache', 'aches', 'achieve', 'achieved', 'achievement', 'acid', 'acidic', 'acknowledge', 'acknowledged', 'acknowledgement', 'acknowledging', 'ackward', 'acne', 'acoustic', 'acoustics', 'acquaintance', 'acquaintence', 'acquired', 'acres', 'acrid', 'acrimonious', 'across', 'acrylics', 'act', 'acted', 'acting', 'action', 'actions', 'activation', 'active', 'actively', 'activism', 'activities', 'activity', 'actor', 'actors', 'acts', 'actual', 'actuality', 'actually', 'actualy', 'actully', 'acute', 'acy', 'ad', 'adage', 'adam', 'adamant', 'adams', 'adapter', 'add', 'addd', 'added', 'addendum', 'addict', 'addicted', 'addicting', 'addictingly', 'addiction', 'addictionovercome', 'addictive', 'addicts', 'adding', 'addition', 'additional', 'additionally', 'additions', 'address', 'addressed', 'addressing', 'adds', 'ade', 'adelman', 'adequate', 'adequately', 'adios', 'adjacent', 'adjoining', 'adjust', 'adjusted', 'adjustment', 'adjustments', 'administrative', 'admire', 'admired', 'admiring', 'admission', 'admit', 'admits', 'admitted', 'admittedly', 'admitting', 'admonishment', 'ado', 'adobada', 'adobe', 'adobo', 'adolescence', 'adopt', 'adopted', 'adoption', 'adoptions', 'adorable', 'adoration', 'adore', 'adorned', 'adorning', 'adovada', 'adquate', 'adrian', 'adrianne', 'adrienne', 'ads', 'adult', 'adulthood', 'adults', 'advance', 'advanced', 'advancing', 'advantage', 'advantages', 'adventure', 'adventures', 'adventurous', 'adverse', 'adversity', 'advertise', 'advertised', 'advertisement', 'advertisements', 'advertising', 'adverts', 'advice', 'advise', 'advised', 'advising', 'advisor', 'advisors', 'advocate', 'advocated', 'aeg', 'aerators', 'aerobic', 'aerobics', 'aeropress', 'aerosol', 'aesthetically', 'aesthetics', 'affair', 'affect', 'affected', 'affects', 'afficianados', 'affiliated', 'affiliates', 'affiliation', 'affliction', 'affluent', 'afforadable', 'afford', 'affordable', 'aficionado', 'aficionados', 'afloat', 'aforementioned', 'afoul', 'afraid', 'africa', 'after', 'afterall', 'afterdark', 'afterglow', 'afternoon', 'afternoons', 'aftertaste', 'afterthought', 'afterward', 'afterwards', 'again', 'against', 'agape', 'agave', 'agaves', 'age', 'aged', 'agency', 'agent', 'agents', 'ages', 'aggressive', 'aging', 'agitated', 'ago', 'agonizing', 'agony', 'agree', 'agreeable', 'agreeably', 'agreed', 'agreeing', 'agreement', 'agrees', 'agua', 'aguas', 'aguila', 'agwa', 'ah', 'ahead', 'ahem', 'ahh', 'ahhh', 'ahhhh', 'ahhhhh', 'ahhhhhh', 'ahi', 'ahold', 'ahwahtukee', 'ahwatukee', 'aid', 'aiello', 'aiko', 'aim', 'aimed', 'aimlessly', 'aims', 'ain', 'aint', 'aioli', 'aiptasia', 'air', 'airconditioned', 'airfair', 'airfare', 'airline', 'airlines', 'airpark', 'airplane', 'airport', 'airports', 'airwarys', 'airways', 'airy', 'aisde', 'aisha', 'aisle', 'aisles', 'aj', 'ajar', 'aji', 'ajo', 'ajos', 'ajs', 'ajvar', 'aka', 'aki', 'aknowledging', 'akor', 'al', 'ala', 'alabama', 'aladdin', 'alain', 'alameda', 'alan', 'alarmed', 'alas', 'alaska', 'alaskan', 'alaus', 'albacore', 'albeit', 'alber', 'albertsons', 'album', 'albums', 'alcatraz', 'alcohol', 'alcoholic', 'aldo', 'ale', 'alert', 'alerting', 'ales', 'alessia', 'alex', 'alexandra', 'alfalfa', 'alfonso', 'alfred', 'alfredo', 'algae', 'ali', 'alice', 'alicia', 'alienate', 'alienated', 'aliens', 'alike', 'alittle', 'alive', 'all', 'alla', 'allayed', 'alleged', 'allegiant', 'allen', 'allende', 'allergen', 'allergic', 'allergies', 'allergy', 'allesia', 'alleviated', 'alley', 'alligator', 'allison', 'allocating', 'allot', 'alloted', 'allotted', 'allow', 'allowable', 'allowance', 'allowed', 'allowing', 'allows', 'allure', 'alluring', 'almond', 'almonds', 'almost', 'aloe', 'alofts', 'aloha', 'alone', 'along', 'alongside', 'alons', 'aloo', 'aloof', 'alot', 'aloud', 'alp', 'alphagraphics', 'alread', 'already', 'alright', 'also', 'alter', 'alteration', 'alterations', 'altercation', 'altered', 'altering', 'alternately', 'alternative', 'alternatively', 'alternatives', 'although', 'altic', 'altogether', 'aluminum', 'alums', 'alvadora', 'alway', 'always', 'am', 'ama', 'amaaaaazing', 'amaazing', 'amados', 'amalfi', 'amanda', 'amaretti', 'amaretto', 'amarillo', 'amaro', 'amateur', 'amaze', 'amazeballs', 'amazed', 'amazement', 'amazes', 'amazing', 'amazingly', 'amazingness', 'amazon', 'amazzzzzzing', 'ambassador', 'amber', 'ambiance', 'ambience', 'ambient', 'ambrosia', 'ambrosio', 'ambulance', 'amc', 'amenable', 'amend', 'amendment', 'amenities', 'amenity', 'america', 'american', 'americana', 'americanized', 'americano', 'americanos', 'americans', 'ameritrash', 'amerizona', 'ami', 'amicable', 'amid', 'amidst', 'amin', 'amish', 'ammo', 'ammonia', 'amomi', 'among', 'amongst', 'amonst', 'amore', 'amount', 'amounted', 'amounts', 'amp', 'amphitheatre', 'ample', 'ampm', 'amsterdam', 'amtrack', 'amuse', 'amused', 'amusement', 'amusing', 'amy', 'an', 'anaheim', 'anal', 'anally', 'analogy', 'analysis', 'analyze', 'anatomical', 'ancho', 'anchor', 'anchored', 'anchors', 'anchovies', 'anchovy', 'ancient', 'ancillary', 'and', 'andiamo', 'andouille', 'andrea', 'andrew', 'andy', 'anecdotes', 'anemic', 'anesthetic', 'anew', 'angel', 'angela', 'angeles', 'angelic', 'angello', 'angels', 'anger', 'angie', 'anglaise', 'angle', 'angler', 'angles', 'angry', 'angst', 'anibal', 'animal', 'animals', 'animated', 'animatronics', 'anise', 'aniston', 'ankle', 'ankles', 'ann', 'anne', 'annette', 'annie', 'annihilator', 'anniversary', 'announced', 'announces', 'annoy', 'annoyance', 'annoyed', 'annoying', 'annual', 'anomaly', 'anonymous', 'another', 'ans', 'ansel', 'answer', 'answered', 'answering', 'answers', 'ant', 'antchiladas', 'anthem', 'anthony', 'anti', 'antibiotic', 'anticipate', 'anticipated', 'anticipating', 'anticipation', 'antipasti', 'antipasto', 'antique', 'antiques', 'antiquing', 'antiseptic', 'antithesis', 'antler', 'antonio', 'antono', 'ants', 'anxiety', 'anxious', 'anxiously', 'any', 'anybody', 'anyday', 'anyhoo', 'anyhow', 'anymore', 'anyone', 'anyplace', 'anything', 'anythings', 'anytime', 'anyway', 'anyways', 'anywhere', 'anywho', 'ao', 'ap', 'apache', 'apart', 'apartment', 'apartments', 'ape', 'apiece', 'apologetic', 'apologetically', 'apologies', 'apologists', 'apologize', 'apologized', 'apologizes', 'apologizing', 'apology', 'apostles', 'apothecary', 'apothic', 'app', 'appalachians', 'appaled', 'appalled', 'appalling', 'apparantly', 'apparel', 'apparent', 'apparently', 'apparitions', 'appauled', 'appauling', 'appeal', 'appealed', 'appealing', 'appeals', 'appear', 'appearance', 'appearances', 'appeared', 'appears', 'appeasing', 'appertizer', 'appetit', 'appetite', 'appetito', 'appetizaer', 'appetizer', 'appetizers', 'appetizing', 'appitizer', 'applaud', 'applause', 'apple', 'applebee', 'applebees', 'apples', 'appletini', 'appletinis', 'applewood', 'appliances', 'applicable', 'applied', 'applies', 'apply', 'applying', 'appoinmtnt', 'appointed', 'appointment', 'appointments', 'appologized', 'appraisal', 'appraisals', 'appraiser', 'appreciate', 'appreciated', 'appreciates', 'appreciation', 'appreciative', 'apprehensive', 'appreicate', 'approach', 'approachable', 'approached', 'approaches', 'approaching', 'appropriate', 'appropriately', 'approval', 'approved', 'approx', 'approximate', 'approximately', 'apps', 'appt', 'appy', 'appys', 'apricot', 'april', 'apron', 'apt', 'aqua', 'aquarium', 'aquiring', 'ar', 'arabic', 'arai', 'arbol', 'arboreal', 'arborio', 'arbuckle', 'arcade', 'arcadia', 'arcane', 'archery', 'arches', 'architect', 'architecture', 'archive', 'archway', 'arco', 'are', 'area', 'areas', 'aren', 'arena', 'arent', 'argentine', 'argentinian', 'argue', 'argued', 'argues', 'arguing', 'argumentative', 'argyle', 'ariel', 'arigato', 'arise', 'arises', 'arizona', 'arizonan', 'arizonans', 'arizonian', 'arizonians', 'arkansas', 'arlecchino', 'arlin', 'arm', 'armando', 'armed', 'armour', 'arms', 'army', 'arnold', 'aroma', 'aromas', 'aromatherapy', 'aromatic', 'aromatics', 'around', 'arousal', 'arpaio', 'arpege', 'arragont', 'arrange', 'arranged', 'arrangement', 'arrangements', 'arranging', 'array', 'arrest', 'arrested', 'arriba', 'arribas', 'arrival', 'arrive', 'arrived', 'arrivederci', 'arrives', 'arriving', 'arrogance', 'arrogant', 'arrowhead', 'arroz', 'art', 'artesian', 'artful', 'artfully', 'arthur', 'artichoke', 'artichokes', 'article', 'articles', 'articulate', 'artie', 'artifacts', 'artificial', 'artificially', 'artisan', 'artisans', 'artist', 'artistic', 'artistically', 'artistry', 'artists', 'artois', 'arts', 'artsy', 'artwork', 'arty', 'arugala', 'arugula', 'as', 'asada', 'asado', 'asahi', 'asaian', 'asana', 'asap', 'asasda', 'ascend', 'ascent', 'ash', 'ashamed', 'ashamedly', 'ashes', 'ashley', 'ashtanga', 'ashtray', 'asia', 'asiago', 'asian', 'asians', 'aside', 'ask', 'asked', 'askin', 'asking', 'asks', 'asleep', 'asp', 'asparagus', 'aspargus', 'aspect', 'aspects', 'aspire', 'aspirin', 'aspiring', 'aspx', 'ass', 'assault', 'assaulted', 'assaults', 'asserted', 'asses', 'assessed', 'assessment', 'asset', 'assets', 'asshat', 'asshole', 'assholes', 'assigned', 'assignment', 'assinine', 'assist', 'assistance', 'assistant', 'assistants', 'assisted', 'assoc', 'associate', 'associated', 'associates', 'association', 'assorted', 'assortment', 'assume', 'assumed', 'assumes', 'assuming', 'assumption', 'assumptions', 'assurance', 'assure', 'assured', 'assuredly', 'astatically', 'asterisk', 'astonished', 'astonishing', 'astonishingly', 'astounded', 'astounding', 'astrological', 'astronomical', 'asu', 'asus', 'at', 'atari', 'atc', 'ate', 'atf', 'athelete', 'athenian', 'athlete', 'athletes', 'athletic', 'athletica', 'athletics', 'ation', 'atl', 'atlanta', 'atlantic', 'atleast', 'atm', 'atmosphere', 'atomic', 'atomosphere', 'atop', 'atoyac', 'atri', 'atrium', 'atrocious', 'atrociously', 'attached', 'attack', 'attacked', 'attacks', 'attain', 'attained', 'attarct', 'attempt', 'attempted', 'attempting', 'attempts', 'attend', 'attendance', 'attendant', 'attendants', 'attended', 'attendee', 'attendees', 'attending', 'attention', 'attentive', 'attest', 'attic', 'attire', 'attitude', 'attitudes', 'attorney', 'attract', 'attracted', 'attraction', 'attractions', 'attractive', 'attractiveness', 'attracts', 'attribute', 'attributes', 'atypical', 'au', 'auctioned', 'audacity', 'audience', 'audio', 'audiobook', 'audition', 'auditioning', 'auditions', 'auditorium', 'aug', 'augments', 'august', 'aunt', 'auntie', 'aurohaus', 'auspices', 'aussie', 'aussies', 'austin', 'australia', 'australian', 'authentic', 'authentically', 'authenticity', 'authenticly', 'author', 'authors', 'autismcenter', 'autistic', 'auto', 'autocross', 'autographed', 'autograt', 'automatic', 'automatically', 'automobile', 'automotive', 'autumn', 'avacado', 'avacodo', 'avadado', 'avail', 'availability', 'available', 'avalanches', 'ave', 'avenue', 'aver', 'average', 'averaged', 'averages', 'averaging', 'averse', 'avg', 'avid', 'avo', 'avocado', 'avocados', 'avoid', 'avoidance', 'avoided', 'avoiding', 'avondale', 'awaited', 'awaiting', 'awaits', 'awake', 'awaken', 'awakening', 'award', 'awards', 'aware', 'awareness', 'away', 'aways', 'awaze', 'awe', 'awed', 'aweful', 'awesome', 'awesomely', 'awesomeness', 'awesometown', 'awful', 'awfully', 'awhile', 'awkward', 'awkwardly', 'awkwardness', 'awning', 'awsome', 'axe', 'az', 'az88', 'azkaban', 'azn', 'azpbs', 'azrescue', 'azspagirls', 'azucena', 'azz', 'ba', 'baaaaaaad', 'baba', 'babaganoush', 'babbo', 'babies', 'baby', 'babyback', 'babysitter', 'bacado', 'bacardi', 'bachelor', 'bachelorette', 'back', 'backdrop', 'backed', 'background', 'backing', 'backlit', 'backpack', 'backside', 'backstage', 'backstory', 'backtracked', 'backup', 'backwards', 'backyard', 'bacon', 'bacteria', 'bad', 'badass', 'bader', 'badger', 'badly', 'badmouth', 'baeley', 'baffled', 'baffling', 'bag', 'bage', 'bagel', 'bagels', 'baggage', 'bagged', 'baggins', 'baggy', 'baghlava', 'bagly', 'bags', 'baguette', 'baguettes', 'bahama', 'bahamas', 'bahn', 'bail', 'bailey', 'baileys', 'bait', 'baiz', 'baja', 'bajesus', 'bajillion', 'bajillionaire', 'bake', 'baked', 'baker', 'bakeries', 'bakers', 'bakery', 'baking', 'baklava', 'balance', 'balanced', 'balances', 'balancing', 'balcony', 'bald', 'balidated', 'balk', 'balking', 'ball', 'ballet', 'ballin', 'balloons', 'ballpark', 'ballparks', 'ballroom', 'balls', 'balms', 'balsalmic', 'balsamic', 'baltimore', 'bam', 'bamboo', 'ban', 'banana', 'bananas', 'bananoffee', 'banco', 'band', 'bandages', 'bandaid', 'bandaids', 'bandana', 'banddddeeedo', 'banded', 'bandera', 'bandido', 'bandit', 'bandito', 'bands', 'banfield', 'bang', 'bangers', 'bangin', 'banging', 'bangkok', 'bangle', 'bangles', 'bangs', 'bank', 'banked', 'banker', 'banking', 'bankruptcy', 'banks', 'bannana', 'bannanas', 'banned', 'banner', 'banquets', 'banquette', 'banter', 'bantering', 'bao', 'bap', 'bar', 'barb', 'barback', 'barbacks', 'barbacoa', 'barbara', 'barbbacoa', 'barbecue', 'barbecuein', 'barbeque', 'barber', 'barbers', 'barbershop', 'barcelona', 'bare', 'barefaced', 'barefoot', 'barely', 'bargain', 'bargaining', 'bargains', 'bargin', 'barista', 'baristas', 'bark', 'barked', 'barking', 'barley', 'barleywine', 'barn', 'barnes', 'barney', 'barneys', 'barq', 'barr', 'barramundi', 'barrel', 'barrels', 'barrier', 'barrio', 'barro', 'barry', 'bars', 'bartender', 'bartenders', 'bartholomew', 'bartista', 'bartlett', 'bartop', 'basalmic', 'base', 'baseball', 'baseballs', 'based', 'baseline', 'basement', 'bash', 'basha', 'bashas', 'bashing', 'basic', 'basically', 'basics', 'basil', 'basing', 'basis', 'bask', 'basket', 'basketball', 'baskets', 'baskin', 'basmati', 'bass', 'bastard', 'bastards', 'basted', 'baston', 'bat', 'batch', 'bath', 'bathe', 'bathed', 'bathers', 'bathing', 'bathroom', 'bathrooms', 'baths', 'batman', 'batmobile', 'baton', 'bats', 'batter', 'battered', 'batteries', 'battery', 'batting', 'battle', 'battlefoam', 'battlers', 'battleship', 'bavaria', 'bavarian', 'bay', 'bbb', 'bbfw', 'bbq', 'bbs', 'bc', 'bcbg', 'bday', 'bdays', 'bdsm', 'be', 'bea', 'beach', 'beaded', 'beams', 'bean', 'beanery', 'beans', 'bear', 'bearable', 'beard', 'beards', 'bearing', 'bears', 'beast', 'beat', 'beaten', 'beaters', 'beatifully', 'beating', 'beatles', 'beats', 'beau', 'beautiful', 'beautifully', 'beauty', 'beaver', 'became', 'because', 'becca', 'bechamel', 'beckett', 'beckon', 'becky', 'become', 'becomes', 'becoming', 'becuz', 'bed', 'bedazzled', 'bedroom', 'bedrooms', 'beds', 'bedside', 'bee', 'beebees', 'beef', 'beefcake', 'beefsteak', 'beefy', 'been', 'beep', 'beeping', 'beer', 'beerbread', 'beers', 'bees', 'beet', 'beetle', 'beetles', 'beets', 'before', 'beforehand', 'befpre', 'beg', 'began', 'beggars', 'begged', 'begging', 'begin', 'begining', 'beginner', 'beginners', 'beginning', 'begins', 'begrudgingly', 'begun', 'behalf', 'behaved', 'behavior', 'behind', 'behold', 'beige', 'beignets', 'beijing', 'bein', 'being', 'beirut', 'belabor', 'belgian', 'belief', 'believe', 'believed', 'believer', 'believers', 'believes', 'believing', 'beligerent', 'belittled', 'belive', 'bell', 'bella', 'bellboy', 'bellies', 'belligerently', 'bellini', 'bellinis', 'belltown', 'belly', 'belmont', 'belong', 'belongs', 'beloved', 'below', 'belt', 'belts', 'ben', 'bench', 'benches', 'bend', 'bender', 'bending', 'beneath', 'benedict', 'beneficial', 'benefit', 'benefited', 'benefits', 'benign', 'benihana', 'benny', 'bent', 'bento', 'bentos', 'beppo', 'berated', 'berg', 'bergesson', 'berkshire', 'berlin', 'bermuda', 'berries', 'berry', 'berschler', 'bert', 'bertha', 'berto', 'bertos', 'beside', 'besides', 'best', 'bestie', 'bestowed', 'bet', 'bethany', 'bethel', 'betito', 'betitos', 'betray', 'betrayed', 'betta', 'bette', 'better', 'betty', 'betunia', 'betweeen', 'between', 'bev', 'beverage', 'beverages', 'beverly', 'bevmo', 'beware', 'beyonce', 'beyond', 'bf', 'bfast', 'bff', 'bffs', 'bfg', 'bgf', 'bhel', 'bi', 'biacoverde', 'biagga', 'biaggia', 'biagio', 'bialy', 'bianco', 'biancoverde', 'biancoverdes', 'bias', 'biased', 'bibimbap', 'bible', 'bicker', 'bicycle', 'bicycles', 'biden', 'bidet', 'bier', 'biet', 'big', 'big_ass', 'bigee', 'bigger', 'biggest', 'biggie', 'biiiiiiiiiiig', 'bike', 'biker', 'bikers', 'bikes', 'biking', 'bikini', 'bikram', 'bilbo', 'bilinis', 'bill', 'billet', 'billiards', 'billing', 'bills', 'biltmore', 'bimbo', 'bin', 'bind', 'bing', 'bingo', 'bings', 'bingsoo', 'binkley', 'binkleys', 'bins', 'biography', 'biohazard', 'bird', 'birdies', 'birdlife', 'birds', 'birth', 'birthday', 'birthdays', 'biryani', 'biscotti', 'biscuit', 'biscuits', 'bismark', 'bison', 'bisque', 'bistec', 'bistro', 'bit', 'bitch', 'bitches', 'bitching', 'bitchy', 'bite', 'bites', 'biting', 'bits', 'bitsy', 'bitten', 'bitter', 'bitterish', 'bitterness', 'bitttyyy', 'bitty', 'bitzee', 'biz', 'biz_photos', 'bizarre', 'bj', 'bla', 'black', 'blackberries', 'blackberry', 'blackboard', 'blackened', 'blackrice', 'blacksmithing', 'blackstone', 'blackwidow', 'bladder', 'blade', 'blades', 'blah', 'blake', 'blame', 'blamed', 'blanc', 'blanca', 'blanco', 'bland', 'blandness', 'blank', 'blanket', 'blanketed', 'blankity', 'blaring', 'blase', 'blasphemy', 'blast', 'blasting', 'blasts', 'blatantly', 'blaze', 'blazer', 'blazing', 'bleached', 'bleacher', 'bleachers', 'bleaching', 'blech', 'bleech', 'bleed', 'bleeding', 'bleh', 'blemish', 'blend', 'blended', 'blending', 'blendini', 'blends', 'bless', 'blessed', 'blessing', 'blessings', 'bleu', 'blew', 'blimpie', 'blind', 'blindfolded', 'blindfolds', 'blindness', 'blink', 'blinking', 'bliss', 'blissful', 'blistered', 'blisters', 'bloated', 'blobs', 'block', 'blockbuster', 'blocked', 'blocking', 'blocks', 'blog', 'blond', 'blonde', 'blood', 'bloody', 'bloodymary', 'bloom', 'blooming', 'blooms', 'bloomy', 'blooze', 'blossom', 'blossoms', 'blouses', 'blow', 'blowdry', 'blower', 'blowing', 'blown', 'blows', 'blt', 'blu', 'blue', 'blueberries', 'blueberry', 'bluecheese', 'bluemoon', 'blues', 'bluesman', 'blunt', 'bluntly', 'blur', 'blush', 'blushes', 'blvd', 'bmw', 'bmws', 'bmx', 'bnd5erj', 'bndmaps', 'bo', 'boa', 'boar', 'board', 'boarded', 'boarding', 'boards', 'boars', 'boasts', 'boat', 'boats', 'bob', 'boba', 'bobas', 'bobbie', 'bobby', 'boca', 'bocca', 'bocce', 'bock', 'bod', 'bodied', 'bodies', 'body', 'bodyguards', 'bodyworker', 'bogey', 'bogged', 'bogi', 'bogo', 'bogus', 'bohemian', 'boil', 'boiled', 'boiling', 'boisterous', 'bold', 'bolivia', 'bollywood', 'bolster', 'bolt', 'bolted', 'bolts', 'bomb', 'bombarded', 'bombaros', 'bombay', 'bomber', 'bombero', 'bomberos', 'bombers', 'bombs', 'bon', 'bona', 'bonafide', 'bonanza', 'bond', 'bonding', 'bone', 'boneless', 'bones', 'bonfire', 'bong', 'bonne', 'bonnie', 'bonus', 'bonuses', 'boo', 'boob', 'boobs', 'boofay', 'boohiney', 'boohoo', 'book', 'booked', 'booking', 'booklet', 'bookmans', 'books', 'bookstore', 'bookstores', 'boolgogee', 'boom', 'booming', 'boooy', 'boop', 'booshelf', 'boost', 'booster', 'boot', 'booth', 'booths', 'boots', 'booyah', 'booze', 'boozers', 'boozin', 'boozometer', 'bop', 'bopped', 'borad', 'bordeaux', 'bordelaise', 'border', 'bordering', 'borderline', 'borders', 'bored', 'boring', 'born', 'borne', 'borrow', 'bosa', 'bosch', 'bosco', 'bosnia', 'bosnian', 'boss', 'bosses', 'bossy', 'bostic', 'boston', 'bosu', 'botanical', 'botany', 'both', 'bother', 'bothered', 'bothering', 'bothers', 'bothersome', 'botox', 'bottle', 'bottled', 'bottles', 'bottling', 'bottom', 'bottomless', 'bottoms', 'bouche', 'bought', 'bouillabaisse', 'boulangerie', 'boulder', 'boulders', 'boulevard', 'boullion', 'bounce', 'bounced', 'bouncer', 'bouncers', 'bouncing', 'bound', 'bounty', 'bouquet', 'bourban', 'bourbon', 'bourdon', 'bout', 'boutique', 'boutiques', 'boutonnieres', 'bow', 'bowl', 'bowling', 'bowls', 'bowties', 'box', 'boxed', 'boxer', 'boxers', 'boxes', 'boxing', 'boy', 'boycotting', 'boyfriend', 'boyfriends', 'boyfrind', 'boys', 'boyshorts', 'bpa', 'br', 'bra', 'brace', 'braces', 'brachetto', 'brad', 'bradley', 'brag', 'bragged', 'bragging', 'braille', 'brain', 'brainless', 'brains', 'braised', 'braized', 'brak', 'brake', 'bran', 'branch', 'branched', 'branches', 'brand', 'brandied', 'branding', 'brands', 'brandy', 'branzino', 'bras', 'brass', 'brasserie', 'brat', 'brats', 'bratwurst', 'bravas', 'brave', 'braves', 'bravo', 'bray', 'brazen', 'brazilian', 'brdiesmaid', 'bread', 'breadcrumbs', 'breaded', 'breadfruit', 'breading', 'breads', 'breadsticks', 'breadticks', 'break', 'breaker', 'breakfast', 'breakfasts', 'breakfasty', 'breaking', 'breaks', 'breaksfast', 'breakthrough', 'breas', 'breast', 'breasts', 'breath', 'breathe', 'breathed', 'breather', 'breathing', 'breathtaking', 'bred', 'breed', 'breeze', 'breezy', 'brekafast', 'brenda', 'brenden', 'bretheren', 'breve', 'brew', 'brewed', 'brewer', 'breweries', 'brewers', 'brewery', 'brewing', 'brewpub', 'brewpubs', 'brews', 'brewski', 'bri', 'brian', 'brianna', 'brick', 'brickoven', 'bricks', 'brickwork', 'bridal', 'bride', 'brides', 'bridesmaid', 'bridesmaids', 'bridge', 'bridging', 'brie', 'brief', 'briefcase', 'briefed', 'briefly', 'briefs', 'brien', 'briggs', 'bright', 'brightened', 'brighter', 'brightly', 'brightness', 'brilliance', 'brilliant', 'brim', 'brine', 'bring', 'bringing', 'brings', 'brining', 'briny', 'brio', 'brioche', 'brioni', 'brios', 'brisk', 'brisket', 'brit', 'british', 'britishers', 'britney', 'brittan', 'brittian', 'brittle', 'brle', 'bro', 'broad', 'broadway', 'broasted', 'broccoli', 'broccolini', 'brochette', 'brocolli', 'brodkin', 'broiled', 'broke', 'broken', 'bronx', 'bronze', 'brooches', 'brooklyn', 'brookstone', 'brophy', 'bros', 'broth', 'brother', 'brothers', 'brothy', 'brough', 'brought', 'broun', 'brow', 'brown', 'browned', 'brownie', 'brownies', 'browns', 'brows', 'browse', 'browsed', 'browser', 'browsing', 'bruce', 'bruchetta', 'bruder', 'bruises', 'brule', 'brulee', 'brulees', 'brulée', 'brunch', 'brunches', 'brunets', 'brunette', 'bruscetta', 'bruschetta', 'bruschettas', 'brush', 'brushcetta', 'brushed', 'brushes', 'brushettas', 'brusqueness', 'brussel', 'brussels', 'brutal', 'brutus', 'bryan', 'brûlée', 'bs', 'btw', 'bubble', 'bubbles', 'bubbly', 'bubl', 'buca', 'bucatini', 'bucca', 'bucco', 'buchanan', 'buck', 'bucked', 'bucket', 'buckets', 'buckeye', 'buckeyes', 'buckhunt', 'buckle', 'buckles', 'bucks', 'buckwheat', 'bud', 'buddhism', 'buddies', 'buddy', 'budge', 'budget', 'buds', 'budweiser', 'bueno', 'buff', 'buffala', 'buffalo', 'buffer', 'buffet', 'buffets', 'buffett', 'bug', 'bugger', 'buggers', 'bugs', 'bugtussel', 'build', 'building', 'buildings', 'built', 'buisness', 'bula', 'bulb', 'bulbs', 'bulgogi', 'bulk', 'bulked', 'bull', 'bulldog', 'bulldogs', 'bullet', 'bullion', 'bullriders', 'bullsh', 'bullshit', 'bummed', 'bummer', 'bump', 'bumped', 'bumper', 'bumping', 'bums', 'bun', 'bunch', 'bunches', 'bundle', 'bundled', 'bundles', 'bundy', 'bungholio', 'bunnies', 'buns', 'buon', 'buona', 'buran', 'burch', 'buren', 'burger', 'burgers', 'burial', 'burle', 'burlington', 'burly', 'burmese', 'burn', 'burned', 'burning', 'burnt', 'burped', 'burps', 'burrata', 'burratta', 'burrito', 'burritos', 'burro', 'burros', 'burrows', 'burrritos', 'burst', 'bursting', 'burt', 'burton', 'bus', 'busan', 'busboy', 'busboys', 'buses', 'bush', 'bushes', 'busier', 'busiest', 'business', 'businesses', 'businessman', 'businessmen', 'businesswoman', 'busser', 'busses', 'bussing', 'bust', 'busted', 'busting', 'bustle', 'bustled', 'bustling', 'busy', 'but', 'butai', 'butcher', 'butchered', 'butchering', 'butka', 'butt', 'butte', 'butter', 'butterburger', 'buttercream', 'buttercrunch', 'buttered', 'butterfish', 'butterflies', 'butterfly', 'butterkäse', 'buttermilk', 'butternut', 'butters', 'butterscotch', 'buttery', 'button', 'buttons', 'butts', 'bux', 'buy', 'buybuybaby', 'buyer', 'buyers', 'buying', 'buys', 'buzz', 'buzzcation', 'buzzes', 'buzzing', 'buzzkill', 'buzzy', 'bv500', 'by', 'bye', 'bygone', 'byo', 'byob', 'bánh', 'c4', 'c785ykr', 'c7pkagm', 'c7zwftv', 'ca', 'ca765ua', 'cab', 'cabage', 'cabana', 'cabanas', 'cabbage', 'cabbies', 'cabela', 'cabernet', 'cabeza', 'cabin', 'cabinet', 'cable', 'cabs', 'cacti', 'cactus', 'caddilac', 'caddy', 'cadet', 'cadillac', 'caesar', 'caesars', 'caeser', 'cafe', 'cafeteria', 'caffe', 'caffeinate', 'caffeine', 'café', 'cage', 'cages', 'caitlin', 'cajun', 'cajuns', 'cake', 'cakes', 'cal', 'calabria', 'calamari', 'calamos', 'calculate', 'calculator', 'calcutta', 'calendar', 'calf', 'cali', 'caliber', 'caliente', 'california', 'calimari', 'call', 'calle', 'called', 'caller', 'calling', 'callous', 'calloused', 'calls', 'callus', 'calm', 'calmed', 'calming', 'calmly', 'calorie', 'calories', 'cals', 'calves', 'calypso', 'calzone', 'calzones', 'came', 'camel', 'camelback', 'camelbacks', 'camelview', 'camera', 'cameras', 'camile', 'camille', 'camo', 'camp', 'campaign', 'campaigning', 'campbell', 'campbells', 'camper', 'campers', 'camping', 'campus', 'campuses', 'camus', 'can', 'canada', 'canadian', 'canaille', 'canal', 'canals', 'canasta', 'cancel', 'canceled', 'canceling', 'cancellation', 'cancelled', 'cancelling', 'cancer', 'candace', 'candid', 'candied', 'candies', 'candle', 'candlelight', 'candlelit', 'candlemaking', 'candles', 'candy', 'candyland', 'cane', 'canes', 'canidae', 'canine', 'canister', 'canned', 'cannelloni', 'canneloni', 'cannibal', 'cannoli', 'cannolis', 'cannon', 'cannot', 'canoe', 'canoli', 'canopy', 'cans', 'cant', 'canteen', 'canteloupe', 'cantina', 'canton', 'cantonese', 'canvas', 'canvases', 'canyon', 'canyone', 'cap', 'capable', 'capaccino', 'capacity', 'capellini', 'caper', 'capers', 'capezio', 'capicolla', 'capital', 'capitalism', 'capitol', 'caponata', 'capped', 'cappella', 'cappicola', 'cappuccino', 'cappuccinos', 'caprese', 'capri', 'capriotti', 'capriottis', 'caps', 'capsule', 'captain', 'captivated', 'captivates', 'capture', 'captured', 'car', 'caradmom', 'carafe', 'caramel', 'caramelized', 'carb', 'carbohydrate', 'carbon', 'carbonara', 'carbonation', 'carbs', 'carburetor', 'card', 'cardamom', 'cardboard', 'carded', 'cardiac', 'cardinal', 'cardinals', 'cardio', 'cards', 'cardstock', 'care', 'cared', 'career', 'carefree', 'careful', 'carefully', 'caregiver', 'careless', 'cares', 'caribbean', 'caring', 'carl', 'carla', 'carlos', 'carlsbad', 'carlton', 'carmax', 'carmel', 'carmelized', 'carnage', 'carne', 'carnegie', 'carniceria', 'carnitas', 'carnivore', 'carnivores', 'carnivorial', 'carol', 'carolers', 'carolina', 'caroline', 'carousel', 'carpacchio', 'carpaccio', 'carpal', 'carpet', 'carpeting', 'carpets', 'carpool', 'carrabba', 'carribbean', 'carried', 'carrier', 'carriers', 'carries', 'carrot', 'carrots', 'carrott', 'carry', 'carrying', 'cars', 'cart', 'carte', 'carted', 'cartel', 'carter', 'carton', 'carts', 'cartwrights', 'carved', 'carving', 'cary', 'casa', 'case', 'casella', 'casement', 'cases', 'casey', 'cash', 'cashed', 'cashew', 'cashews', 'cashier', 'cashiers', 'cashing', 'casie', 'casing', 'casino', 'casita', 'cask', 'casserole', 'cast', 'castilla', 'casting', 'castle', 'casual', 'casually', 'casuals', 'cat', 'cat5', 'cat6', 'catagory', 'catalog', 'catalogs', 'catalytic', 'catch', 'catching', 'categories', 'category', 'cater', 'catered', 'catering', 'catfish', 'cathedral', 'cation', 'cats', 'caucasian', 'caucasians', 'caught', 'cauldron', 'cauliflower', 'cause', 'caused', 'causes', 'causing', 'caution', 'cautious', 'cavalleria', 'cavalli', 'cave', 'caveat', 'caved', 'cavernous', 'caviar', 'cavities', 'cavity', 'cayman', 'caymans', 'cb', 'cc', 'cca', 'ccgs', 'cco', 'cd', 'cdc', 'cds', 'ceasar', 'cease', 'ceaser', 'ceases', 'cede', 'ceiling', 'ceilings', 'celebrate', 'celebrated', 'celebrating', 'celebration', 'celebratory', 'celebrities', 'celebrity', 'celery', 'celiac', 'celiacs', 'celina', 'cell', 'cellar', 'cellist', 'cellphone', 'celsius', 'cement', 'cenpho', 'censor', 'cent', 'center', 'centered', 'centerpiece', 'centerpieces', 'centers', 'central', 'centrally', 'centre', 'centric', 'cents', 'century', 'ceo', 'ceramic', 'cereal', 'cereals', 'ceremony', 'cerignola', 'certain', 'certainly', 'certificate', 'certificates', 'certifications', 'certified', 'cesar', 'cesspool', 'cesspools', 'cetera', 'cevap', 'ceviche', 'cezanne', 'cf', 'cfls', 'ch', 'cha', 'chaat', 'chace', 'chagrin', 'chai', 'chain', 'chainco', 'chains', 'chainsaw', 'chair', 'chairs', 'chaise', 'chalet', 'chalkboard', 'chalking', 'chalky', 'challah', 'challange', 'challenge', 'challenged', 'challenges', 'challenging', 'chamber', 'chambord', 'chamomile', 'champ', 'champagne', 'champagnes', 'champaigne', 'champainge', 'champers', 'championship', 'champong', 'champs', 'chana', 'chance', 'chancer', 'chancers', 'chances', 'chandelier', 'chandeliers', 'chandler', 'chanel', 'chang', 'change', 'changed', 'changes', 'changing', 'changs', 'channel', 'channels', 'chanterelle', 'chanterelles', 'chantrel', 'chao', 'chaos', 'chaparral', 'chapoutier', 'chapter', 'char', 'character', 'characters', 'charbroiled', 'charburger', 'charcoal', 'chard', 'chardonnay', 'charge', 'charged', 'charger', 'charges', 'charging', 'chargrilled', 'charismatic', 'charitable', 'charity', 'charleen', 'charlene', 'charles', 'charleston', 'charlie', 'charlotte', 'charm', 'charmed', 'charming', 'charred', 'chart', 'charts', 'chase', 'chased', 'chat', 'chateaux', 'chatney', 'chatted', 'chatter', 'chattering', 'chatting', 'chatty', 'chavez', 'cheap', 'cheaper', 'cheapest', 'cheaply', 'cheapskate', 'cheat', 'cheated', 'checca', 'check', 'checkbox', 'checked', 'checkeed', 'checker', 'checkered', 'checkers', 'checkin', 'checking', 'checklist', 'checkout', 'checkplease', 'checks', 'checkup', 'cheddar', 'cheeeeno', 'cheek', 'cheered', 'cheerful', 'cheerfully', 'cheering', 'cheerleaders', 'cheers', 'cheery', 'cheese', 'cheeseboard', 'cheeseburger', 'cheesecake', 'cheesecakes', 'cheesehead', 'cheeses', 'cheesesteak', 'cheesesteaks', 'cheesey', 'cheesy', 'cheez', 'chef', 'chefing', 'chefs', 'chelsea', 'chemex', 'chemical', 'chemicals', 'cherished', 'cherries', 'cherry', 'cherryblossom', 'cheryl', 'chess', 'chest', 'chestnuts', 'chew', 'chewed', 'chewing', 'chewy', 'chey', 'chi', 'chiang', 'chianti', 'chic', 'chicago', 'chicagoan', 'chiccharon', 'chichi', 'chick', 'chickafila', 'chicken', 'chickens', 'chickpeas', 'chicks', 'chiclets', 'chicory', 'chics', 'chief', 'chiku', 'chiladas', 'chilaquiles', 'child', 'childbirth', 'childcare', 'childhood', 'childhoods', 'childish', 'children', 'childs', 'childsplay', 'chile', 'chilean', 'chilequiles', 'chiles', 'chili', 'chilies', 'chiliglazed', 'chilis', 'chill', 'chilled', 'chilli', 'chilling', 'chills', 'chilly', 'chilulah', 'chime', 'chimi', 'chimichanga', 'chiming', 'chimis', 'chimmichurri', 'chin', 'china', 'chinaberry', 'chinatown', 'chineness', 'chinese', 'chino', 'chip', 'chipolte', 'chipote', 'chipotle', 'chipped', 'chipping', 'chips', 'chiptole', 'chiro', 'chiropractic', 'chiropractor', 'chirping', 'chit', 'chitchat', 'chivalrously', 'chives', 'chix', 'chlorine', 'cho', 'choc', 'chock', 'chocolate', 'chocolately', 'chocolates', 'chocolatey', 'chocolatier', 'chocolatiers', 'chocolatiest', 'chodang', 'choice', 'choices', 'choir', 'choke', 'choked', 'choking', 'cholla', 'cholocate', 'chomp', 'chompie', 'chompies', 'choo', 'choose', 'choosers', 'chooses', 'choosing', 'chop', 'chopped', 'chopping', 'choppy', 'chops', 'chopstick', 'chopsticks', 'chores', 'chorizo', 'chorro', 'chorus', 'chose', 'chosen', 'choux', 'chow', 'chowder', 'chowing', 'chris', 'christ', 'christian', 'christine', 'christmas', 'christopher', 'christophersaz', 'christs', 'christy', 'chrome', 'chronic', 'chronicle', 'chronicles', 'chu', 'chuck', 'chuckle', 'chuckled', 'chucks', 'chugged', 'chumps', 'chunk', 'chunks', 'chunky', 'church', 'churches', 'churn', 'churning', 'churro', 'churros', 'chutney', 'chuy', 'chyna', 'chz', 'châteauneuf', 'ciabatta', 'ciao', 'cibo', 'cider', 'cidse', 'cien', 'cigar', 'cigarette', 'cigarettes', 'cigars', 'cigs', 'cilantro', 'cinammoness', 'cinderella', 'cindy', 'cine', 'cinema', 'cinemark', 'cinemas', 'cinnamon', 'cioppino', 'circa', 'circle', 'circled', 'circles', 'circling', 'circuitous', 'circular', 'circulation', 'circumstance', 'circumvent', 'circus', 'ciroc', 'cisco', 'cited', 'cities', 'citing', 'citizen', 'citizens', 'citrus', 'citrusy', 'city', 'citywide', 'civic', 'civiche', 'ck', 'clad', 'claim', 'claimed', 'claiming', 'claims', 'clair', 'claire', 'clam', 'clamp', 'clams', 'clang', 'clanging', 'claps', 'claredon', 'clarendon', 'clarification', 'clarify', 'clarity', 'class', 'classes', 'classic', 'classics', 'classifies', 'classroom', 'classwork', 'classy', 'clatter', 'claude', 'claustrophobic', 'claw', 'clawing', 'claws', 'clay', 'clean', 'cleaned', 'cleaner', 'cleaners', 'cleanest', 'cleaning', 'cleanliness', 'cleanser', 'cleansers', 'cleanup', 'clear', 'clearance', 'clearancing', 'cleared', 'clearing', 'clearly', 'cleary', 'cleavage', 'cleaver', 'clement', 'clerk', 'clerks', 'clever', 'cleverly', 'cliche', 'cliched', 'click', 'clicquot', 'client', 'clientele', 'clients', 'clif', 'cliffs', 'climate', 'climatic', 'climax', 'climb', 'climbers', 'climbing', 'clincher', 'clingy', 'clinic', 'clinics', 'clint', 'clintons', 'clip', 'clipped', 'clippers', 'clippings', 'clips', 'cliques', 'cliquish', 'clock', 'clocks', 'clockwork', 'clog', 'clones', 'clooney', 'clorox', 'close', 'closed', 'closely', 'closer', 'closes', 'closest', 'closet', 'closeup', 'closing', 'cloth', 'clothed', 'clothes', 'clothing', 'cloths', 'clotted', 'cloud', 'clouds', 'cloudy', 'clover', 'cloves', 'clown', 'clowns', 'cloyed', 'club', 'clubbing', 'clubby', 'clubhouse', 'clubs', 'clue', 'clueless', 'clump', 'clumps', 'clumpy', 'clumsiness', 'clumsy', 'clunky', 'cluster', 'clusters', 'clutch', 'clutches', 'clutching', 'clyde', 'cmtkood', 'co', 'coach', 'coaches', 'coagulated', 'coal', 'coalface', 'coarse', 'coast', 'coastal', 'coasted', 'coaster', 'coasters', 'coat', 'coated', 'coating', 'coats', 'coaxed', 'cob', 'cobb', 'cobbler', 'cobblers', 'cobras', 'cobs', 'coc', 'coca', 'cocaine', 'cocina', 'cock', 'cockroaches', 'cocktail', 'cocktails', 'coco', 'cocoa', 'coconut', 'cocstco', 'cod', 'coda', 'code', 'coded', 'codes', 'coe', 'cofco', 'coffe', 'coffee', 'coffeehouse', 'coffees', 'coffeeshop', 'coin', 'coincide', 'coincidence', 'coincidences', 'coins', 'coke', 'cokes', 'cola', 'colada', 'colbert', 'cold', 'colda', 'coldstone', 'cole', 'coleslaw', 'collaborate', 'collaboration', 'collapse', 'collar', 'collard', 'collared', 'collars', 'colleague', 'colleagues', 'collect', 'collected', 'collecting', 'collection', 'collections', 'collective', 'collectively', 'collector', 'colleen', 'college', 'colleges', 'cologne', 'colonial', 'color', 'colorado', 'colored', 'colorful', 'colorfully', 'coloring', 'colorist', 'colorists', 'colors', 'colossal', 'colour', 'columbia', 'com', 'coma', 'comb', 'combat', 'combination', 'combinations', 'combine', 'combined', 'combines', 'combining', 'combo', 'combos', 'come', 'comeback', 'comedy', 'comes', 'comfort', 'comfortable', 'comfortably', 'comforting', 'comforts', 'comfy', 'comic', 'comical', 'comically', 'comics', 'comin', 'coming', 'commandment', 'commence', 'commend', 'comment', 'commented', 'commenting', 'comments', 'commerce', 'commercial', 'commercialized', 'commission', 'commit', 'commitment', 'commitments', 'committed', 'committee', 'committing', 'common', 'commoners', 'commonly', 'commons', 'communal', 'communicate', 'communicated', 'communicates', 'communicating', 'communication', 'communications', 'communicator', 'communists', 'communities', 'community', 'commute', 'commuter', 'comp', 'compadres', 'compaining', 'companies', 'companion', 'companions', 'companionship', 'company', 'companys', 'comparable', 'compare', 'compared', 'compares', 'comparing', 'comparison', 'comparisons', 'compartment', 'compasionate', 'compass', 'compassion', 'compassionate', 'compatible', 'comped', 'compelled', 'compelling', 'compels', 'compensate', 'compensation', 'compete', 'competely', 'competence', 'competent', 'competently', 'competes', 'competing', 'competition', 'competitive', 'competitively', 'competitor', 'competitors', 'comping', 'compitent', 'complain', 'complained', 'complainer', 'complaing', 'complaining', 'complains', 'complaint', 'complaints', 'complement', 'complementary', 'complemented', 'complete', 'completed', 'completely', 'completes', 'completing', 'completly', 'complex', 'complexity', 'compli', 'complicated', 'complications', 'complientary', 'compliment', 'complimentary', 'complimented', 'compliments', 'component', 'compose', 'composed', 'composition', 'composure', 'compote', 'compounded', 'compounding', 'comprehend', 'comprehensive', 'compressa', 'compressed', 'compressor', 'comprised', 'compromise', 'compromised', 'computer', 'computers', 'computing', 'comsumed', 'con', 'concealed', 'concede', 'concentrate', 'concentrated', 'concentrating', 'concept', 'conceptions', 'concepts', 'concern', 'concerned', 'concerning', 'concerns', 'concert', 'concession', 'concessions', 'conchita', 'concierge', 'concluded', 'conclusion', 'concoct', 'concoction', 'concoctions', 'concrete', 'concur', 'condemn', 'condensation', 'condensed', 'condesa', 'condescending', 'condiment', 'condiments', 'condition', 'conditioned', 'conditioner', 'conditioning', 'conditions', 'condo', 'condolences', 'condone', 'condos', 'conducive', 'conduct', 'cone', 'cones', 'confection', 'confectionary', 'confections', 'conference', 'confess', 'confessing', 'confessional', 'confidence', 'confident', 'confidently', 'confirm', 'confirmation', 'confirmed', 'confirming', 'confirms', 'confit', 'confite', 'conflicting', 'conflicts', 'conformable', 'confrontational', 'confronted', 'confucius', 'confuse', 'confused', 'confuses', 'confusing', 'confusion', 'conga', 'congee', 'congrats', 'congratulate', 'congratulations', 'congregation', 'congress', 'coninue', 'conjure', 'conjures', 'connect', 'connected', 'connecticut', 'connecting', 'connection', 'connections', 'connery', 'connoisseur', 'connolys', 'connosiuer', 'conquering', 'cons', 'conscience', 'conscientious', 'conscious', 'consciously', 'consecutive', 'consequently', 'conservatism', 'consider', 'considerate', 'consideration', 'considered', 'considering', 'considers', 'consign', 'consigned', 'consigner', 'consigning', 'consistancy', 'consistant', 'consistantly', 'consisted', 'consistency', 'consistent', 'consistently', 'consisting', 'consists', 'consolation', 'console', 'conspire', 'constant', 'constantly', 'constitute', 'constitutes', 'constitution', 'constitutional', 'constraint', 'constructed', 'construction', 'constructive', 'constructively', 'consult', 'consultant', 'consultation', 'consume', 'consumed', 'consumer', 'consumers', 'consummate', 'consumption', 'contact', 'contacted', 'contacting', 'contacts', 'contagious', 'contain', 'contained', 'container', 'containers', 'containing', 'contains', 'contemporary', 'contend', 'contender', 'content', 'contentment', 'contents', 'contest', 'contests', 'context', 'contextualize', 'continentally', 'continually', 'continue', 'continued', 'continues', 'continuing', 'continuosly', 'continuous', 'continuously', 'contract', 'contracted', 'contractors', 'contracts', 'contrarily', 'contrary', 'contrast', 'contribute', 'contributed', 'contributes', 'contribution', 'contrived', 'control', 'controlled', 'controlling', 'controls', 'controversial', 'controversies', 'controversy', 'convelient', 'convenience', 'convenient', 'conveniently', 'convention', 'conversant', 'conversation', 'conversational', 'conversations', 'converse', 'conversely', 'conversing', 'convert', 'converted', 'converter', 'converters', 'convertible', 'converts', 'convey', 'conveyer', 'conveying', 'convictions', 'convince', 'convinced', 'convincing', 'convo', 'cook', 'cooked', 'cookers', 'cookie', 'cookies', 'cookin', 'cooking', 'cookouts', 'cooks', 'cool', 'coolant', 'cooled', 'cooler', 'coolers', 'coolest', 'cooling', 'coolness', 'cools', 'cooney', 'cooper', 'coordinated', 'coordination', 'coordinators', 'coors', 'cooties', 'cop', 'cope', 'copic', 'copied', 'copies', 'copious', 'copper', 'cops', 'copy', 'copypaste', 'coq', 'coral', 'corbin', 'corbins', 'cordial', 'cordially', 'cordon', 'cordoned', 'corduroys', 'core', 'corebalance', 'coreographed', 'corinthians', 'cork', 'corkage', 'corking', 'corleone', 'corn', 'cornbread', 'corndog', 'corned', 'corner', 'corners', 'cornicopia', 'cornish', 'cornmeal', 'corolla', 'corona', 'coronado', 'coronary', 'coronas', 'corporal', 'corporate', 'corporation', 'corporations', 'corps', 'corral', 'correct', 'correctally', 'corrected', 'correction', 'corrections', 'correctly', 'correctness', 'correlated', 'correlation', 'correspondance', 'corresponding', 'corresponds', 'corridor', 'corridors', 'corroded', 'corrupted', 'corsages', 'corsets', 'cortadito', 'corwn', 'cosa', 'cosco', 'cosmetic', 'cosmetics', 'cosmo', 'cosmopolitan', 'cosmos', 'cost', 'costa', 'costco', 'costillas', 'costing', 'costly', 'costo', 'costs', 'costume', 'costumer', 'costumers', 'costumes', 'cosy', 'cotija', 'cotta', 'cottage', 'cotton', 'cottonwood', 'couch', 'couches', 'cougar', 'cough', 'coughed', 'coughing', 'could', 'couldn', 'couldnt', 'coulter', 'counselor', 'count', 'countdown', 'counted', 'counter', 'countered', 'counterparts', 'counters', 'counting', 'countless', 'countries', 'country', 'countryside', 'counts', 'county', 'coup', 'couple', 'coupled', 'couples', 'coupling', 'coupon', 'coupons', 'courage', 'course', 'coursed', 'courses', 'court', 'courteous', 'courteously', 'courtesy', 'courtney', 'courts', 'courtyard', 'courtyards', 'cous', 'couscous', 'cousin', 'cousins', 'couture', 'cover', 'coverage', 'covered', 'covering', 'covers', 'covert', 'coverup', 'covet', 'coveted', 'cow', 'cowboy', 'cowboys', 'cowgals', 'coworker', 'coworkers', 'cows', 'cowtow', 'cox', 'coy', 'coyotes', 'coz', 'cozier', 'coziness', 'cozy', 'cpc', 'cph', 'cpr', 'cpu', 'crab', 'crabcakes', 'crabs', 'crack', 'cracked', 'cracker', 'crackerjack', 'crackers', 'cracking', 'crackle', 'crackles', 'crackling', 'cracks', 'cradle', 'cradling', 'craft', 'crafted', 'crafter', 'crafts', 'craftsman', 'craftsmanship', 'craigslist', 'cram', 'crammed', 'cramped', 'cramps', 'cranberries', 'cranberry', 'crank', 'cranking', 'cranks', 'cranky', 'cranny', 'crap', 'crappy', 'craptastic', 'crashed', 'crate', 'crates', 'crave', 'craves', 'craving', 'cravings', 'crawfish', 'crawling', 'crayon', 'craze', 'craziest', 'craziness', 'crazy', 'cream', 'creamed', 'creamer', 'creamiest', 'creaminess', 'creams', 'creamy', 'create', 'created', 'creates', 'creating', 'creation', 'creations', 'creative', 'creativity', 'creators', 'creature', 'creatures', 'cred', 'credentials', 'credibiilty', 'credit', 'credited', 'credits', 'creek', 'creep', 'creeped', 'creepily', 'creepy', 'crem', 'crema', 'cremation', 'creme', 'cremes', 'crenelations', 'creole', 'crepe', 'crepes', 'creps', 'crept', 'crescendo', 'crescent', 'crew', 'crib', 'cricket', 'cried', 'crime', 'crimes', 'criminal', 'criminals', 'crimini', 'cringe', 'crinkle', 'crippled', 'crisis', 'crisp', 'crisps', 'crispy', 'crisscrosses', 'cristo', 'criteria', 'critic', 'critical', 'critically', 'criticism', 'criticize', 'critics', 'critters', 'croce', 'crock', 'croissant', 'croissants', 'crooks', 'crop', 'cropping', 'croque', 'crosbie', 'crosby', 'cross', 'crossaint', 'crossed', 'crossfit', 'crossing', 'crossroad', 'crostini', 'crouton', 'croutons', 'crowd', 'crowded', 'crowding', 'crowds', 'crowed', 'crown', 'crowning', 'crrraazzyyy', 'cruchy', 'crucial', 'crucially', 'crucifix', 'crudo', 'cruelty', 'cruisers', 'cruising', 'crullers', 'crumb', 'crumble', 'crumbled', 'crumbles', 'crumbling', 'crumbs', 'crummy', 'crunch', 'crunchiness', 'crunchy', 'crusade', 'cruses', 'crush', 'crushed', 'crushing', 'crust', 'crustada', 'crusted', 'crustier', 'crusties', 'crustini', 'crusts', 'crusty', 'cry', 'crying', 'crystal', 'crystalized', 'crystals', 'crème', 'créme', 'cspjnfm', 'cu', 'cuban', 'cubbies', 'cube', 'cubed', 'cubes', 'cubicle', 'cubicles', 'cubs', 'cucina', 'cucumber', 'cucumbers', 'cue', 'cues', 'cuff', 'cuffs', 'cuisinart', 'cuisine', 'cuke', 'cukes', 'culinarily', 'culinary', 'culmination', 'culprit', 'cultural', 'culture', 'cultured', 'cultures', 'culver', 'culvers', 'cum', 'cumin', 'cummings', 'cuon', 'cup', 'cupcake', 'cupcakes', 'cups', 'curated', 'curb', 'curbage', 'curd', 'curds', 'cure', 'cured', 'curiosity', 'curious', 'curiously', 'curl', 'curler', 'curling', 'curls', 'curly', 'curmudgeons', 'currants', 'current', 'currently', 'currents', 'curriculum', 'curried', 'curries', 'curry', 'currys', 'curse', 'cursing', 'curt', 'curtain', 'curtained', 'curtains', 'curtly', 'curve', 'curves', 'cusack', 'cushier', 'cushions', 'cushy', 'cussing', 'cust', 'custard', 'custards', 'custom', 'customer', 'customers', 'customize', 'customized', 'customizes', 'custurd', 'cut', 'cute', 'cutest', 'cuticule', 'cutie', 'cuties', 'cutlery', 'cutlet', 'cuts', 'cutter', 'cutters', 'cuttery', 'cutting', 'cuz', 'cvs', 'cycle', 'cycling', 'cyclist', 'cyclists', 'cyclo', 'cyl', 'cynic', 'cynical', 'cynicism', 'cyr', 'd70s', 'da', 'daas', 'dab', 'dac', 'dachs', 'dad', 'daddies', 'daddy', 'dagger', 'daikon', 'daily', 'dainty', 'daiquiri', 'dairies', 'dairiki', 'dairy', 'daiya', 'dakota', 'dale', 'dali', 'dallas', 'dally', 'dam', 'damage', 'damaged', 'damages', 'dame', 'damn', 'damned', 'damnit', 'damp', 'dan', 'dana', 'dance', 'danced', 'dancer', 'dancers', 'dances', 'dancewear', 'dancing', 'dandelion', 'dane', 'dang', 'danged', 'danger', 'dangerous', 'dangerously', 'dangers', 'dangly', 'daniel', 'danielle', 'daniels', 'danish', 'danishes', 'dank', 'dannie', 'danny', 'danyluk', 'daphne', 'daphnes', 'daquiris', 'dara', 'daradee', 'darcy', 'dare', 'daredevil', 'daren', 'daring', 'darius', 'dark', 'darkened', 'darker', 'darkness', 'darkseid', 'darla', 'darling', 'darn', 'darned', 'darryl', 'dart', 'darts', 'darykla', 'dash', 'dashboard', 'dashing', 'date', 'dated', 'dates', 'dating', 'daughter', 'daughters', 'daunted', 'daunting', 'dave', 'daves', 'david', 'davidson', 'dawn', 'day', 'daycare', 'daydream', 'daylight', 'days', 'daytime', 'dazbog', 'daze', 'dazed', 'dazs', 'dazzled', 'dazzles', 'dba', 'dbg', 'dc', 'dcor', 'dd', 'ddd', 'dddinfo', 'ddelish', 'dds', 'de', 'dead', 'deadbeats', 'deadline', 'deadly', 'deaf', 'deal', 'dealer', 'dealers', 'dealership', 'dealerships', 'dealing', 'deals', 'dealt', 'deamon', 'dean', 'dear', 'dearly', 'death', 'deathly', 'deb', 'debacle', 'debate', 'debated', 'debating', 'debauchery', 'debbie', 'debilitating', 'debit', 'debon', 'debra', 'debris', 'debt', 'debut', 'decade', 'decadence', 'decadent', 'decadently', 'decades', 'decaf', 'decaffinated', 'decanted', 'decapitated', 'deceitful', 'decellerating', 'december', 'decent', 'decently', 'deception', 'deceptive', 'deceptively', 'decide', 'decided', 'decidedly', 'decides', 'deciding', 'decipherable', 'decision', 'decisions', 'decisive', 'decited', 'deck', 'decked', 'declare', 'declared', 'declaring', 'declasse', 'decline', 'declined', 'deco', 'decomissioned', 'decompose', 'deconstructed', 'decor', 'decorate', 'decorated', 'decorating', 'decoration', 'decorations', 'decorative', 'decore', 'decorum', 'decrease', 'decreased', 'decreases', 'decrepit', 'dedicated', 'dedication', 'deduct', 'deduction', 'deductions', 'dee', 'deeee', 'deeeeaaallssss', 'deeees', 'deelish', 'deep', 'deeper', 'deeply', 'deer', 'deere', 'dees', 'def', 'defalco', 'default', 'defend', 'defense', 'defensive', 'deference', 'deferred', 'defiance', 'defiantly', 'definately', 'definatly', 'define', 'definetely', 'definetly', 'definilty', 'defining', 'definite', 'definitely', 'definition', 'definitively', 'definitly', 'deflated', 'defnitely', 'defunct', 'deg', 'degrades', 'degrading', 'degree', 'degrees', 'dehydrated', 'dehydration', 'deity', 'dejavu', 'del', 'delay', 'delayed', 'delaying', 'delays', 'delcious', 'delectable', 'deleting', 'deli', 'delia', 'deliberate', 'deliberately', 'deliberation', 'delicacies', 'delicate', 'delicately', 'delicatessen', 'deliciious', 'delicioso', 'delicious', 'deliciously', 'deliciousness', 'deliciouso', 'delicous', 'delicousness', 'delight', 'delighted', 'delightful', 'delightfully', 'delights', 'delis', 'delish', 'delishish', 'delite', 'deliver', 'delivered', 'deliverer', 'deliveries', 'delivering', 'delivers', 'delivery', 'della', 'delmonico', 'delta', 'deluca', 'delux', 'deluxe', 'delve', 'delved', 'demand', 'demanded', 'demanding', 'demands', 'demaria', 'demeaning', 'demeanor', 'demi', 'demiglaze', 'demise', 'demo', 'democrat', 'democratic', 'demographic', 'demonstrate', 'demonstrated', 'demonstrates', 'demonstrating', 'demonstrative', 'demoted', 'denied', 'denim', 'dennis', 'denny', 'dennys', 'dense', 'densely', 'dent', 'dental', 'dente', 'dented', 'dentist', 'dentistry', 'dentists', 'denver', 'deny', 'deocrations', 'departed', 'departing', 'department', 'departure', 'depend', 'dependable', 'depended', 'depending', 'depends', 'depicting', 'deplane', 'depleted', 'deplorable', 'deployment', 'deported', 'deposit', 'depositing', 'depot', 'depressed', 'depressing', 'dept', 'depth', 'depths', 'derby', 'derelicts', 'derived', 'dermabrasion', 'dermatologist', 'dernmark', 'des', 'descend', 'deschutes', 'descretely', 'describe', 'described', 'describes', 'describing', 'descript', 'description', 'descriptions', 'deseo', 'desert', 'deserted', 'deserts', 'deserve', 'deserved', 'deservedly', 'deserves', 'deserving', 'design', 'designated', 'designed', 'designer', 'designers', 'designing', 'designs', 'desirable', 'desire', 'desired', 'desires', 'desk', 'desks', 'desolate', 'despairing', 'desperate', 'desperately', 'desperation', 'despise', 'despised', 'despite', 'dessert', 'desserts', 'dest', 'destination', 'destined', 'destroy', 'destroyed', 'destroying', 'destroys', 'detail', 'detailed', 'detailing', 'details', 'deter', 'determine', 'determined', 'determining', 'deterred', 'detours', 'detract', 'detroit', 'develop', 'develope', 'developed', 'developers', 'developing', 'development', 'device', 'devices', 'devil', 'deviled', 'devils', 'devine', 'devoid', 'devoted', 'devour', 'devoured', 'devouring', 'devry', 'dew', 'dewalt', 'dex', 'di', 'dia', 'diabetes', 'diabetic', 'diablo', 'diabolical', 'diagnosable', 'diagnose', 'diagnosed', 'diagnosis', 'diagnostic', 'diagnostics', 'dial', 'dialogue', 'diamond', 'diamondbacks', 'diamonds', 'diane', 'diaper', 'diapers', 'diarrhea', 'diary', 'diavola', 'diaya', 'dibs', 'diced', 'dicey', 'dick', 'dickhead', 'dicknose', 'dictate', 'did', 'diddly', 'didn', 'didnt', 'die', 'dieciseis', 'died', 'diego', 'diet', 'dietary', 'dieters', 'dieting', 'difara', 'diff', 'differ', 'differed', 'difference', 'differences', 'different', 'differentiates', 'differentiation', 'differently', 'differnt', 'difficult', 'difficulty', 'dig', 'digdom', 'digestif', 'digestive', 'diggety', 'digging', 'diggity', 'digital', 'digress', 'digression', 'digs', 'dijon', 'dilemma', 'diligent', 'dill', 'dilla', 'dillard', 'dillards', 'dilly', 'dim', 'dime', 'dimed', 'diminished', 'diminishes', 'dimly', 'dimmer', 'dimsum', 'din', 'dine', 'dined', 'dineinaz', 'diner', 'dinero', 'diners', 'dines', 'ding', 'dinged', 'dingy', 'dining', 'dinky', 'dinne', 'dinner', 'dinners', 'dinning', 'dip', 'diplomatically', 'dipped', 'dippin', 'dipping', 'dips', 'dipshits', 'dire', 'direct', 'directed', 'directing', 'direction', 'directions', 'directly', 'director', 'directories', 'directors', 'dirt', 'dirtiest', 'dirty', 'disabled', 'disadvantage', 'disagree', 'disagreement', 'disappear', 'disappearance', 'disappeared', 'disappoint', 'disappointed', 'disappointin', 'disappointing', 'disappointment', 'disappointments', 'disappoints', 'disaster', 'disastrous', 'disbelief', 'disc', 'discard', 'discharged', 'discipline', 'disclaimer', 'disclosing', 'disclosure', 'disco', 'discolored', 'discomfort', 'disconsolate', 'discontinued', 'discordant', 'discount', 'discounted', 'discounts', 'discourage', 'discouraged', 'discouraging', 'discover', 'discovered', 'discovering', 'discovery', 'discretely', 'discriminatory', 'discs', 'discuss', 'discussed', 'discussing', 'discussion', 'discusting', 'disdain', 'disease', 'diseases', 'disengage', 'disgrace', 'disgruntled', 'disguised', 'disgust', 'disgusted', 'disgusting', 'disgustingly', 'dish', 'dishes', 'disheveled', 'dishonest', 'dishwater', 'disintegrate', 'disinterested', 'disks', 'dislike', 'disliked', 'disliking', 'disloyal', 'dismal', 'dismantle', 'dismay', 'dismayed', 'dismiss', 'dismissed', 'dismissive', 'disney', 'disneyland', 'disorganized', 'disoriented', 'disowned', 'dispense', 'dispensed', 'dispenser', 'dispensers', 'dispensing', 'disperses', 'dispite', 'display', 'displayed', 'displaying', 'displays', 'displeased', 'displeasure', 'disposable', 'disposal', 'disproportionately', 'disregarding', 'disrepair', 'disrespect', 'disrespected', 'disrespectful', 'disrespectfully', 'disruption', 'disruptive', 'dissapoint', 'dissapointed', 'dissapointment', 'dissappeared', 'dissappointed', 'dissatisfaction', 'dissatisfied', 'dissertation', 'dissipated', 'dissuade', 'distance', 'distant', 'distaste', 'distasteful', 'distinct', 'distinction', 'distinctive', 'distinctly', 'distinctness', 'distinguished', 'distortions', 'distracted', 'distracting', 'distraction', 'distress', 'distressing', 'distribute', 'distributors', 'district', 'distrito', 'disturbed', 'disturbing', 'ditto', 'diuretic', 'dive', 'divers', 'diverse', 'diversion', 'diversity', 'dives', 'divey', 'divided', 'dividing', 'diviest', 'divine', 'diving', 'division', 'dixie', 'dixon', 'diy', 'diyer', 'dizzy', 'dj', 'djs', 'dk', 'dmv', 'dmvs', 'dnf', 'do', 'doa', 'dobbins', 'dobson', 'doc', 'dock', 'dockers', 'docs', 'doctor', 'doctors', 'document', 'documentary', 'documents', 'dodey', 'dodge', 'dodged', 'dodger', 'dodgers', 'doens', 'does', 'doesn', 'doesnt', 'dog', 'dogfish', 'dogfishhead', 'dogfood', 'dogfoodadvisor', 'doggie', 'doggies', 'doggiestepsdogtraining', 'doggy', 'doglegs', 'dogparkriot', 'dogs', 'doh', 'doing', 'dojo', 'dolce', 'doling', 'doll', 'dollar', 'dollars', 'dolled', 'dollhouse', 'dollop', 'dolls', 'dolma', 'dolmades', 'dolmas', 'dolmeh', 'dolphin', 'dom', 'domestic', 'dominate', 'dominated', 'dominick', 'dominique', 'dominos', 'domo', 'don', 'donate', 'donated', 'donation', 'donations', 'done', 'donkey', 'donna', 'donnell', 'donor', 'dont', 'donut', 'donuts', 'doodle', 'doodles', 'doom', 'dooo', 'door', 'doorman', 'doors', 'doorway', 'doozy', 'dope', 'dorato', 'doris', 'dorm', 'dormouse', 'dorms', 'dorrie', 'dorries', 'dos', 'dosa', 'dosas', 'dose', 'dosen', 'dot', 'doted', 'dots', 'double', 'doubles', 'doubt', 'doubted', 'doubts', 'douche', 'doudy', 'dough', 'doughboy', 'doughnut', 'doughnuts', 'doughy', 'douse', 'doused', 'dousing', 'douxelle', 'dove', 'down', 'downer', 'downfall', 'downhill', 'downing', 'download', 'downloaded', 'downright', 'downs', 'downside', 'downsides', 'downstairs', 'downtime', 'downtown', 'downtrodden', 'dozen', 'dozens', 'dpov', 'dq', 'dr', 'draft', 'drafts', 'drafty', 'drag', 'dragged', 'dragon', 'dragonfly', 'dragons', 'drags', 'drain', 'drama', 'dramatic', 'dramatically', 'dramatics', 'drank', 'drastically', 'draught', 'draw', 'drawback', 'drawer', 'drawing', 'drawings', 'drawn', 'draws', 'dre', 'dread', 'dreaded', 'dreadful', 'dreading', 'dream', 'dreamcatcher', 'dreamed', 'dreaming', 'dreamlike', 'dreams', 'dreamy', 'dreary', 'dregs', 'dremel', 'drench', 'drenched', 'drenching', 'dress', 'dressed', 'dresser', 'dresses', 'dressier', 'dressing', 'dressings', 'dressy', 'drew', 'dried', 'drier', 'dries', 'drift', 'drill', 'drilling', 'drink', 'drinkable', 'drinker', 'drinkers', 'drinking', 'drinks', 'drip', 'dripped', 'dripping', 'drive', 'driven', 'driver', 'drivers', 'drives', 'driveway', 'driving', 'drizzle', 'drizzled', 'drizzling', 'droban', 'drone', 'drool', 'drooled', 'droolin', 'drooling', 'drools', 'drop', 'dropout', 'dropouts', 'dropped', 'dropping', 'drops', 'drought', 'drove', 'drown', 'drowned', 'drowning', 'drug', 'drugs', 'drum', 'drummer', 'drums', 'drunk', 'drunken', 'drunks', 'dry', 'dryer', 'drying', 'dryng', 'drywall', 'dslreports', 'dst', 'dt', 'dtown', 'du', 'duane', 'dubba', 'duce', 'duck', 'ducked', 'ducks', 'duct', 'dude', 'dudes', 'duds', 'due', 'dug', 'dugout', 'duh', 'dui', 'duke', 'dukes', 'dulce', 'dulche', 'dull', 'dumb', 'dumbass', 'dumber', 'dumbest', 'dumbfounded', 'dummies', 'dump', 'dumped', 'dumping', 'dumpling', 'dumplings', 'dumps', 'dumpster', 'dun', 'dungeness', 'dunkin', 'dunking', 'dunno', 'duo', 'duper', 'duplicate', 'duplication', 'durability', 'durant', 'durants', 'duration', 'during', 'durst', 'dusk', 'dust', 'dusted', 'dusting', 'dutch', 'dutchman', 'duties', 'dutton', 'duty', 'duvalin', 'dv', 'dvd', 'dvds', 'dwellers', 'dwindling', 'dye', 'dyed', 'dyer', 'dyes', 'dying', 'dynamite', 'dynasty', 'dysart', 'dzughter', 'décor', 'ea', 'each', 'eachother', 'eactually', 'eager', 'eagerly', 'eagerness', 'eagle', 'ear', 'earleir', 'earlier', 'earliest', 'early', 'earn', 'earned', 'earnest', 'earning', 'earrings', 'ears', 'earth', 'earthy', 'ease', 'eased', 'easels', 'easier', 'easiest', 'easily', 'easiy', 'easley', 'east', 'easter', 'eastern', 'eastside', 'eastwood', 'easy', 'eat', 'eatable', 'eated', 'eaten', 'eater', 'eateries', 'eaters', 'eatery', 'eatin', 'eating', 'eats', 'eavesdrop', 'ebay', 'ebi', 'ecclectic', 'echo', 'echoed', 'echoes', 'echoing', 'eclaire', 'eclectic', 'eclub', 'eco', 'economic', 'economical', 'economy', 'ecstacy', 'ecstasy', 'ecstatic', 'ect', 'ed', 'edamame', 'eddie', 'eddies', 'edemame', 'eden', 'edge', 'edges', 'edgier', 'edgy', 'edible', 'edison', 'edit', 'editable', 'edited', 'edition', 'edna', 'edu', 'eduardo', 'educate', 'educated', 'educating', 'education', 'educational', 'eduprize', 'edward', 'edwards', 'eeew', 'eegee', 'eegees', 'eek', 'eel', 'eewwww', 'efax', 'eff', 'effect', 'effective', 'effectively', 'effects', 'effen', 'efficacious', 'efficiency', 'efficient', 'efficiently', 'effin', 'effing', 'effort', 'efforts', 'eg', 'egad', 'egads', 'egg', 'eggees', 'eggless', 'eggplant', 'eggplants', 'eggroll', 'eggrolls', 'eggs', 'eggy', 'ego', 'egypt', 'egyptian', 'eh', 'eight', 'eighteen', 'einstein', 'einsteins', 'eis', 'eish', 'either', 'el', 'elaboration', 'elaine', 'elastic', 'elbow', 'elbows', 'elder', 'elderflower', 'elderly', 'eldest', 'elected', 'electing', 'election', 'electoral', 'electric', 'electrical', 'electronic', 'electronics', 'elegance', 'elegant', 'element', 'elements', 'elentra', 'elephant', 'elevated', 'elevates', 'elevation', 'elevator', 'elevators', 'eleven', 'elf', 'eliminating', 'elite', 'elites', 'elizabeth', 'ella', 'elliot', 'ellis', 'elm', 'elmer', 'eloquent', 'elote', 'elsa', 'else', 'elsewhere', 'eludes', 'elusive', 'elves', 'elvis', 'ely', 'em', 'email', 'emailed', 'emails', 'emapanadas', 'embarassed', 'embarassing', 'embarked', 'embarking', 'embarrassed', 'embarrassing', 'embarrassingly', 'embarrassment', 'embellishment', 'emberassed', 'embezzled', 'embodies', 'embraces', 'emcee', 'emerald', 'emerge', 'emergencies', 'emergency', 'emerging', 'emissions', 'emotion', 'emotional', 'empanada', 'empanadas', 'empathetic', 'empathize', 'emperor', 'emphasis', 'emphasize', 'empire', 'employ', 'employed', 'employee', 'employees', 'employer', 'employers', 'employess', 'empowering', 'empress', 'empties', 'emptor', 'empty', 'emptying', 'emu', 'emulate', 'emulsion', 'en', 'enable', 'encanto', 'encased', 'encebollada', 'encebollado', 'enchalada', 'enchanted', 'enchanting', 'enchantment', 'enchilada', 'enchiladas', 'enclosed', 'encompass', 'encore', 'encounter', 'encountered', 'encounters', 'encourage', 'encouraged', 'encouragement', 'encouraging', 'encroaching', 'encrusted', 'end', 'endearing', 'endeavor', 'endeavors', 'ended', 'ending', 'endless', 'endlessly', 'endorse', 'endorsing', 'endovenera', 'ends', 'endure', 'endures', 'enemies', 'enemy', 'energetic', 'energized', 'energy', 'enforce', 'engage', 'engaged', 'engagement', 'engaging', 'engine', 'engineering', 'england', 'english', 'engrossed', 'enhance', 'enigma', 'enigmatic', 'enjoy', 'enjoyable', 'enjoyably', 'enjoyed', 'enjoying', 'enjoyment', 'enjoys', 'enlarge', 'enlightened', 'enlightening', 'enlightenment', 'enormous', 'enotria', 'enough', 'enraged', 'enrique', 'enrolled', 'ensalda', 'ensembles', 'ensenada', 'ensuing', 'ensure', 'ensured', 'ensuring', 'enter', 'entered', 'entering', 'enterprise', 'entertain', 'entertained', 'entertaining', 'entertainment', 'enthusiasm', 'enthusiast', 'enthusiastic', 'enthusiastically', 'enthusiasts', 'entice', 'enticement', 'enticing', 'entire', 'entirely', 'entitled', 'entity', 'entomologist', 'entrance', 'entre', 'entree', 'entrees', 'entrepreneurial', 'entrepreneurs', 'entrepreneurship', 'entress', 'entries', 'entry', 'entrée', 'entrées', 'enuf', 'enveloped', 'envelopes', 'enviornment', 'enviroment', 'environment', 'environmental', 'environmentally', 'environs', 'envisioned', 'envy', 'enzymes', 'epic', 'epically', 'epiphany', 'episode', 'epitome', 'eponymous', 'equal', 'equally', 'equals', 'eque', 'equip', 'equipement', 'equipment', 'equipped', 'equis', 'equivalent', 'er', 'era', 'erbe', 'eric', 'erica', 'erin', 'eritrean', 'ernet', 'ernie', 'erosion', 'erotic', 'err', 'errant', 'error', 'errors', 'ers', 'es', 'escalate', 'escape', 'escaped', 'escaping', 'escebeche', 'escentuals', 'escolar', 'esp', 'espana', 'esparza', 'especially', 'esplanade', 'espn', 'espresso', 'esqe', 'esque', 'esquire', 'essence', 'essence_bakery_environmentally_friendly', 'essencebakery', 'essential', 'essentially', 'essentials', 'essie', 'esspresso', 'established', 'establishement', 'establishing', 'establishment', 'establishments', 'estate', 'esteem', 'esthetician', 'estimate', 'estimated', 'estimates', 'estimation', 'estimator', 'estrella', 'et', 'eta', 'etc', 'etcetera', 'eternally', 'eternity', 'ether', 'ethics', 'ethier', 'ethiopia', 'ethiopian', 'ethnic', 'ethnically', 'etienne', 'etiquette', 'etoufee', 'etouffee', 'etsy', 'eucalyptus', 'eugene', 'eugenia', 'euphoria', 'euphoric', 'euro', 'europe', 'european', 'euthanize', 'euthanizing', 'ev', 'evaluations', 'evaluative', 'evanger', 'evap', 'eve', 'even', 'evening', 'evenings', 'event', 'events', 'eventually', 'ever', 'everday', 'everett', 'eversince', 'every', 'everybody', 'everyday', 'everyhthing', 'everynight', 'everyone', 'everyones', 'everything', 'everytime', 'everywhere', 'eves', 'eveything', 'evident', 'evidently', 'evil', 'evoking', 'evolving', 'evoo', 'ew', 'ewe', 'eww', 'ewww', 'ewwww', 'ewwwwww', 'ex', 'exact', 'exacting', 'exactly', 'exagerating', 'exaggerating', 'exaggeration', 'exam', 'examination', 'examined', 'examining', 'example', 'examples', 'exams', 'exasperated', 'exceeded', 'exceeding', 'exceedingly', 'exceeds', 'excelent', 'excellence', 'excellent', 'excellente', 'excellently', 'except', 'exception', 'exceptionaaly', 'exceptional', 'exceptionally', 'exceptions', 'excess', 'excessive', 'excessively', 'exchange', 'exchanged', 'excite', 'excited', 'excitedly', 'excitement', 'exciting', 'exclaimed', 'exclaiming', 'exclamation', 'exclude', 'excluding', 'exclusive', 'exclusively', 'excruciatingly', 'exctaly', 'excursion', 'excuse', 'excuses', 'execucar', 'execute', 'executed', 'execution', 'executive', 'exemplary', 'exercise', 'exercises', 'exfoliating', 'exfoliator', 'exhaust', 'exhausted', 'exhaustion', 'exhibit', 'exhibits', 'exist', 'existed', 'existence', 'existent', 'existing', 'exists', 'exit', 'exiting', 'exodus', 'exotic', 'expand', 'expanded', 'expanding', 'expands', 'expansion', 'expansions', 'expansive', 'expct', 'expecially', 'expect', 'expectaions', 'expectation', 'expectations', 'expected', 'expecting', 'expedite', 'expediting', 'expedition', 'expen', 'expense', 'expenses', 'expensive', 'expereinces', 'experiece', 'experience', 'experienced', 'experiences', 'experiencing', 'experiens', 'experiment', 'experimental', 'expert', 'expertise', 'expertly', 'experts', 'expiration', 'expire', 'expires', 'explain', 'explained', 'explaining', 'explains', 'explanation', 'explanations', 'explode', 'exploded', 'exploding', 'exploit', 'explore', 'explored', 'exploring', 'explosion', 'expo', 'export', 'expos', 'expose', 'exposed', 'exposure', 'express', 'expressed', 'expression', 'expressions', 'exquisite', 'exsalonce', 'exspensive', 'extend', 'extended', 'extending', 'extension', 'extensive', 'extensively', 'extent', 'exterior', 'exterminator', 'external', 'extorting', 'extra', 'extract', 'extracted', 'extraction', 'extraordinarily', 'extraordinary', 'extras', 'extravaganza', 'extravaganzas', 'extreme', 'extremely', 'extremity', 'extremly', 'exude', 'exudes', 'ey', 'eye', 'eyeball', 'eyeballing', 'eyeballs', 'eyebrow', 'eyebrows', 'eyecare', 'eyed', 'eyeing', 'eyes', 'eyesight', 'eyesore', 'eytan', 'ez', 'f724', 'fab', 'fable', 'fabric', 'fabricate', 'fabrics', 'fabulos', 'fabulous', 'fabulousness', 'fabulus', 'face', 'facebook', 'faced', 'faceplates', 'faces', 'facial', 'facials', 'faciatis', 'facilites', 'facilities', 'facility', 'facing', 'fact', 'facto', 'factor', 'factories', 'factors', 'factory', 'facts', 'faded', 'fades', 'faggot', 'fags', 'fail', 'failed', 'failing', 'fails', 'failure', 'faint', 'faintly', 'fair', 'fairly', 'fairmont', 'fairness', 'fairway', 'fairways', 'fairy', 'fairytales', 'faith', 'faithful', 'fajita', 'fajitas', 'fajito', 'fake', 'fakeness', 'fakville', 'falafel', 'falafels', 'fall', 'fallen', 'falling', 'fallout', 'falls', 'false', 'fame', 'famed', 'familiar', 'families', 'family', 'famished', 'famous', 'fan', 'fanatic', 'fanatical', 'fancier', 'fanciest', 'fancy', 'fandito', 'fans', 'fanstatic', 'fantabulous', 'fantasies', 'fantasize', 'fantasizing', 'fantastalistic', 'fantastic', 'fantastical', 'fantastically', 'fantasy', 'far', 'farberware', 'fare', 'fargin', 'fargo', 'farm', 'farmed', 'farmer', 'farmers', 'farmhouse', 'farmland', 'farms', 'farnsworth', 'fart', 'farther', 'farthest', 'fascia', 'fascinated', 'fascinating', 'fascinations', 'fashion', 'fashionable', 'fashioned', 'fashions', 'fast', 'faster', 'fastest', 'fat', 'fatal', 'fatburger', 'fate', 'father', 'fathers', 'fathom', 'fats', 'fattening', 'fattie', 'fatty', 'faucets', 'fault', 'faux', 'fav', 'fave', 'faves', 'favie', 'favor', 'favorable', 'favorably', 'favored', 'favorite', 'favorites', 'favorito', 'favors', 'favourite', 'favs', 'fawning', 'fax', 'faxed', 'faxes', 'fb', 'fe', 'fear', 'feared', 'fearing', 'fears', 'feast', 'feasted', 'feasting', 'feat', 'feature', 'featured', 'features', 'featuring', 'feb', 'febuary', 'feces', 'fed', 'feddys', 'federal', 'fedex', 'feds', 'fee', 'feed', 'feedback', 'feeder', 'feeders', 'feeding', 'feeds', 'feel', 'feeling', 'feelings', 'feels', 'feenin', 'fees', 'feet', 'feiends', 'feigned', 'feist', 'felines', 'felipe', 'fell', 'fellas', 'feller', 'fellow', 'felt', 'female', 'fence', 'fenced', 'fences', 'fender', 'feng', 'fennel', 'fermentated', 'fermented', 'fermier', 'fernidad', 'ferns', 'ferrari', 'ferrits', 'fertility', 'fervor', 'fest', 'festival', 'festivals', 'festive', 'festivities', 'fet', 'feta', 'fetash', 'fetch', 'fetoosh', 'fetta', 'fettuccine', 'fettucine', 'fettucini', 'fetzer', 'feuille', 'fever', 'few', 'fewer', 'fez', 'ff', 'fh', 'fi', 'fiance', 'fiancee', 'fiancé', 'fibbertygibbet', 'ficticious', 'fiction', 'fiddler', 'fides', 'fied', 'field', 'fields', 'fiend', 'fierce', 'fiercely', 'fiery', 'fiesta', 'fifteen', 'fifth', 'fifty', 'fig', 'fight', 'fighters', 'fighting', 'fights', 'figs', 'figuratively', 'figure', 'figured', 'figures', 'figuring', 'fil', 'file', 'filed', 'filepe', 'files', 'filet', 'filets', 'filiberto', 'filibertos', 'filing', 'filings', 'filipino', 'fill', 'filled', 'filler', 'fillet', 'fillets', 'filling', 'fillings', 'fills', 'filly', 'film', 'filmed', 'films', 'filmy', 'filter', 'filth', 'filthy', 'fin', 'final', 'finale', 'finally', 'finalmente', 'finals', 'finance', 'financial', 'financially', 'find', 'finding', 'findings', 'finds', 'fine', 'finely', 'finer', 'fines', 'finesse', 'finest', 'finger', 'fingerling', 'fingernails', 'fingerprint', 'fingerprinting', 'fingerprints', 'fingers', 'fingertip', 'fingertips', 'finish', 'finished', 'finishes', 'finishing', 'finnaly', 'fiorella', 'fire', 'firearm', 'firearms', 'firebird', 'fired', 'firefly', 'firemen', 'firepit', 'firepits', 'fireplace', 'fireplaces', 'fires', 'firestone', 'firewood', 'fireworks', 'firey', 'firing', 'firm', 'firmer', 'firmly', 'first', 'firstly', 'fish', 'fisherman', 'fishers', 'fishheads', 'fishing', 'fishy', 'fist', 'fists', 'fit', 'fitcenter', 'fitness', 'fits', 'fitted', 'fitter', 'fitting', 'fitzgerald', 'five', 'fived', 'fives', 'fix', 'fixable', 'fixated', 'fixe', 'fixed', 'fixie', 'fixin', 'fixing', 'fixings', 'fixtures', 'flag', 'flagged', 'flagging', 'flagstaff', 'flair', 'flake', 'flaked', 'flakes', 'flakey', 'flaky', 'flambeed', 'flame', 'flamed', 'flamenco', 'flaming', 'flan', 'flank', 'flanked', 'flannel', 'flap', 'flare', 'flash', 'flashback', 'flashbacks', 'flashed', 'flashing', 'flashlight', 'flashlights', 'flask', 'flat', 'flatbread', 'flatbreads', 'flatiron', 'flatscreen', 'flattened', 'flatter', 'flautas', 'flaverful', 'flavor', 'flavored', 'flavorful', 'flavorgasm', 'flavoring', 'flavorless', 'flavors', 'flavour', 'flawj', 'flawless', 'flaws', 'flee', 'fleet', 'fleming', 'flemings', 'flemmingsery', 'flew', 'flexed', 'flexibility', 'flexible', 'flick', 'flicked', 'flickr', 'flier', 'fliers', 'flies', 'flight', 'flights', 'flimsiest', 'flimsy', 'flintstones', 'flip', 'flippant', 'flipped', 'flipper', 'flipstick', 'flirt', 'flirting', 'flirtini', 'flo', 'float', 'floating', 'flock', 'flocking', 'flooded', 'flooding', 'floor', 'floored', 'flooring', 'floors', 'flops', 'flora', 'floral', 'florals', 'florence', 'florentine', 'florescent', 'florets', 'florida', 'floridino', 'florist', 'flossing', 'flour', 'flourished', 'flourishes', 'flourishing', 'flourless', 'flours', 'flow', 'flowed', 'flower', 'flowering', 'flowers', 'flowing', 'flown', 'flu', 'fluent', 'fluff', 'fluffed', 'fluffiness', 'fluffy', 'fluke', 'flummoxed', 'fluorescent', 'flushed', 'flushes', 'flushing', 'flustered', 'flute', 'fluttering', 'fluttery', 'flw', 'fly', 'flyer', 'flyers', 'flying', 'flyover', 'fnb', 'fo', 'foam', 'foamed', 'foamy', 'fob', 'focaccia', 'focal', 'foccacia', 'foced', 'focus', 'focused', 'focuses', 'focusing', 'fodder', 'fogo', 'foi', 'foie', 'foil', 'fold', 'folded', 'folding', 'folk', 'folks', 'follow', 'followed', 'followers', 'following', 'follows', 'fond', 'fonda', 'fondant', 'fondest', 'fondu', 'fondue', 'fondues', 'fontina', 'fonts', 'foo', 'food', 'foodaholic', 'foodie', 'foodies', 'foodnet', 'foods', 'foodstuffs', 'foodwise', 'foody', 'fooey', 'foofy', 'fool', 'fooled', 'foolery', 'fooling', 'foolish', 'foolishly', 'fools', 'foooo', 'foosball', 'foot', 'footage', 'football', 'footed', 'foothill', 'foothills', 'footlongs', 'footnote', 'footprint', 'for', 'foraged', 'foray', 'forbes', 'forbidden', 'force', 'forced', 'forcing', 'ford', 'forearms', 'foreign', 'foreigner', 'foremost', 'foresee', 'forest', 'forever', 'forewarned', 'forgave', 'forget', 'forgettable', 'forgetting', 'forgivable', 'forgive', 'forgiving', 'forgo', 'forgot', 'forgotten', 'fork', 'forks', 'form', 'formal', 'format', 'formation', 'formations', 'formative', 'formed', 'former', 'formerly', 'formidable', 'forming', 'forms', 'formula', 'formulaic', 'fornaio', 'forno', 'forsaken', 'forth', 'forthcoming', 'forts', 'fortunate', 'fortunately', 'fortune', 'forty', 'forvever', 'forward', 'forwarded', 'forwarding', 'fossil', 'foster', 'fought', 'foul', 'fould', 'foulest', 'found', 'foundation', 'founded', 'founder', 'fountain', 'fountains', 'four', 'fourpeaks', 'fourteen', 'fourth', 'fourtherly', 'fowarding', 'fowl', 'fox', 'foxes', 'foxy', 'foyer', 'fraction', 'frag', 'fragrance', 'fraiche', 'frail', 'frame', 'framed', 'frames', 'fran', 'france', 'frances', 'francesca', 'franchise', 'franchises', 'francis', 'franciscan', 'francisco', 'franco', 'frangipane', 'frank', 'frankfurters', 'frankly', 'frantic', 'frantically', 'frappacino', 'frappes', 'frappuccino', 'frat', 'fray', 'frazzeling', 'fraîche', 'freak', 'freaked', 'freaken', 'freakin', 'freaking', 'freaky', 'fred', 'freddie', 'freddy', 'free', 'freedom', 'freestanding', 'freeway', 'freeze', 'freezer', 'freezing', 'freind', 'freindly', 'french', 'frenched', 'frenetic', 'frenzy', 'frequent', 'frequented', 'frequenting', 'frequently', 'frequents', 'fresca', 'frescas', 'fresco', 'frescoed', 'frescolina', 'fresh', 'freshened', 'freshener', 'fresher', 'freshest', 'freshly', 'freshman', 'freshness', 'freshwater', 'fret', 'freud', 'fri', 'fricase', 'frickin', 'frida', 'friday', 'fridays', 'fridge', 'fridges', 'fried', 'friend', 'friendlier', 'friendliest', 'friendliness', 'friendly', 'friends', 'friendship', 'fries', 'friggin', 'frigging', 'fright', 'frighten', 'frightened', 'frijoles', 'frills', 'frings', 'frisbee', 'frisco', 'frita', 'fritas', 'fritatta', 'frites', 'frito', 'frittata', 'frittatas', 'fritters', 'fritti', 'fritto', 'fro', 'frog', 'frogger', 'from', 'fromage', 'front', 'frontiers', 'frontline', 'froo', 'froshy', 'frost', 'frosted', 'frosting', 'frostings', 'frosty', 'froth', 'frothing', 'frothy', 'frou', 'frown', 'froyo', 'froze', 'frozen', 'frquently', 'fru', 'fructose', 'frugal', 'frugle', 'fruit', 'fruits', 'fruity', 'frustrate', 'frustrated', 'frustrating', 'frustration', 'frustrations', 'fry', 'frybread', 'fryer', 'frying', 'frys', 'fsg07smlz5s', 'ft', 'ftw', 'fu', 'fubar', 'fuck', 'fucked', 'fuckhead', 'fuckin', 'fucking', 'fucks', 'fuct', 'fuddburger', 'fuddrucker', 'fuddruckers', 'fudge', 'fuego', 'fuel', 'fueled', 'fueling', 'fuh', 'fuji', 'fujiwara', 'fujiya', 'fulfill', 'fulfilling', 'full', 'fullest', 'fulling', 'fulls', 'fully', 'fumes', 'fuming', 'fun', 'function', 'functional', 'functionality', 'fund', 'fundido', 'funding', 'fundito', 'fundraiser', 'fundraising', 'funds', 'fungi', 'fungus', 'funk', 'funky', 'funnel', 'funner', 'funniest', 'funny', 'funsports', 'furious', 'furnace', 'furnish', 'furnished', 'furnishings', 'furniture', 'furrowed', 'furry', 'further', 'furthermore', 'fury', 'fuse', 'fuses', 'fusion', 'fuss', 'fussed', 'fussy', 'future', 'futuristic', 'fuzzy', 'fw', 'fwd', 'fyi', 'g37', 'gabe', 'gabi', 'gabriel', 'gadgets', 'gadsden', 'gaeta', 'gag', 'gaga', 'gai', 'gain', 'gained', 'gainey', 'gaining', 'gak', 'gal', 'galbi', 'galbut', 'gall', 'galleries', 'gallery', 'gallina', 'gallo', 'gallon', 'gallons', 'galore', 'gals', 'galze', 'gambas', 'gamble', 'gamblers', 'gambling', 'game', 'gamers', 'games', 'gaming', 'gammage', 'ganache', 'gang', 'gangly', 'gangplank', 'ganoosh', 'ganouj', 'ganoush', 'gansitos', 'gap', 'garage', 'garbage', 'garbonzo', 'garces', 'garcia', 'garden', 'gardeners', 'gardening', 'gardens', 'gardin', 'garfield', 'gargantuan', 'garlands', 'garlic', 'garlicky', 'garmin', 'garner', 'garnish', 'garnished', 'garnishes', 'garnishing', 'garsh', 'gary', 'gas', 'gasket', 'gasm', 'gasmic', 'gasoline', 'gasping', 'gastrique', 'gastronomic', 'gastronomical', 'gastronomy', 'gastropub', 'gate', 'gates', 'gateway', 'gather', 'gathered', 'gathering', 'gator', 'gatos', 'gauc', 'gaudy', 'gauge', 'gauzy', 'gave', 'gavin', 'gawking', 'gay', 'gaylee', 'gaze', 'gazillion', 'gazing', 'gazpacho', 'ge', 'gear', 'gearing', 'geasy', 'gee', 'geek', 'geeks', 'geezerados', 'geisha', 'gel', 'gelati', 'gelatin', 'gelatinous', 'gelato', 'gelish', 'gellato', 'gelleto', 'gels', 'gem', 'gems', 'gen', 'gender', 'genders', 'gene', 'general', 'generally', 'generals', 'generate', 'generation', 'generations', 'generic', 'generious', 'generous', 'generously', 'genes', 'genetically', 'genevese', 'genin', 'genius', 'genre', 'genres', 'gent', 'gentle', 'gentleman', 'gentlemen', 'gently', 'genuine', 'genuinely', 'george', 'georges', 'georgia', 'georgie', 'geranios', 'germain', 'german', 'germany', 'germs', 'gerri', 'gerry', 'gesture', 'get', 'getaway', 'gets', 'gettin', 'getting', 'gf', 'ghetto', 'ghirardelli', 'ghost', 'ghostly', 'ghosts', 'giant', 'giants', 'giardinara', 'giardiniera', 'gift', 'giftcards', 'gifts', 'gig', 'gigantic', 'giggle', 'gil', 'gila', 'gilbert', 'gilda', 'gills', 'gimlet', 'gimme', 'gimmick', 'gimmicks', 'gimmicky', 'gin', 'gina', 'ginger', 'gingerbread', 'ginhound', 'ginormous', 'gio', 'giorno', 'giraffes', 'girdle', 'girl', 'girlfirned', 'girlfriend', 'girlfriends', 'girls', 'girly', 'girth', 'giseling', 'giselle', 'gist', 'git', 'giu', 'giuseppe', 'giuseppes', 'give', 'giveing', 'given', 'giver', 'givers', 'gives', 'giving', 'glace', 'glacier', 'glad', 'gladly', 'glam', 'glamorous', 'glamour', 'glance', 'glanced', 'glands', 'glare', 'glaring', 'glass', 'glassblowing', 'glasses', 'glassware', 'glasswares', 'glassy', 'glaze', 'glazed', 'gleaming', 'glee', 'glen', 'glendale', 'glib', 'glibert', 'glimpse', 'glistening', 'glitches', 'glitter', 'glitterific', 'glitters', 'glittery', 'global', 'globalpi', 'globo', 'glom', 'glop', 'gloria', 'glorias', 'glories', 'glorified', 'glorious', 'glory', 'glosses', 'glossy', 'glove', 'gloves', 'glow', 'glowing', 'glows', 'glued', 'gluten', 'glutten', 'glutton', 'gluttonous', 'gluttony', 'gm', 'gmo', 'gnarly', 'gnat', 'gnocchi', 'go', 'goal', 'goalie', 'goals', 'goat', 'goats', 'goaz', 'gobble', 'gobbled', 'gobi', 'gobs', 'god', 'goddamn', 'goddess', 'godfather', 'godiva', 'gods', 'goer', 'goers', 'goes', 'goi', 'going', 'goings', 'gold', 'golden', 'golds', 'goldwater', 'goldwell', 'golf', 'golfer', 'golfers', 'golfing', 'goliath', 'gomen', 'gomers', 'gon', 'gone', 'gong', 'gonna', 'gonzales', 'goo', 'goober', 'goobye', 'good', 'goodbye', 'goodcents', 'goodies', 'goodness', 'goodnight', 'goods', 'goodwill', 'goody', 'goodyear', 'goodytwo', 'gooey', 'goof', 'goofing', 'goofy', 'google', 'googled', 'googling', 'goona', 'goood', 'goooood', 'gooooooood', 'gooooooooodness', 'goose', 'goosebumps', 'gooy', 'gordo', 'gordon', 'goregous', 'gorganzola', 'gorge', 'gorgeous', 'gorgonzola', 'gosh', 'gospel', 'gossip', 'gossiping', 'got', 'gothic', 'goto', 'gots', 'gotta', 'gotten', 'gotter', 'gouda', 'gouged', 'gourmet', 'gov', 'government', 'governor', 'gow', 'gown', 'gowns', 'gps', 'gr8', 'grab', 'grabbed', 'grabbing', 'grabbingly', 'grace', 'graced', 'gracious', 'graciously', 'graciousness', 'grad', 'grade', 'graders', 'grades', 'gradual', 'graduate', 'graduated', 'graduation', 'grady', 'graffenberg', 'graham', 'grahm', 'grain', 'grains', 'grainy', 'grand', 'grandad', 'grandchildren', 'grande', 'grandfather', 'grandiose', 'grandma', 'grandmas', 'grandmother', 'grandmothers', 'grandpa', 'grandparents', 'grandson', 'granite', 'granny', 'granola', 'granted', 'grape', 'grapefruit', 'grapes', 'graphically', 'graphics', 'grappa', 'gras', 'grasp', 'grass', 'grasses', 'grassroots', 'grassy', 'grated', 'grateful', 'gratefully', 'grates', 'gratifying', 'gratin', 'gratis', 'gratitude', 'gratuitus', 'gratuity', 'gratzi', 'grave', 'gravel', 'gravelly', 'graveyard', 'gravity', 'gravlax', 'gravy', 'gray', 'grayhawk', 'grazie', 'grazing', 'grease', 'greasepaint', 'greasewood', 'greasiest', 'greasy', 'great', 'greater', 'greatest', 'greatly', 'greatness', 'greece', 'greed', 'greedy', 'greeeeeeat', 'greek', 'green', 'greenbelt', 'greene', 'greens', 'greenville', 'greenway', 'greet', 'greeted', 'greeting', 'greetings', 'greets', 'greg', 'gregarious', 'grelichs', 'grenache', 'greta', 'grew', 'grey', 'griddle', 'griddled', 'grief', 'grigio', 'grill', 'grille', 'grilled', 'griller', 'grilling', 'grills', 'grimaldi', 'grimaldis', 'grimiest', 'grin', 'grind', 'grinda', 'grinded', 'grinder', 'grinders', 'grinding', 'gringa', 'gringas', 'gringos', 'grinning', 'gripe', 'gripeing', 'gripes', 'griping', 'gris', 'gristle', 'gristly', 'grit', 'grits', 'gritted', 'gritty', 'groaning', 'grocer', 'groceries', 'grocery', 'groin', 'groom', 'groomed', 'groomer', 'groomers', 'grooming', 'grooping', 'groovy', 'gross', 'grossed', 'grossest', 'grotown', 'ground', 'grounds', 'group', 'groupie', 'grouping', 'groupon', 'groupons', 'groups', 'groupwork', 'grousing', 'grove', 'groves', 'grow', 'growers', 'growing', 'growl', 'growled', 'growler', 'growlers', 'growling', 'growls', 'grown', 'grows', 'growth', 'grr', 'grrr', 'grub', 'grubbiest', 'grubbing', 'grudge', 'grumbling', 'grumpy', 'grunts', 'gruyere', 'gryos', 'grâce', 'gs', 'gtfo', 'guac', 'guacamole', 'guacomole', 'guadalupe', 'guangdong', 'guarantee', 'guaranteed', 'guard', 'guardians', 'guards', 'gucci', 'guedo', 'guenther', 'guerrero', 'guess', 'guessed', 'guessing', 'guest', 'guests', 'guide', 'guided', 'guidelines', 'guides', 'guiding', 'guido', 'guild', 'guilt', 'guiltily', 'guilty', 'guiness', 'guinness', 'guissepe', 'guitar', 'guitars', 'gulf', 'gulp', 'gum', 'gumbo', 'gumline', 'gummi', 'gummie', 'gummit', 'gummy', 'gums', 'gun', 'gunkan', 'gunked', 'gunna', 'gunny', 'guns', 'gurl', 'gurtude', 'gurus', 'gush', 'gushing', 'gushy', 'gusta', 'gusting', 'gusto', 'gut', 'guts', 'gutsy', 'gutted', 'gutting', 'guy', 'guys', 'gw', 'gym', 'gymboree', 'gymnastics', 'gyms', 'gyn', 'gynormous', 'gynormus', 'gyoza', 'gyrating', 'gyro', 'gyros', 'h20', 'h2o', 'ha', 'haagen', 'habanero', 'habaneros', 'habenaro', 'habenero', 'habit', 'habits', 'haboob', 'hacienda', 'hacked', 'hacky', 'had', 'haddock', 'hadn', 'hadnt', 'hagard', 'hagen', 'haha', 'hahahahaha', 'hahn', 'haiku', 'hail', 'hailed', 'hair', 'haircot', 'haircut', 'haircuts', 'hairdresser', 'haired', 'hairless', 'hairs', 'hairy', 'haji', 'hakata', 'haley', 'half', 'halfway', 'halibut', 'hall', 'halley', 'hallmark', 'halloween', 'halls', 'hallway', 'hallways', 'halo', 'halogens', 'halorescue', 'ham', 'hamachi', 'hamburger', 'hamburgers', 'hamburgessa', 'hamilton', 'hammered', 'hamper', 'hampshire', 'hampton', 'hana', 'hancock', 'hand', 'handbag', 'handbags', 'handcut', 'handed', 'handedly', 'handful', 'handi', 'handicappers', 'handing', 'handiwork', 'handkerchiefs', 'handle', 'handlebar', 'handled', 'handles', 'handling', 'handmade', 'handrails', 'hands', 'handshake', 'handsome', 'handsomely', 'handwritten', 'handy', 'handyman', 'hanede', 'haney', 'hang', 'hangars', 'hanger', 'hanging', 'hangings', 'hangout', 'hangover', 'hangovers', 'hangs', 'hank', 'hankering', 'hannah', 'hanny', 'hannys', 'hansen', 'hanson', 'hansons', 'hap', 'haphazardly', 'happen', 'happened', 'happenin', 'happening', 'happens', 'happhazardly', 'happier', 'happiest', 'happily', 'happiness', 'happy', 'har', 'harass', 'harassed', 'harassing', 'harassment', 'harbor', 'harcs', 'hard', 'hardcore', 'hardcovers', 'hardened', 'harder', 'hardest', 'hardly', 'hardware', 'hardwood', 'hardworking', 'hardy', 'harissa', 'harkin', 'harkins', 'harlequin', 'harley', 'harm', 'harmful', 'harmonies', 'harmony', 'harold', 'harp', 'harping', 'harried', 'harris', 'harry', 'harsh', 'harshness', 'hart', 'haru', 'harvest', 'harvil', 'has', 'hash', 'hashbrowns', 'hashtagging', 'hasn', 'hassle', 'hassled', 'hastily', 'hasty', 'hat', 'hatch', 'hate', 'hated', 'hateful', 'hates', 'hatha', 'hating', 'hats', 'haul', 'hauled', 'haunt', 'haunted', 'haunts', 'haupia', 'haus', 'hava', 'havana', 'havarti', 'have', 'haven', 'havent', 'having', 'havn', 'havoc', 'hawai', 'hawaii', 'hawaiian', 'hay', 'hayashi', 'hayden', 'hayride', 'hazelnut', 'hazelnuts', 'hazzard', 'haüs', 'hbo', 'hcg', 'hd', 'he', 'head', 'headache', 'headaches', 'headed', 'headfirst', 'heading', 'headphones', 'headquarters', 'heads', 'headset', 'headsplitting', 'heady', 'heafty', 'heal', 'healed', 'healer', 'healing', 'heals', 'health', 'healthcare', 'healthful', 'healthier', 'healthiest', 'healthy', 'heap', 'heaping', 'heaps', 'hear', 'heard', 'hearing', 'hears', 'heart', 'heartbeat', 'heartbroken', 'heartburn', 'hearted', 'heartedly', 'hearth', 'hearts', 'heartworm', 'hearty', 'heat', 'heated', 'heater', 'heaters', 'heath', 'heathens', 'heather', 'heating', 'heaven', 'heavenly', 'heavens', 'heaviest', 'heavily', 'heavy', 'hebrew', 'heck', 'heckling', 'hectic', 'hector', 'hedge', 'hee', 'heed', 'heehee', 'heel', 'heeled', 'heels', 'hefe', 'hefeweizen', 'heff', 'heft', 'hefty', 'hegel', 'heh', 'hehehe', 'heidelberg', 'height', 'heightened', 'heinous', 'heinritz', 'heinz', 'heirloom', 'held', 'helen', 'helicopters', 'hell', 'hellava', 'hellish', 'hellllll', 'hellllllllo', 'hello', 'hells', 'helm', 'helmet', 'helmets', 'help', 'helped', 'helpers', 'helpful', 'helpfull', 'helpfulness', 'helping', 'helpless', 'helps', 'helstrom', 'hem', 'hematoma', 'hemet', 'hemmed', 'hemroid', 'hen', 'hence', 'henckels', 'hens', 'hep', 'her', 'herb', 'herbal', 'herbed', 'herberger', 'herbs', 'herd', 'here', 'hereby', 'heritage', 'herme', 'hernan', 'hernandez', 'hero', 'heroes', 'herring', 'hers', 'herself', 'hershey', 'hertz', 'hes', 'hesistant', 'hesitant', 'hesitantly', 'hesitate', 'hesitated', 'hesitation', 'hey', 'heyday', 'hh', 'hi', 'hiatus', 'hibachi', 'hiccup', 'hick', 'hickish', 'hicks', 'hickups', 'hid', 'hidden', 'hide', 'hideaway', 'hiden', 'hideous', 'hideout', 'hides', 'hideway', 'hiding', 'high', 'highchair', 'higher', 'highest', 'highland', 'highlight', 'highlighting', 'highlights', 'highly', 'highs', 'highschool', 'highschoolers', 'hight', 'hightops', 'highway', 'highways', 'hike', 'hiked', 'hikers', 'hikes', 'hiking', 'hilarious', 'hilariously', 'hilary', 'hill', 'hillard', 'hillier', 'hills', 'hillstone', 'hilo', 'hilton', 'him', 'himalayan', 'himself', 'hindering', 'hint', 'hints', 'hip', 'hipper', 'hippie', 'hippies', 'hippness', 'hippy', 'hipster', 'hipsterness', 'hipsters', 'hipstery', 'hire', 'hired', 'hires', 'hiring', 'hiro', 'his', 'hispanic', 'historic', 'historical', 'history', 'hit', 'hitch', 'hitchin', 'hitlist', 'hits', 'hitting', 'hk', 'hkgb', 'hmm', 'hmmm', 'hmmmm', 'hmmmmm', 'hmmmmmm', 'hmmmmmmm', 'hmmph', 'hnnngffff', 'ho', 'hoa', 'hoagies', 'hoan', 'hob', 'hobbies', 'hobby', 'hoboken', 'hobos', 'hockey', 'hocks', 'hodgepodge', 'hoegaarden', 'hoffman', 'hog', 'hogie', 'hogs', 'hogwarts', 'hoikey', 'hoisted', 'hokokum', 'hold', 'holder', 'holders', 'holding', 'holds', 'hole', 'holes', 'holey', 'holiday', 'holidays', 'holistic', 'hollandaise', 'hollendaise', 'holly', 'hollywood', 'holmes', 'holocaust', 'holy', 'hom', 'homage', 'home', 'homecooked', 'homefries', 'homeless', 'homemade', 'homemake', 'homeopathic', 'homer', 'homerun', 'homes', 'homestyle', 'hometown', 'homework', 'homey', 'homies', 'hominy', 'homogenized', 'homophobia', 'homosexuals', 'homous', 'honda', 'honduras', 'hone', 'honed', 'honeslty', 'honest', 'honestly', 'honesty', 'honey', 'honeycomb', 'honeymoon', 'hong', 'honked', 'honor', 'honorable', 'honored', 'honoring', 'honors', 'hoo', 'hood', 'hoodlum', 'hoods', 'hook', 'hookah', 'hooked', 'hookers', 'hooks', 'hooligan', 'hooligans', 'hoooorray', 'hoopla', 'hooray', 'hoosiers', 'hooters', 'hootsuite', 'hop', 'hope', 'hoped', 'hopeful', 'hopefully', 'hopes', 'hopi', 'hoping', 'hopital', 'hopped', 'hoppin', 'hopping', 'hoppins', 'hops', 'hopshot', 'horatio', 'horchata', 'horizon', 'hormonally', 'hormone', 'hormones', 'horns', 'horrendous', 'horrible', 'horribly', 'horrid', 'horrific', 'horrifically', 'horrified', 'horror', 'horse', 'horseback', 'horseradish', 'horses', 'horseshoes', 'horshradish', 'horwitz', 'hose', 'hospitable', 'hospital', 'hospitality', 'hospitals', 'host', 'hostage', 'hosted', 'hostess', 'hostesses', 'hostile', 'hosting', 'hosts', 'hot', 'hotdog', 'hotdogs', 'hotel', 'hotels', 'hotin', 'hotplate', 'hotpot', 'hots', 'hotspot', 'hotspots', 'hotter', 'hottest', 'hottie', 'hotties', 'hotttt', 'hotwings', 'hotwire', 'hotziki', 'hound', 'hounding', 'hour', 'hours', 'house', 'housed', 'household', 'househunting', 'housekeeping', 'housemade', 'houses', 'housewares', 'housewife', 'houston', 'houstons', 'hover', 'hovered', 'hovering', 'how', 'howard', 'howdy', 'howell', 'however', 'howl', 'hows', 'hr', 'hrid', 'hrs', 'hrt', 'hs', 'htc', 'htf', 'html', 'http', 'huauchinango', 'hub', 'hubbard', 'hubbie', 'hubby', 'hubbys', 'hubris', 'hubs', 'hubster', 'huckleberry', 'hudson', 'hue', 'huera', 'hues', 'huevos', 'huff', 'hug', 'huge', 'hugely', 'hugh', 'hugs', 'huh', 'hula', 'hullabaloo', 'hum', 'human', 'humane', 'humanely', 'humanity', 'humans', 'humble', 'humbling', 'humbly', 'humboldt', 'humdinger', 'humid', 'humidifier', 'humidity', 'humiliating', 'hummee', 'hummers', 'hummingbirds', 'hummous', 'hummus', 'humor', 'humus', 'hundred', 'hundreds', 'hung', 'hunger', 'hungover', 'hungrier', 'hungry', 'hunk', 'huns', 'hunt', 'hunter', 'hunters', 'hunting', 'hurrah', 'hurricane', 'hurried', 'hurries', 'hurry', 'hurt', 'hurtful', 'hurting', 'hurts', 'husband', 'husbandly', 'husbands', 'hush', 'hushpuppys', 'hussy', 'hustle', 'hustled', 'hut', 'huuuugggeee', 'hwy', 'hyatt', 'hyberbolic', 'hybrid', 'hyde', 'hydrants', 'hydrated', 'hydration', 'hydro', 'hydrogen', 'hydrogenated', 'hydroponically', 'hygenist', 'hygiene', 'hygienist', 'hygienists', 'hype', 'hyped', 'hyper', 'hyperbole', 'hypes', 'hypnotic', 'hypnotized', 'hypocrite', 'hyundai', 'ia', 'iam', 'iamtimhardy', 'ice', 'iceberg', 'iceburg', 'icecream', 'iced', 'icee', 'ices', 'icey', 'ichi', 'ichigo', 'icing', 'icious', 'ick', 'icky', 'icon', 'iconic', 'icons', 'icy', 'id', 'idea', 'ideal', 'ideas', 'idem', 'identical', 'identified', 'identify', 'identity', 'idiot', 'idiotic', 'idiots', 'idk', 'ie', 'if', 'iffy', 'ignacio', 'ignite', 'ignorance', 'ignorant', 'ignore', 'ignored', 'ignoring', 'ihop', 'ii', 'iii', 'iitoi', 'iitttyyy', 'ikea', 'ikeaish', 'ikura', 'il', 'ilbs', 'ilk', 'ill', 'illegal', 'illlll', 'illness', 'illuminating', 'illusion', 'illusive', 'illustrates', 'im', 'image', 'imagery', 'images', 'imaginable', 'imagination', 'imaginations', 'imagine', 'imagined', 'imax', 'imbued', 'imho', 'imitation', 'immaculate', 'immaculately', 'immediate', 'immediately', 'immense', 'immensely', 'immersed', 'immigrants', 'imminent', 'immobile', 'immune', 'imo', 'impact', 'impaired', 'impatient', 'impecable', 'impeccable', 'impeccably', 'impending', 'imperative', 'imperial', 'impersonal', 'impession', 'impetus', 'implicitly', 'implies', 'impolite', 'importance', 'important', 'importantly', 'imported', 'importing', 'impossible', 'impossibly', 'impostors', 'impractical', 'impresive', 'impress', 'impressed', 'impresses', 'impressing', 'impression', 'impressions', 'impressive', 'impressively', 'imprinted', 'imprinting', 'impromptu', 'improper', 'improv', 'improve', 'improved', 'improvement', 'improvements', 'improves', 'improving', 'in', 'inability', 'inactive', 'inactivity', 'inadequate', 'inadvertently', 'inappropriate', 'inaugural', 'inauthentic', 'inbetween', 'inbox', 'inc', 'incantation', 'incapable', 'incarnation', 'incentive', 'incentives', 'incessant', 'inch', 'inches', 'incidences', 'incident', 'incidental', 'incidentally', 'incision', 'inclined', 'inclines', 'include', 'included', 'includes', 'including', 'inclusion', 'inclusive', 'income', 'incoming', 'incompetence', 'incompetent', 'incongruous', 'inconsistencies', 'inconsistent', 'inconvenice', 'inconvenience', 'inconvenienced', 'inconveniencing', 'inconvenient', 'incorporate', 'incorporated', 'incorporation', 'incorrect', 'incorrectly', 'increase', 'increased', 'increases', 'increasing', 'increasingly', 'incredibally', 'incredible', 'incredibly', 'indecisive', 'indeed', 'independent', 'independently', 'indescribably', 'indestructible', 'index', 'india', 'indian', 'indiana', 'indians', 'indicated', 'indicates', 'indicating', 'indication', 'indicative', 'indictment', 'indie', 'indifferent', 'indigenous', 'indigestion', 'indistinguishable', 'individual', 'individuality', 'individualized', 'individually', 'individuals', 'indo', 'indoor', 'indoors', 'indra', 'induce', 'inducing', 'indulge', 'indulged', 'indulgence', 'indulgent', 'indulges', 'indulging', 'industrial', 'industrious', 'industry', 'ine', 'inedible', 'inevitable', 'inexcusable', 'inexpensive', 'inexplicable', 'inexplicably', 'infant', 'infantile', 'infants', 'infected', 'infection', 'inferior', 'infestations', 'infested', 'infiniti', 'infinity', 'inflammation', 'inflated', 'inflation', 'inflections', 'influence', 'influx', 'info', 'infomercials', 'inform', 'informal', 'information', 'informational', 'informative', 'informed', 'informing', 'infringement', 'infront', 'infuriating', 'infuse', 'infused', 'infusion', 'ing', 'ingenious', 'ingesting', 'ingrained', 'ingrediants', 'ingredient', 'ingredients', 'ingregients', 'ingrown', 'inhale', 'inhaled', 'inherent', 'inhibiting', 'inhumane', 'initally', 'initial', 'initialed', 'initially', 'initiative', 'injected', 'injera', 'injured', 'injuries', 'injuring', 'injury', 'ink', 'inked', 'inlaws', 'inn', 'inner', 'innocent', 'innocuous', 'innova', 'innovation', 'innovative', 'innumerable', 'inoa', 'input', 'inquire', 'inquired', 'inquiring', 'inquiry', 'inquisitive', 'ins', 'insane', 'insanely', 'insanity', 'insect', 'insecurities', 'insecurity', 'insert', 'inside', 'insider', 'insiders', 'insides', 'insight', 'insightful', 'insights', 'insist', 'insisted', 'insisting', 'insists', 'insofar', 'inspect', 'inspected', 'inspection', 'inspections', 'inspector', 'inspirational', 'inspire', 'inspired', 'inst', 'install', 'installation', 'installed', 'installing', 'instance', 'instant', 'instantaneously', 'instantly', 'instatnt', 'instead', 'instincts', 'institute', 'institution', 'institutions', 'instructed', 'instruction', 'instructions', 'instructor', 'instructors', 'instrument', 'instruments', 'insufficient', 'insulation', 'insult', 'insulted', 'insulting', 'insults', 'insurance', 'insured', 'insures', 'intact', 'intake', 'intangible', 'integrated', 'integrity', 'intel', 'intellectually', 'intelligent', 'intend', 'intended', 'intending', 'intense', 'intensity', 'intent', 'intention', 'intentional', 'intentioned', 'intentions', 'intently', 'inter', 'interact', 'interaction', 'interactions', 'interactive', 'intercontinental', 'interdisciplinary', 'interest', 'interested', 'interesting', 'interference', 'interior', 'interject', 'interlude', 'intermingled', 'intermission', 'internal', 'international', 'internet', 'internship', 'internships', 'interpret', 'interpretation', 'interpretations', 'interrogated', 'interrupt', 'interrupted', 'interrupting', 'interspersed', 'intertwined', 'interview', 'interviews', 'intestines', 'intimacy', 'intimate', 'intimately', 'intimidated', 'intimidating', 'into', 'intolerance', 'intolerant', 'intolerants', 'intonation', 'intoxicated', 'intoxicating', 'intricate', 'intrigued', 'intrigueing', 'intriguing', 'intriguingly', 'intrinsic', 'intrinsically', 'introduce', 'introduced', 'introducing', 'introduction', 'introductions', 'introductory', 'intruding', 'intrusive', 'intuition', 'invading', 'invalidating', 'invariably', 'invasive', 'invent', 'invented', 'inventive', 'inventory', 'invergorden', 'inverse', 'invert', 'invest', 'investigate', 'investigated', 'investigating', 'investment', 'investor', 'invigorated', 'invincible', 'invisalign', 'invisibility', 'invisible', 'invitation', 'invitations', 'invite', 'invited', 'inviting', 'involve', 'involved', 'involves', 'involving', 'iodine', 'iolanda', 'iority', 'iot', 'iowa', 'ipa', 'ipad', 'ipas', 'iphone', 'ipic', 'ipod', 'ippei', 'iq', 'iranian', 'iraq', 'irate', 'irish', 'irk', 'irks', 'irl', 'irma', 'iron', 'ironic', 'ironically', 'ironing', 'ironman', 'irony', 'irrational', 'irrelevant', 'irreplaceable', 'irrigate', 'irritable', 'irritate', 'irritated', 'irritates', 'irritating', 'irs', 'is', 'ish', 'island', 'islands', 'isle', 'isles', 'islets', 'isn', 'isnt', 'isolated', 'israel', 'israeli', 'isreal', 'issue', 'issues', 'issuing', 'istore', 'it', 'italia', 'italian', 'italiano', 'italy', 'itch', 'item', 'itemizations', 'itemized', 'items', 'ithink', 'itinerary', 'ito', 'its', 'itself', 'itsy', 'itty', 'itunes', 'iu', 'iv', 'ivaa', 'ivan', 'ive', 'ivory', 'ivy', 'ixtapa', 'ized', 'jaaaade', 'jabs', 'jac', 'jack', 'jackass', 'jacked', 'jacket', 'jackets', 'jackie', 'jackpot', 'jackrabbit', 'jacks', 'jacob', 'jacques', 'jacquie', 'jacuzzi', 'jade', 'jaeger', 'jagermeister', 'jaguar', 'jaime', 'jake', 'jalapeno', 'jalapenos', 'jalapeño', 'jalepeno', 'jalpeno', 'jam', 'jamaica', 'jamaican', 'jamba', 'jambalaya', 'jamburrito', 'james', 'jameson', 'jammed', 'jamming', 'jamoca', 'jams', 'jan', 'janes', 'janet', 'janis', 'january', 'japan', 'japanese', 'japchae', 'jar', 'jared', 'jargon', 'jarred', 'jars', 'jarvis', 'jasmin', 'jasmine', 'jason', 'java', 'jaw', 'jaws', 'jay', 'jazz', 'jazzed', 'jazzy', 'jc', 'jd', 'jealous', 'jealously', 'jean', 'jeans', 'jedis', 'jeez', 'jeff', 'jefferson', 'jekyll', 'jello', 'jelly', 'jen', 'jenga', 'jenn', 'jenna', 'jennfer', 'jennifer', 'jenny', 'jensy', 'jeopardize', 'jer', 'jeremiah', 'jerk', 'jerks', 'jerky', 'jerron', 'jerry', 'jerrys', 'jersey', 'jerseys', 'jess', 'jesse', 'jessie', 'jesters', 'jesterz', 'jesus', 'jetland', 'jets', 'jetsons', 'jetted', 'jewel', 'jeweler', 'jewelers', 'jewelery', 'jewelry', 'jewels', 'jewess', 'jewish', 'jewlery', 'jhane', 'ji', 'jiang', 'jib', 'jiggle', 'jill', 'jillian', 'jim', 'jimmy', 'jist', 'jitsu', 'jitters', 'jj', 'jjim', 'jo', 'joan', 'job', 'jobby', 'jobing', 'jobot', 'jobs', 'jodi', 'joe', 'joes', 'john', 'johnny', 'johns', 'join', 'joined', 'joing', 'joining', 'joint', 'joints', 'joke', 'joked', 'jokes', 'joking', 'jokingly', 'jolie', 'joliet', 'jolla', 'jolly', 'jolt', 'joltachinno', 'jon', 'jonathan', 'jones', 'jonesin', 'jook', 'joplin', 'jordans', 'jose', 'joshua', 'jotted', 'jouet', 'journey', 'jousting', 'joy', 'joyfully', 'joynt', 'joys', 'jp', 'jr', 'jsut', 'juan', 'juba', 'jucey', 'judge', 'judged', 'judges', 'judging', 'judgment', 'judgmental', 'judgments', 'judith', 'juggalo', 'juggling', 'jugoslavian', 'jui', 'juice', 'juices', 'juicy', 'juke', 'jukebox', 'jules', 'julie', 'julienned', 'julios', 'july', 'julyish', 'jumbalaya', 'jumbo', 'jumbotron', 'jump', 'jumped', 'jumping', 'jumps', 'jumpsuit', 'june', 'jungle', 'jungles', 'junior', 'junk', 'junkie', 'junkyard', 'jura', 'juror', 'jus', 'just', 'justice', 'justifiable', 'justified', 'justify', 'justin', 'justina', 'justlenses', 'juxtaposing', 'jw', 'k56', 'ka', 'kabob', 'kabobs', 'kabuki', 'kahlo', 'kahlua', 'kai', 'kaigen', 'kaj', 'kake', 'kalachi', 'kalamata', 'kalbi', 'kale', 'kaley', 'kama', 'kampachi', 'kanarish', 'kang', 'kansas', 'kanye', 'kaprow', 'kara', 'karahi', 'karanish', 'karaoke', 'karawi', 'karen', 'karey', 'karma', 'karoake', 'karsh', 'karve', 'karyn', 'kasabian', 'kashmans', 'kashmere', 'kasras', 'kat', 'katheaw', 'kathleen', 'kathy', 'katie', 'katlan', 'katsu', 'kauai', 'kaya', 'kaylee', 'kaz', 'kazilicious', 'kazimierz', 'kazmer', 'kebab', 'kee', 'keen', 'keep', 'keeping', 'keeps', 'keg', 'keith', 'kellen', 'keller', 'kelley', 'kelly', 'ken', 'kennan', 'kennebec', 'kennel', 'kennels', 'kens', 'kentucky', 'kept', 'kerrie', 'ketchup', 'kettle', 'keurig', 'kevin', 'key', 'keyboard', 'keye', 'keyed', 'keypad', 'keys', 'kfc', 'kha', 'khabibulin', 'khai', 'khakis', 'kia', 'kibble', 'kick', 'kickass', 'kickassery', 'kickboxing', 'kicked', 'kicker', 'kickin', 'kicking', 'kicks', 'kicky', 'kid', 'kiddies', 'kidding', 'kiddo', 'kiddos', 'kidless', 'kidnap', 'kidnapped', 'kids', 'kierland', 'kiersten', 'kik', 'kill', 'killed', 'killer', 'killin', 'killing', 'kills', 'kilt', 'kiltlifter', 'kim', 'kimber', 'kimberly', 'kimchi', 'kimpton', 'kind', 'kinda', 'kindergarten', 'kindly', 'kindness', 'kindred', 'kinds', 'kinetic', 'king', 'kingdom', 'kings', 'kingston', 'kink', 'kinkos', 'kinks', 'kins', 'kiosk', 'kirin', 'kisra', 'kisras', 'kiss', 'kissing', 'kitchen', 'kitchens', 'kitfo', 'kitschy', 'kitten', 'kittens', 'kitties', 'kitty', 'kiwi', 'kk', 'klutz', 'knacks', 'knave', 'knee', 'knees', 'knew', 'knick', 'knickknacks', 'knife', 'knives', 'knob', 'knocci', 'knock', 'knocked', 'knocking', 'knook', 'knorr', 'knot', 'knotch', 'knots', 'know', 'knowing', 'knowledgable', 'knowledge', 'knowledgeable', 'known', 'knows', 'ko', 'kobe', 'koch', 'kohl', 'koi', 'koko', 'kokopelli', 'kolsch', 'kona', 'kong', 'kooks', 'kool', 'koolaid', 'koolaide', 'kore', 'korea', 'korean', 'kosher', 'kota', 'kqoelzgklmrbayws8lhvfw', 'kra', 'krab', 'kraft', 'krav', 'kreamery', 'kreme', 'krispy', 'krista', 'kristen', 'kristi', 'kristian', 'kristin', 'kristy', 'kronos', 'kruez', 'kruger', 'kräuter', 'krönung', 'ksubi', 'ku', 'kubrick', 'kudo', 'kudos', 'kufta', 'kumomato', 'kumquat', 'kun', 'kung', 'kurobuta', 'kurt', 'kwss', 'kyle', 'kyot', 'kyoto', 'kyrene', 'la', 'lab', 'label', 'labeled', 'labeling', 'labels', 'labor', 'laboratory', 'laborers', 'labs', 'lace', 'laced', 'lack', 'lacked', 'lacking', 'lackluster', 'lacks', 'lactose', 'lacy', 'lad', 'ladder', 'laden', 'ladie', 'ladies', 'ladle', 'lady', 'ladys', 'lafayette', 'lagoon', 'lags', 'lahna', 'lai', 'laid', 'lair', 'lait', 'lake', 'lake9', 'lakes', 'lalibela', 'lamar', 'lamb', 'lambic', 'lame', 'lameness', 'lamest', 'laminated', 'lamination', 'lamp', 'lamps', 'lampshades', 'lance', 'land', 'landed', 'landfill', 'landing', 'landis', 'landlocked', 'landmark', 'landmarks', 'landon', 'landscape', 'landscaped', 'landscapers', 'landscaping', 'lane', 'lanes', 'language', 'lanning', 'lantana', 'lanterns', 'lap', 'lapping', 'laps', 'lapsang', 'laptop', 'laptops', 'larb', 'lard', 'lardo', 'laredo', 'larg', 'large', 'largely', 'larger', 'larges', 'largest', 'larissa', 'larry', 'las', 'lasagna', 'laser', 'lasering', 'lash', 'lashed', 'lashes', 'lassi', 'last', 'lasted', 'lasting', 'lastly', 'lasts', 'latched', 'late', 'lately', 'later', 'lateral', 'latest', 'latilla', 'latin', 'latino', 'latte', 'latter', 'lattes', 'laudable', 'laude', 'laugh', 'laughed', 'laughing', 'laughs', 'laughter', 'launch', 'laundry', 'laura', 'lava', 'lavender', 'lavenders', 'lavishly', 'lavosh', 'law', 'lawannah', 'lawn', 'lawns', 'laws', 'lawyer', 'lax', 'lay', 'layaway', 'layer', 'layered', 'layering', 'layers', 'laying', 'layla', 'layout', 'layover', 'lazily', 'laziness', 'lazy', 'lazyass', 'lazyboy', 'lb', 'lbs', 'lcd', 'le', 'lead', 'leader', 'leading', 'leads', 'leaf', 'leafy', 'league', 'leah', 'leak', 'leaking', 'leaks', 'lean', 'leaned', 'leaner', 'leaning', 'leap', 'leaped', 'learn', 'learned', 'learning', 'learns', 'leary', 'lease', 'leased', 'leash', 'leashes', 'leasing', 'least', 'leather', 'leatherworking', 'leathery', 'leave', 'leaves', 'leaving', 'leavong', 'lebanese', 'leberknödel', 'leche', 'leches', 'lechon', 'lecture', 'lectures', 'led', 'ledges', 'lee', 'leek', 'leeks', 'leering', 'leery', 'lees', 'left', 'leftover', 'leftovers', 'leg', 'legacy', 'legal', 'legally', 'legend', 'legendary', 'legends', 'leggings', 'legion', 'legit', 'legitimate', 'legitimately', 'legs', 'leguizamo', 'lehong', 'leila', 'leisure', 'leisurely', 'lemme', 'lemming', 'lemon', 'lemonade', 'lemonades', 'lemondade', 'lemongrass', 'lemons', 'lemony', 'lenart', 'lend', 'lending', 'lends', 'length', 'lengths', 'lengthwise', 'lengthy', 'lengua', 'lennie', 'lens', 'lenses', 'lent', 'lentil', 'lentils', 'lenôtre', 'leonidas', 'leotard', 'leotards', 'lepinja', 'lesbian', 'leslie', 'less', 'lesser', 'lesson', 'lessons', 'lest', 'let', 'lets', 'letter', 'letters', 'letting', 'lettuce', 'level', 'leveler', 'levels', 'levers', 'leviticus', 'levy', 'lewis', 'lexus', 'leyva', 'lf', 'lfs', 'lgo', 'liability', 'liar', 'libation', 'libations', 'liberace', 'liberal', 'liberty', 'libra', 'librarian', 'libraries', 'library', 'libras', 'libre', 'licence', 'license', 'licensed', 'licious', 'lick', 'licked', 'lickin', 'licking', 'licorice', 'licous', 'lid', 'lidless', 'lie', 'lied', 'lienau', 'lies', 'lieu', 'life', 'lifeless', 'lifelong', 'lifesaver', 'lifesavor', 'lifestyle', 'lifetime', 'lift', 'lifter', 'lifting', 'lifts', 'light', 'lightbulbs', 'lighted', 'lightening', 'lighter', 'lightest', 'lighthearted', 'lighting', 'lightly', 'lightning', 'lightrail', 'lights', 'lightweight', 'lik', 'like', 'likeable', 'liked', 'likely', 'liken', 'likes', 'likey', 'liking', 'liklihood', 'lil', 'lilly', 'limb', 'lime', 'limeade', 'limes', 'limey', 'limit', 'limitations', 'limited', 'limitless', 'limits', 'limo', 'limoncello', 'limone', 'limos', 'limp', 'limpest', 'limón', 'lincoln', 'linda', 'lindsay', 'lindsey', 'line', 'lined', 'linen', 'linens', 'liner', 'lines', 'linger', 'lingered', 'lingerie', 'lingering', 'lingua', 'lingual', 'linguine', 'linguini', 'linguisa', 'linguistic', 'lining', 'link', 'links', 'lion', 'lioness', 'lions', 'lip', 'lipid', 'lips', 'lipstick', 'liqour', 'liqueur', 'liquid', 'liquidating', 'liquidation', 'liquidy', 'liquor', 'liquors', 'lisa', 'lisabel', 'lisette', 'lish', 'lisous', 'list', 'listed', 'listen', 'listened', 'listener', 'listeners', 'listening', 'listens', 'listing', 'listings', 'listlessly', 'lists', 'lit', 'litchfield', 'lite', 'liter', 'literal', 'literally', 'literature', 'liters', 'litmus', 'litterally', 'little', 'littlest', 'livable', 'live', 'lived', 'lively', 'liver', 'livers', 'liverwurst', 'livery', 'lives', 'livestock', 'living', 'livingsocial', 'liz', 'lizabel', 'lizards', 'lizzie', 'll', 'lll', 'lloyd', 'lmt', 'lmts', 'lo', 'load', 'loaded', 'loading', 'loads', 'loaf', 'loan', 'loaner', 'loathe', 'loathed', 'loaves', 'lobby', 'lobbys', 'lobster', 'loc', 'local', 'locale', 'locales', 'localfirstaz', 'locally', 'locals', 'locate', 'located', 'locating', 'location', 'locations', 'lock', 'locked', 'locker', 'lockhart', 'locking', 'locks', 'locksmith', 'locksmiths', 'loco', 'locoye', 'lodge', 'lodged', 'lodi', 'loft', 'logic', 'logical', 'logo', 'loin', 'loitering', 'lol', 'lola', 'lolcat', 'lolita', 'lollipops', 'lollygagged', 'lollypops', 'lolo', 'lon', 'london', 'lone', 'lonely', 'long', 'longed', 'longer', 'longest', 'longing', 'longish', 'lonnnnng', 'loo', 'loofah', 'look', 'looked', 'looking', 'lookout', 'looks', 'looming', 'loooong', 'looooong', 'loooooove', 'looooounge', 'loooove', 'loop', 'loops', 'loose', 'loosely', 'loosened', 'loosens', 'loosing', 'looved', 'lora', 'loraco', 'lord', 'loren', 'loretta', 'lori', 'loroco', 'los', 'lose', 'loser', 'losers', 'loses', 'losing', 'loss', 'lost', 'lot', 'lotion', 'lots', 'lottery', 'lotto', 'lotus', 'loud', 'louder', 'loudly', 'loudspeaker', 'loudspeakers', 'loughner', 'louis', 'louisiana', 'lounge', 'lounged', 'loungers', 'lounges', 'loungey', 'lounging', 'lousy', 'lovable', 'love', 'loved', 'loveitloveit', 'loveliest', 'loveliness', 'lovely', 'lover', 'lovers', 'loves', 'lovey', 'lovin', 'loving', 'lovvvve', 'low', 'lowbrow', 'lowdown', 'lower', 'lowest', 'lowly', 'lows', 'lox', 'loyal', 'loyally', 'loyalty', 'loyd', 'lozenge', 'lsu', 'ltf', 'lthe', 'luau', 'lubrication', 'luby', 'luch', 'lucia', 'lucille', 'lucious', 'luck', 'lucked', 'luckily', 'lucky', 'lucrative', 'lucy', 'luggage', 'luigi', 'luis', 'luke', 'lukewarm', 'lull', 'lulu', 'lululemon', 'lulus', 'luminarias', 'lumpia', 'lumpless', 'luna', 'lunch', 'luncha', 'luncheon', 'lunches', 'lunchtime', 'lung', 'lungs', 'lurch', 'lured', 'lurid', 'lush', 'lust', 'luster', 'luv', 'luvs', 'lux', 'luxe', 'luxurious', 'luxury', 'ly', 'lychee', 'lychejito', 'lying', 'lynn', 'lyric', 'lyrical', 'lyrics', 'lysol', 'm1wrcux3oouhhrynl8kjqg', 'ma', 'mabel', 'mac', 'macadamia', 'macadamian', 'macademia', 'macalpines', 'macaroni', 'macarons', 'macaroon', 'macaroons', 'macaw', 'macayo', 'macayos', 'macbook', 'macchiato', 'macerated', 'machaca', 'machine', 'machines', 'macho', 'mackerel', 'macmillan', 'macmillian', 'macs', 'macy', 'mad', 'madagascar', 'madame', 'madden', 'maddie', 'made', 'madeliene', 'madera', 'madiera', 'madness', 'madonna', 'madras', 'madre', 'madrid', 'maestro', 'maestros', 'maga', 'magazine', 'magazines', 'maggi', 'maggianos', 'magic', 'magical', 'magically', 'magna', 'magners', 'magnet', 'magnificent', 'magnitude', 'magnolia', 'mags', 'mah', 'maharaja', 'mahhh', 'mahi', 'mai', 'maid', 'maiden', 'maids', 'mail', 'mailbox', 'mailed', 'mailing', 'mails', 'main', 'maine', 'mainly', 'mains', 'mainstay', 'mainstream', 'maintain', 'maintained', 'maintaining', 'maintains', 'maintenance', 'maizie', 'majerle', 'majerles', 'majestic', 'major', 'majority', 'majors', 'make', 'makeover', 'maker', 'makers', 'makes', 'makeshift', 'makeup', 'makhani', 'makin', 'making', 'makita', 'makoks', 'malaise', 'malaysian', 'malbec', 'male', 'malee', 'malfunction', 'malfunctioned', 'malibu', 'mall', 'malls', 'malt', 'malted', 'maltese', 'malts', 'mam', 'mama', 'mamma', 'mammal', 'mammoth', 'mamosa', 'mamoth', 'man', 'manage', 'manageable', 'managed', 'management', 'manager', 'managers', 'manages', 'managing', 'manchego', 'manchurian', 'mandarin', 'mandatory', 'mandy', 'maneuver', 'maneuverable', 'manga', 'manger', 'mango', 'manhandling', 'manhattan', 'mani', 'manicure', 'manicured', 'manicures', 'manicuring', 'manicurist', 'manikin', 'manipulation', 'manly', 'mannequin', 'mannequins', 'manner', 'mannered', 'mannerisms', 'manners', 'manning', 'mans', 'manther', 'manual', 'manually', 'manuel', 'manufactured', 'manufacturer', 'many', 'manzana', 'manzanita', 'manzy', 'map', 'maple', 'mapped', 'maps', 'mar', 'maraschino', 'marathon', 'marathons', 'marble', 'marcellino', 'march', 'marching', 'marcia', 'marco', 'marcus', 'mardi', 'maretplace', 'marg', 'margaret', 'margareta', 'margarita', 'margaritas', 'margaritta', 'margarittas', 'margherita', 'margin', 'marginal', 'marginally', 'margins', 'margs', 'marguerite', 'maria', 'mariachi', 'maricopa', 'marie', 'marilyn', 'marinade', 'marinades', 'marinara', 'marinate', 'marinated', 'marine', 'mario', 'mariott', 'mark', 'markdown', 'marked', 'markeplace', 'markers', 'market', 'marketing', 'marketplace', 'markets', 'markie', 'marking', 'markings', 'marks', 'markup', 'markups', 'marmalade', 'marnier', 'marquee', 'marriage', 'married', 'marriot', 'marriott', 'marrow', 'marry', 'marsala', 'marscapone', 'marsha', 'marshal', 'marshalls', 'marshals', 'marshamallow', 'marshmallow', 'marshmallows', 'mart', 'martial', 'martin', 'martinez', 'martini', 'martinis', 'marty', 'marvel', 'marvelous', 'mary', 'maryland', 'marys', 'maryvale', 'marz', 'masa', 'masai', 'masala', 'mascaras', 'mascarpone', 'mash', 'mashed', 'masiman', 'mask', 'masking', 'masks', 'mason', 'masquerading', 'mass', 'massage', 'massaged', 'massagers', 'massages', 'massaging', 'massamum', 'masses', 'masseuse', 'masseuses', 'massive', 'mast', 'master', 'mastered', 'masterful', 'masterfully', 'mastering', 'masterpiece', 'masterpieces', 'mastery', 'mastro', 'mastros', 'mat', 'matador', 'match', 'matched', 'matches', 'matching', 'matchstick', 'mate', 'mateo', 'mater', 'material', 'materials', 'mates', 'math', 'mathematically', 'matney', 'matrimony', 'matsumoto', 'matt', 'mattar', 'matter', 'matters', 'mattress', 'mattresses', 'mature', 'matzah', 'matzo', 'mauclerc', 'maui', 'maureen', 'maurizio', 'mauves', 'mawshing', 'max', 'maxi', 'maxim', 'maximum', 'maxx', 'may', 'mayan', 'maybe', 'mayo', 'mayonnaise', 'mays', 'maytag', 'maz', 'maze', 'mazin', 'mazing', 'mba', 'mbps', 'mc', 'mcc', 'mccac', 'mccain', 'mcclendon', 'mcclintock', 'mccormick', 'mcd', 'mcdonald', 'mcdonalds', 'mcdowell', 'mcgees', 'mcginnis', 'mcgrath', 'mcgrittles', 'mckellip', 'mckellips', 'mcklintock', 'mcnuggets', 'mcrae', 'me', 'meager', 'meal', 'meals', 'mealy', 'mean', 'meandered', 'meaning', 'meaningful', 'means', 'meant', 'meantime', 'meanwhile', 'measly', 'measure', 'measured', 'measurement', 'meat', 'meatball', 'meatballs', 'meatbeals', 'meathead', 'meatless', 'meatloaf', 'meatlovers', 'meats', 'meaty', 'mecca', 'mechado', 'mechanic', 'mechanical', 'mechanics', 'mecinas', 'medallion', 'medallions', 'medditeranean', 'media', 'medical', 'medication', 'medications', 'medicine', 'medicore', 'medieval', 'mediocre', 'meditating', 'meditative', 'mediterranean', 'medium', 'medley', 'meds', 'meeeeeanie', 'meet', 'meeting', 'meetings', 'meets', 'meetup', 'mega', 'megan', 'meh', 'mei', 'mein', 'meineke', 'mekong', 'mel', 'melded', 'meling', 'melissa', 'mellow', 'mellows', 'melon', 'melonfishphoto', 'melrose', 'melt', 'melted', 'melting', 'meltingly', 'melts', 'melty', 'member', 'members', 'membership', 'memberships', 'membrane', 'memo', 'memorabilia', 'memorable', 'memorial', 'memories', 'memorize', 'memory', 'men', 'menchies', 'mended', 'mens', 'mental', 'mentality', 'mentally', 'mention', 'mentioned', 'mentioning', 'mentions', 'mentor', 'menu', 'menudo', 'menus', 'meow', 'meowganificant', 'merc', 'mercedes', 'merchandise', 'merchandised', 'merchandising', 'merchants', 'mercury', 'mercy', 'mere', 'merely', 'meringue', 'merited', 'merits', 'merrels', 'merry', 'mesa', 'mesh', 'mesha', 'mesmerized', 'mesquite', 'mess', 'message', 'messages', 'messed', 'messes', 'messing', 'messy', 'met', 'metabolism', 'metal', 'metate', 'meted', 'meteocre', 'meter', 'metered', 'meters', 'meth', 'methinks', 'method', 'methodical', 'methods', 'meticulous', 'meticulously', 'metric', 'metro', 'metropolitan', 'metrosexuality', 'mex', 'mexi', 'mexican', 'mexico', 'meyer', 'mgmt', 'mgr', 'mgrs', 'mi', 'mia', 'miagi', 'miami', 'mic', 'michael', 'michaels', 'michelada', 'michelina', 'michelle', 'michigan', 'mickey', 'mickie', 'micky', 'micro', 'microbes', 'microbrewery', 'microbrews', 'microfoam', 'microscope', 'microscopically', 'microwave', 'microwaved', 'mid', 'midday', 'middle', 'midfirst', 'midget', 'midi', 'midnight', 'midnite', 'mido', 'midst', 'midwest', 'midwesterner', 'mien', 'mierda', 'might', 'mightily', 'mightly', 'mighty', 'mignon', 'migraines', 'miguel', 'mikado', 'mike', 'mila', 'milagro', 'milanese', 'milano', 'mild', 'mildly', 'mile', 'miles', 'milic', 'military', 'milk', 'milkshake', 'milkshakes', 'milky', 'mill', 'mille', 'miller', 'milling', 'million', 'millions', 'mills', 'mim', 'mimi', 'mimic', 'mimosa', 'mimosas', 'mims', 'min', 'mina', 'minced', 'mind', 'minded', 'mindful', 'mindset', 'mine', 'mineral', 'miners', 'mines', 'minestrone', 'mingle', 'mini', 'miniature', 'minimal', 'minimalist', 'minimalistic', 'minimally', 'minimize', 'minimized', 'minimum', 'miniscule', 'minisd', 'minna', 'minneapolis', 'minnesota', 'minnie', 'minor', 'minority', 'mins', 'mint', 'mintchip', 'minty', 'minuet', 'minus', 'minut', 'minute', 'minutes', 'miracle', 'miraculous', 'mirage', 'miranda', 'mirror', 'mirrored', 'mirrors', 'mirushe', 'mis', 'miscellaneous', 'mischa', 'miscommunication', 'miserable', 'miserably', 'misfit', 'misfortune', 'mish', 'mishandled', 'mishap', 'mishaps', 'mishmash', 'misinformation', 'misinformed', 'misinterpreted', 'misir', 'mislead', 'misleading', 'misled', 'mismanagement', 'mismanaging', 'mismatched', 'miso', 'misono', 'misplaced', 'miss', 'missed', 'misses', 'missing', 'mission', 'mississippi', 'misstep', 'mist', 'mistake', 'mistaken', 'mistakenly', 'mistakes', 'mistaking', 'mister', 'misters', 'misting', 'misto', 'mistos', 'misunderstanding', 'misunderstood', 'misuse', 'mitch', 'mitt', 'mitts', 'miu', 'mix', 'mixed', 'mixer', 'mixers', 'mixes', 'mixing', 'mixology', 'mixto', 'mixture', 'mj', 'mlb', 'mm', 'mma', 'mmm', 'mmmghgh', 'mmmm', 'mmmmm', 'mmmmmazing', 'mmmmmm', 'mmmmmmm', 'mmmmmmmm', 'mmmmmmmmmmm', 'mmmmmmmmmmmm', 'mmmmmmmms', 'mmwkpmltbkcwnnlrai', 'mn', 'mnf', 'mns', 'mo', 'moaning', 'mobbed', 'mobhcxoi_msekq', 'mobile', 'mocchiato', 'mocha', 'mochi', 'mock', 'mocking', 'mockingly', 'moco', 'mode', 'model', 'modeled', 'modelo', 'models', 'moderate', 'moderately', 'modern', 'modest', 'modestly', 'modification', 'modifications', 'modified', 'modify', 'moe', 'moes', 'mohawk', 'moist', 'moister', 'moistest', 'moistness', 'moisturizer', 'moisturizers', 'moisturizes', 'mojiot', 'mojito', 'mojitos', 'mojo', 'mojos', 'molar', 'molasses', 'mold', 'molding', 'moldy', 'mole', 'molete', 'molino', 'molinos', 'molly', 'molotes', 'molten', 'moly', 'mom', 'moment', 'moments', 'momentum', 'momma', 'mommies', 'mommy', 'moms', 'mon', 'monarch', 'monday', 'mondays', 'money', 'moneys', 'mongolian', 'monitor', 'monitoring', 'monitors', 'monk', 'monkey', 'monkeys', 'monkeywonderland', 'mono', 'monotone', 'monroe', 'monsieur', 'monsoon', 'monster', 'monsters', 'monstrosity', 'monstrous', 'monte', 'montelucia', 'montenegro', 'monterey', 'monterrey', 'month', 'monthly', 'months', 'monthy', 'monton', 'monty', 'monumental', 'moo', 'mood', 'moods', 'moody', 'mooing', 'moon', 'moonlighting', 'moons', 'moore', 'moores', 'mop', 'mopped', 'mopping', 'moral', 'morale', 'morally', 'moray', 'morbidly', 'mordida', 'more', 'moreover', 'mores', 'moreso', 'morgan', 'mormon', 'mormonic', 'morning', 'mornings', 'moroccan', 'moron', 'morons', 'morphed', 'morristown', 'morse', 'morsel', 'mortadella', 'mortar', 'morton', 'mortons', 'mos', 'moscow', 'mosear', 'mosh', 'moss', 'most', 'mostly', 'motel', 'mother', 'motherf', 'mothers', 'motion', 'motivate', 'motivated', 'motivating', 'motivation', 'moto', 'motor', 'motorcycle', 'motorcycles', 'mound', 'mounded', 'mounds', 'mount', 'mountain', 'mountains', 'mounted', 'mounting', 'mourn', 'mouse', 'mousse', 'mouth', 'mouthful', 'mouths', 'mouthwatering', 'move', 'moved', 'movement', 'movers', 'moves', 'movie', 'moviegoers', 'movies', 'moving', 'mower', 'mozarella', 'mozz', 'mozza', 'mozzarella', 'mpls', 'mr', 'mrs', 'ms', 'msg', 'mtg', 'mtn', 'mu', 'muaaah', 'muay', 'much', 'mucho', 'mudd', 'muddled', 'mudslide', 'muertos', 'muffin', 'muffins', 'muffler', 'mug', 'muggy', 'mugs', 'mule', 'mullet', 'mulling', 'multi', 'multidimensional', 'multigrain', 'multiple', 'multiples', 'multiplied', 'multiplier', 'multiply', 'multitude', 'mum', 'mumbled', 'munch', 'munchener', 'munchies', 'mundane', 'munich', 'municipals', 'muppet', 'mural', 'murder', 'murmuring', 'murphy', 'murray', 'musac', 'muscle', 'muscles', 'museum', 'museums', 'mush', 'mushiest', 'mushroms', 'mushroom', 'mushrooms', 'mushu', 'mushy', 'music', 'musical', 'musician', 'musicians', 'musing', 'musketeers', 'musscles', 'mussel', 'mussels', 'must', 'mustaches', 'mustachio', 'mustard', 'muster', 'musubi', 'mutant', 'mutated', 'muted', 'mutilated', 'muttered', 'mutton', 'mutts', 'mvp', 'mwkzajaq', 'my', 'mylissa', 'myriad', 'myself', 'myspace', 'mysterious', 'mystery', 'mystified', 'mystique', 'myth', 'mythological', 'myun', 'na', 'naaaaah', 'naan', 'nacho', 'nachos', 'nacs', 'nada', 'nadia', 'nadya', 'naengmyeon', 'nag', 'nagging', 'nail', 'nailed', 'nailes', 'nailing', 'nails', 'nair', 'nak', 'naked', 'nam', 'namaste', 'name', 'named', 'names', 'nametags', 'nami', 'namis', 'nan', 'nancy', 'nandos', 'nannies', 'nanny', 'naot', 'nap', 'napa', 'napkin', 'napkins', 'napoleon', 'napoleons', 'napolitano', 'napping', 'narcissistic', 'narcisstic', 'narrow', 'narrowing', 'nascar', 'nastily', 'nastiness', 'nasty', 'natale', 'natalie', 'natcher', 'nate', 'nately', 'nathan', 'nation', 'national', 'nationally', 'nationals', 'nationwide', 'native', 'natives', 'natural', 'naturally', 'nature', 'natured', 'naturopath', 'naturopathic', 'natzi', 'nau', 'nausea', 'nauseous', 'nautilus', 'navajo', 'navigate', 'navigated', 'navigating', 'navigator', 'navy', 'nay', 'nazi', 'nba', 'nc', 'ncounter', 'nd', 'ne', 'near', 'nearby', 'nearest', 'nearing', 'nearly', 'neat', 'neatly', 'nebbiolo', 'nebraska', 'necessarily', 'necessary', 'necessitated', 'necessities', 'necessity', 'neck', 'necklace', 'necklaces', 'necks', 'nectar', 'nectarine', 'need', 'needed', 'needing', 'needle', 'needles', 'needless', 'needn', 'needs', 'needy', 'neesd', 'nefarious', 'negate', 'negated', 'negative', 'negatives', 'neglected', 'negra', 'negress', 'neighbor', 'neighborhood', 'neighborhoods', 'neighboring', 'neighbors', 'neiman', 'neither', 'nello', 'neng', 'neo', 'neon', 'neosprin', 'nephew', 'nephews', 'nerd', 'nerds', 'nerdy', 'nerve', 'nervous', 'nespresso', 'ness', 'nestled', 'nests', 'net', 'netflix', 'network', 'networking', 'networks', 'neutered', 'neutering', 'nevada', 'never', 'new', 'newark', 'newbie', 'newbies', 'newborn', 'newcollege', 'newcomers', 'newer', 'newest', 'newland', 'newly', 'newman', 'newmans', 'newport', 'news', 'newshour', 'newsletter', 'newspaper', 'newspapers', 'newyorker', 'next', 'nfl', 'ngd', 'ngoc', 'nhat', 'nhra', 'ni', 'nib', 'nibble', 'nibbles', 'niblets', 'nic', 'nice', 'nicely', 'nicer', 'nicest', 'niches', 'nick', 'nickel', 'nickeled', 'nickle', 'nickname', 'nicoise', 'nicole', 'niece', 'nieman', 'nigeri', 'night', 'nightcap', 'nightclub', 'nightclubs', 'nighter', 'nighters', 'nightlife', 'nightly', 'nightmare', 'nightmares', 'nights', 'nigiri', 'nigligent', 'nigth', 'nike', 'nikki', 'nikolai', 'nikon', 'nile', 'nilly', 'niman', 'nina', 'nine', 'nineteen', 'ninja', 'nipple', 'nippon', 'niro', 'nirvana', 'nit', 'nita', 'nite', 'nites', 'nitpicking', 'nitris', 'nj', 'nl', 'nnear', 'no', 'nob', 'noble', 'nobody', 'nobs', 'nobuo', 'noca', 'noches', 'nocturnal', 'nod', 'nodded', 'noel', 'nog', 'nogales', 'noir', 'noise', 'noises', 'noisey', 'noisy', 'nom', 'nomenal', 'nominal', 'nominate', 'nominee', 'non', 'nondescript', 'none', 'nonetheless', 'nonfat', 'nonna', 'nonprescription', 'nonprofit', 'nonsense', 'nonstop', 'nonvegan', 'noodle', 'noodles', 'nook', 'noon', 'noone', 'noooo', 'noooooooo', 'nooooooooo', 'nopalito', 'nope', 'nor', 'nordies', 'nordique', 'nordstrom', 'nordstroms', 'norm', 'normal', 'normalcy', 'normally', 'norman', 'normandy', 'nortena', 'norterra', 'north', 'northeast', 'northern', 'northwest', 'norton', 'nose', 'nosh', 'noshed', 'noshes', 'nosie', 'nostalgia', 'nostalgic', 'nostrils', 'nosy', 'not', 'notable', 'notary', 'notch', 'note', 'noted', 'notes', 'nothing', 'noticable', 'noticably', 'notice', 'noticeable', 'noticeably', 'noticed', 'notices', 'noticing', 'notified', 'notorious', 'notsomuch', 'notte', 'nough', 'nourishes', 'nourishment', 'nouvelle', 'nov', 'nova', 'novel', 'novels', 'novelties', 'novelty', 'november', 'novice', 'novles', 'now', 'nowadays', 'nowhere', 'noy', 'nozzle', 'np', 'nsa', 'ntn', 'nude', 'nueva', 'nuff', 'nugget', 'nuggets', 'nuked', 'nulaid', 'numb', 'numbed', 'number', 'numbered', 'numbers', 'numbingly', 'numero', 'numerous', 'nun', 'nuong', 'nurse', 'nursery', 'nurses', 'nurturing', 'nut', 'nutcracker', 'nuteila', 'nutella', 'nutjob', 'nutmeg', 'nutrition', 'nutritional', 'nutritious', 'nuts', 'nutsack', 'nutshell', 'nutty', 'nuvi', 'nw', 'nwohio', 'ny', 'nyc', 'nypd', 'o9jiksb', 'o_o', 'oahu', 'oak', 'oakland', 'oakville', 'oasis', 'oatmeal', 'oaxaca', 'ob', 'obama', 'obese', 'obgyn', 'object', 'objection', 'objects', 'obligated', 'obligation', 'obligations', 'obligatory', 'obliged', 'obliques', 'oblivion', 'obnoxious', 'obscene', 'obscure', 'observant', 'observation', 'observed', 'obsessed', 'obsession', 'obsessive', 'obstinate', 'obstruction', 'obtain', 'obvious', 'obviously', 'occasion', 'occasional', 'occasionally', 'occasions', 'occassion', 'occassions', 'occupied', 'occupies', 'occupying', 'occur', 'occured', 'occurences', 'occurred', 'occurs', 'ocd', 'ocean', 'oceanic', 'ocotillo', 'oct', 'octaves', 'october', 'octomom', 'octopus', 'odd', 'oddity', 'oddly', 'oddness', 'odds', 'odinian', 'odom', 'odor', 'odors', 'odyssey', 'of', 'off', 'offend', 'offended', 'offending', 'offends', 'offense', 'offensive', 'offer', 'offered', 'offering', 'offerings', 'offers', 'office', 'officer', 'offices', 'official', 'officially', 'officials', 'oft', 'often', 'oftentimes', 'ofthe', 'oggie', 'ogled', 'ogling', 'oh', 'ohhh', 'ohhhhkay', 'ohio', 'ohso', 'oil', 'oiled', 'oiliest', 'oiliness', 'oils', 'oily', 'oink', 'oj', 'ok', 'okaaaaay', 'okay', 'oklahoma', 'okra', 'oktoberfest', 'ol', 'old', 'older', 'oldest', 'oldies', 'oldish', 'olds', 'oldsmobuick', 'ole', 'oleanders', 'olive', 'oliver', 'olives', 'olivos', 'ollie', 'oly', 'olympia', 'olympic', 'omakase', 'omelet', 'omelete', 'omelets', 'omelette', 'omelettes', 'omellete', 'omelletes', 'omeltes', 'omfg', 'omg', 'ominvore', 'omit', 'omlettes', 'omnivore', 'omt', 'on', 'once', 'one', 'onehope', 'ones', 'ongoing', 'onioins', 'onion', 'onions', 'online', 'onlookers', 'only', 'ono', 'onset', 'onsite', 'onslaught', 'onto', 'ony', 'oodles', 'ooey', 'ooh', 'oohed', 'oooh', 'ooooh', 'oooohhhh', 'ooooohhh', 'oooooooo', 'ooooowwweeee', 'oops', 'oozing', 'opelousas', 'open', 'opened', 'opening', 'openings', 'openly', 'opens', 'opentable', 'opera', 'operate', 'operated', 'operates', 'operating', 'operation', 'operations', 'operator', 'opi', 'opinion', 'opinions', 'oppinion', 'opportunities', 'opportunity', 'opposed', 'opposite', 'oppressive', 'oprah', 'ops', 'opt', 'opted', 'optical', 'optician', 'optics', 'optimized', 'opting', 'option', 'optional', 'options', 'opto', 'opulence', 'opulent', 'opus', 'or', 'oral', 'orally', 'orange', 'orangecello', 'orangeheads', 'oranges', 'orangewood', 'orchard', 'orchata', 'orchestra', 'orchestrated', 'orchid', 'ordeal', 'orded', 'order', 'ordered', 'ordering', 'orderly', 'orders', 'ordinarily', 'ordinary', 'ordred', 'orecchiette', 'oreganata', 'oregano', 'oreganos', 'oreganymphos', 'oregon', 'oregonian', 'oreo', 'oreos', 'org', 'organ', 'organic', 'organically', 'organization', 'organizations', 'organize', 'organized', 'organizers', 'organizes', 'organizing', 'organs', 'orgasm', 'orgasmic', 'orgy', 'orient', 'oriental', 'oriented', 'orig', 'origin', 'original', 'originality', 'originally', 'originate', 'origins', 'orlando', 'orleans', 'ornament', 'ornaments', 'ornate', 'orthodonitcs', 'orthodontic', 'orthodontist', 'orthopedics', 'orvieto', 'orzo', 'oscar', 'osco', 'osetra', 'osf', 'osp', 'osso', 'ostentatious', 'osteopathic', 'oster', 'osu', 'ot', 'otaku', 'otb', 'otfm', 'other', 'others', 'otherwise', 'ouch', 'ouchh', 'ought', 'ounce', 'ounces', 'our', 'ours', 'ourselves', 'out', 'outbursts', 'outclasses', 'outcome', 'outdated', 'outdoor', 'outdoors', 'outer', 'outfield', 'outfit', 'outfits', 'outfitters', 'outfront', 'outgoing', 'outgrow', 'outgrowth', 'outing', 'outlasted', 'outlet', 'outlets', 'outlook', 'outlying', 'outnumbered', 'outraged', 'outrageous', 'outrageously', 'outreach', 'outrigger', 'outright', 'outs', 'outshines', 'outside', 'outsourced', 'outstanding', 'outstretched', 'outta', 'outweighs', 'oven', 'ovens', 'over', 'overall', 'overalls', 'overbearing', 'overboard', 'overbooked', 'overcharge', 'overcharged', 'overcome', 'overcompensation', 'overcooked', 'overcooking', 'overcrowded', 'overdoing', 'overdone', 'overdue', 'overflow', 'overflowing', 'overgrown', 'overhaul', 'overhead', 'overhear', 'overheard', 'overheat', 'overheating', 'overindulgence', 'overload', 'overloaded', 'overlook', 'overlooked', 'overlooking', 'overly', 'overnight', 'overpower', 'overpowered', 'overpowering', 'overpriced', 'overprices', 'overrated', 'overrode', 'overrun', 'overs', 'oversalted', 'overseas', 'oversee', 'oversell', 'overshadowed', 'oversized', 'oversold', 'overspending', 'overstuff', 'overstuffed', 'overtime', 'overuse', 'overview', 'overweight', 'overwhelm', 'overwhelmed', 'overwhelming', 'overwhelmingly', 'overwheming', 'overworked', 'overzealous', 'ovoid', 'owe', 'owed', 'owen', 'owes', 'owl', 'own', 'owned', 'owner', 'owners', 'ownership', 'owning', 'owns', 'oxbow', 'oxide', 'oxidizing', 'oxtail', 'oy', 'oye', 'oyster', 'oysters', 'oz', 'p2', 'p3', 'p90x', 'pa', 'pablo', 'pace', 'paced', 'paces', 'pacific', 'pacifico', 'pacified', 'pacifier', 'pack', 'package', 'packaged', 'packages', 'packaging', 'packed', 'packet', 'packets', 'packing', 'packs', 'pad', 'padding', 'paddle', 'paddy', 'padi', 'padre', 'padres', 'pads', 'paella', 'page', 'pages', 'pagliacci', 'paid', 'pain', 'painful', 'painfully', 'painless', 'pains', 'painstaking', 'paint', 'painted', 'painters', 'painting', 'paintings', 'paints', 'pair', 'paired', 'pairing', 'pairings', 'pairs', 'pajamas', 'pak', 'pakistani', 'pal', 'palabok', 'palace', 'palak', 'palatable', 'palate', 'palates', 'palatte', 'palce', 'pale', 'palee', 'palees', 'paleo', 'paleta', 'paletas', 'palette', 'palettes', 'pallet', 'pallete', 'palm', 'palmer', 'palms', 'palomar', 'palpable', 'pals', 'paltry', 'pamper', 'pampered', 'pampering', 'pan', 'pana', 'panang', 'pancake', 'pancakes', 'pancetta', 'pancho', 'pancit', 'pancreatic', 'panda', 'pane', 'paneer', 'panel', 'paneled', 'paneling', 'panera', 'panes', 'pani', 'panic', 'panini', 'paninis', 'panko', 'panna', 'panoramic', 'pans', 'pansy', 'pantaloons', 'panties', 'pantry', 'pants', 'pao', 'paola', 'papa', 'papago', 'papas', 'papaya', 'papdi', 'pape', 'paper', 'paperback', 'papers', 'paperwork', 'papgo', 'pappa', 'pappadeaux', 'pappardelle', 'paprika', 'par', 'parachute', 'parade', 'paraded', 'paradise', 'paragraphs', 'paramount', 'paraphenalia', 'paraphernalia', 'paraphrased', 'parasite', 'parasites', 'parcel', 'parched', 'pardon', 'parent', 'parent_movie_morning', 'parental', 'parents', 'parfait', 'parfaits', 'parilla', 'paris', 'parish', 'park', 'parka', 'parked', 'parker', 'parking', 'parks', 'parkway', 'parlor', 'parm', 'parma', 'parmagian', 'parmagiana', 'parmesan', 'parmesean', 'parmigiano', 'paroose', 'parsley', 'parsnip', 'part', 'partake', 'partial', 'partially', 'participants', 'participate', 'participated', 'participating', 'particuarly', 'particular', 'particularly', 'partied', 'parties', 'partner', 'partners', 'partnerships', 'parts', 'party', 'partying', 'pasedena', 'pasena', 'paso', 'pasquale', 'pass', 'passable', 'passageway', 'passed', 'passenger', 'passengers', 'passerbys', 'passes', 'passing', 'passion', 'passionate', 'passionately', 'passionfruit', 'passions', 'passive', 'passport', 'past', 'pasta', 'pastabar', 'pastas', 'paste', 'pasties', 'pastor', 'pastrami', 'pastries', 'pastry', 'pasture', 'pasty', 'pat', 'patatas', 'patch', 'patched', 'patchouli', 'path', 'pathetic', 'pathetically', 'paths', 'pathways', 'patience', 'patient', 'patiently', 'patients', 'patio', 'patios', 'patisserie', 'patrick', 'patricks', 'patrol', 'patrols', 'patron', 'patronage', 'patronize', 'patronized', 'patronizing', 'patrons', 'pattern', 'patterned', 'patterns', 'patterson', 'patti', 'patties', 'patty', 'paul', 'paula', 'paulgstudio', 'pauli', 'pause', 'paved', 'pavilion', 'pavillion', 'pavle', 'pavlov', 'pavlovian', 'paw', 'pawn', 'paws', 'pay', 'payard', 'paycheck', 'payday', 'payed', 'paying', 'payment', 'payoff', 'pays', 'payton', 'pazookie', 'pb', 'pbr', 'pbs', 'pc', 'pcg', 'pea', 'peaberry', 'peace', 'peaceful', 'peacefulness', 'peacemakers', 'peach', 'peaches', 'peak', 'peaking', 'peaks', 'peanut', 'peanuts', 'peanutty', 'pear', 'pearl', 'pearls', 'pearly', 'pears', 'peas', 'peasy', 'pebbles', 'pecan', 'pecans', 'pechuga', 'pecorino', 'pedal', 'pedalers', 'pedaling', 'peddle', 'pedestrians', 'pedi', 'pediatric', 'pediatricians', 'pedic', 'pedicure', 'pedicured', 'pedicures', 'pedigree', 'pedii', 'pedregal', 'pee', 'peebles', 'peed', 'peeing', 'peek', 'peekaboo', 'peeking', 'peeks', 'peel', 'peeled', 'peeling', 'peels', 'peep', 'peeped', 'peeps', 'peer', 'peeve', 'peggy', 'pei', 'peking', 'pellchck', 'pellets', 'pelo', 'pelon', 'pen', 'penalize', 'penalties', 'penalty', 'penang', 'pencil', 'pendant', 'pendemums', 'penetrate', 'penetrated', 'penh', 'penis', 'pennants', 'penne', 'penny', 'pennys', 'penzey', 'peole', 'peolple', 'people', 'peoples', 'peoria', 'pepitas', 'peple', 'pepp', 'pepper', 'peppercorn', 'peppercorns', 'peppered', 'peppermint', 'pepperocini', 'pepperoni', 'pepperonis', 'peppers', 'peppery', 'pepsi', 'per', 'percent', 'percentage', 'perception', 'perch', 'perchance', 'perched', 'perfect', 'perfected', 'perfection', 'perfectionist', 'perfectlly', 'perfectly', 'perfecto', 'perform', 'performance', 'performances', 'performed', 'performers', 'perfume', 'perhaps', 'perimeter', 'perimeters', 'period', 'periodic', 'periodically', 'periods', 'peripherals', 'perk', 'perks', 'perky', 'permanent', 'permanently', 'permission', 'permit', 'permits', 'permitting', 'permutations', 'pernil', 'peroxide', 'perplexed', 'perpperoni', 'perrier', 'persevered', 'persian', 'persistent', 'person', 'personable', 'personal', 'personality', 'personalized', 'personallity', 'personally', 'personaly', 'personified', 'personnel', 'persons', 'perspective', 'persuasion', 'pertains', 'perturbed', 'peruse', 'perused', 'perusing', 'peruvian', 'pervert', 'pescatarian', 'pesky', 'pest', 'pestered', 'pesticides', 'pestle', 'pesto', 'pet', 'petals', 'petco', 'pete', 'petello', 'peter', 'petes', 'petite', 'petrified', 'pets', 'petshotel', 'petsitter', 'petsmart', 'petticoat', 'petting', 'petty', 'pew', 'pews', 'pf', 'pfd', 'pga', 'ph', 'phad', 'pharmacies', 'pharmacist', 'pharmacy', 'phase', 'phenom', 'phenomenal', 'phenomenally', 'phil', 'philadelphia', 'philip', 'philippines', 'phillo', 'philly', 'philosophical', 'philosophy', 'phish', 'phlegm', 'phnom', 'pho', 'phobia', 'phoenicia', 'phoenician', 'phoenicians', 'phoenix', 'phoenixcitygrille', 'phoenixrodandgun', 'phoeniz', 'phone', 'phoned', 'phoneix', 'phones', 'phonetic', 'phony', 'photo', 'photographer', 'photographers', 'photographic', 'photography', 'photomark', 'photomart', 'photos', 'photoshoots', 'photoshopped', 'phrase', 'phuket', 'phx', 'phyllo', 'physic', 'physical', 'physically', 'physician', 'physicians', 'physics', 'pi', 'piaggion', 'piano', 'piatto', 'piazza', 'pibb', 'pibil', 'pic', 'picazzo', 'piccola', 'pick', 'picked', 'pickiest', 'picking', 'pickle', 'pickled', 'pickles', 'picks', 'pickup', 'picky', 'picnic', 'picnics', 'pico', 'picos', 'pics', 'picture', 'pictured', 'pictures', 'picturesque', 'pie', 'piece', 'pieces', 'piecing', 'piedmont', 'pier', 'pierce', 'pierced', 'piercing', 'piercings', 'pierre', 'pierrend', 'pies', 'piestewa', 'pig', 'pigg', 'piggy', 'pigs', 'pikes', 'pilates', 'pile', 'piled', 'pilgrim', 'pilgrimage', 'pilgrimages', 'pillage', 'pillow', 'pillows', 'pillowy', 'pilot', 'pilots', 'pils', 'pilsner', 'pima', 'pimms', 'pimp', 'pimpercrombie', 'pin', 'pina', 'pinafore', 'pinapple', 'pinata', 'pinball', 'pinch', 'pine', 'pineapple', 'ping', 'pinguinos', 'pink', 'pinkeye', 'pinko', 'pinnacle', 'pinned', 'pinner', 'pinot', 'pinpoint', 'pins', 'pint', 'pinto', 'pints', 'pipe', 'piper', 'pipes', 'piping', 'pipping', 'pique', 'pirates', 'pischke', 'piss', 'pissed', 'pissing', 'pistachio', 'pistachios', 'pistols', 'pit', 'pita', 'pitas', 'pitch', 'pitched', 'pitcher', 'pitchers', 'pitches', 'pits', 'pitt', 'pitted', 'pittsburgh', 'pity', 'pivotal', 'pixie', 'pizza', 'pizzaria', 'pizzas', 'pizzazz', 'pizzeria', 'pizzeriabianco', 'pizzerias', 'pizzookie', 'piña', 'pj', 'pkh', 'placard', 'placards', 'place', 'placebo', 'placed', 'placement', 'places', 'placing', 'plague', 'plagued', 'plain', 'plainly', 'plaintains', 'plan', 'planb', 'plane', 'planes', 'planet', 'plank', 'planked', 'planks', 'planned', 'planner', 'planners', 'planning', 'plans', 'plant', 'plantains', 'plantar', 'plantation', 'plants', 'plaque', 'plasma', 'plaster', 'plastered', 'plastic', 'plasticware', 'plate', 'plated', 'plateful', 'plates', 'platform', 'platforms', 'plating', 'platinum', 'platonically', 'platter', 'platters', 'play', 'playable', 'played', 'player', 'players', 'playful', 'playground', 'playing', 'playlist', 'plays', 'plaza', 'plazas', 'plea', 'pleas', 'pleasant', 'pleasanties', 'pleasantly', 'please', 'pleased', 'pleasent', 'pleases', 'pleasing', 'pleasure', 'pleasures', 'pleather', 'pleeeaaassse', 'plentiful', 'plenty', 'plesant', 'plethora', 'plethoric', 'plex', 'plexiglass', 'pley', 'pleydate', 'plight', 'plinko', 'pllleeeeaaaassseeeeee', 'ploenta', 'plop', 'pluck', 'plug', 'plugged', 'plugs', 'plum', 'plumber', 'plumbing', 'plump', 'plumping', 'plunge', 'plunk', 'plus', 'pluses', 'plush', 'pm', 'pmg', 'png', 'pnp', 'pnuemonia', 'po', 'poached', 'poblana', 'poblano', 'poca', 'pocket', 'pockets', 'pod', 'poetic', 'point', 'pointe', 'pointed', 'pointing', 'pointless', 'points', 'pointy', 'poise', 'poisoned', 'poisoning', 'poivre', 'poke', 'poked', 'poker', 'pole', 'polenta', 'poles', 'polestar', 'police', 'policia', 'policies', 'policy', 'polish', 'polished', 'polite', 'politely', 'political', 'politically', 'politicians', 'politics', 'polka', 'pollack', 'pollo', 'polo', 'polytechnic', 'pom', 'pome', 'pomegranate', 'pomo', 'pompous', 'poms', 'poncho', 'pond', 'pondered', 'pondering', 'pong', 'ponied', 'ponies', 'pontiac', 'pony', 'ponzu', 'poo', 'pooch', 'pooches', 'poodle', 'poodles', 'pooey', 'pool', 'pools', 'poolside', 'poop', 'poopy', 'poor', 'poorer', 'poorly', 'pop', 'popcorn', 'popped', 'poppers', 'poppin', 'popping', 'poppy', 'pops', 'popular', 'popularity', 'populated', 'population', 'populations', 'populous', 'porch', 'porchetta', 'porcini', 'pores', 'pork', 'porkless', 'porn', 'porridge', 'port', 'portabella', 'portabello', 'porter', 'portfolio', 'portion', 'portioned', 'portions', 'portland', 'portlandia', 'portly', 'porto', 'portobello', 'portrait', 'portraits', 'portuguese', 'pos', 'pose', 'poser', 'posh', 'posing', 'position', 'positioned', 'positions', 'positive', 'positively', 'positives', 'posole', 'possessed', 'possesses', 'possessing', 'possession', 'possibility', 'possible', 'possibly', 'post', 'postcards', 'posted', 'poster', 'posters', 'posting', 'postino', 'postinos', 'postnet', 'posts', 'posture', 'pot', 'potato', 'potatoe', 'potatoes', 'potatos', 'potbelly', 'potence', 'potent', 'potential', 'potentially', 'potholder', 'potholes', 'potion', 'potpourri', 'pots', 'potstickers', 'pottery', 'pottinger', 'poultry', 'pound', 'pounded', 'pounding', 'pounds', 'pour', 'poured', 'pouring', 'pours', 'poutine', 'pow', 'powder', 'powdered', 'powders', 'powdery', 'power', 'powerful', 'powers', 'ppl', 'ppp', 'pr', 'practical', 'practically', 'practice', 'practiced', 'practices', 'practicing', 'prada', 'praise', 'praised', 'praises', 'praising', 'prance', 'prandial', 'prank', 'prawn', 'prawns', 'pray', 'prayers', 'praying', 'pre', 'preach', 'preaching', 'prebreaded', 'precariously', 'precede', 'preceded', 'precious', 'precise', 'precocous', 'precut', 'predator', 'predators', 'predicament', 'predict', 'predictable', 'predictably', 'predisposed', 'predominant', 'predominantly', 'predominately', 'preeminent', 'preet', 'prefabricated', 'preface', 'prefect', 'prefecture', 'prefer', 'preferably', 'prefered', 'preference', 'preferences', 'preferred', 'preferring', 'prefers', 'preform', 'pregnancy', 'pregnant', 'prego', 'prelude', 'premade', 'premier', 'premise', 'premises', 'premium', 'prempro', 'preoccupied', 'prep', 'prepackaged', 'prepaid', 'preparada', 'preparation', 'preparations', 'prepare', 'prepared', 'preparer', 'prepares', 'preparing', 'prepay', 'preperation', 'preplexed', 'prepped', 'prepping', 'prerequisite', 'preschool', 'prescribed', 'prescription', 'prescriptions', 'presence', 'present', 'presentation', 'presented', 'presenting', 'presents', 'preservation', 'preservatives', 'preserve', 'preserved', 'preserves', 'preset', 'president', 'presidential', 'presold', 'press', 'pressed', 'pressure', 'pressured', 'pressuring', 'pressurized', 'prestige', 'prestigious', 'presto', 'presumably', 'presume', 'presumed', 'pretend', 'pretended', 'pretension', 'pretentious', 'pretentiousness', 'pretsels', 'prettier', 'prettiest', 'pretty', 'pretzel', 'pretzels', 'prevent', 'preventative', 'prevented', 'prevention', 'preventive', 'previews', 'previous', 'previously', 'prey', 'price', 'priced', 'priceless', 'priceline', 'prices', 'pricey', 'pricier', 'pricing', 'prick', 'prickly', 'pricks', 'pricy', 'pride', 'prides', 'pried', 'prik', 'primarily', 'primary', 'primavera', 'prime', 'primed', 'primer', 'primera', 'primitive', 'primo', 'primp', 'prince', 'princess', 'principle', 'print', 'printed', 'printers', 'printing', 'prints', 'prior', 'priorities', 'priority', 'prismacolor', 'prison', 'prisoners', 'pristine', 'privacy', 'private', 'privately', 'priveledge', 'priveleges', 'priviledge', 'privy', 'prix', 'prize', 'pro', 'proactive', 'prob', 'probably', 'probalby', 'probe', 'problem', 'problematic', 'problems', 'procedure', 'procedures', 'proceed', 'proceeded', 'proceeding', 'proceeds', 'process', 'processed', 'processes', 'processing', 'proclaim', 'procure', 'procured', 'prodding', 'produce', 'produced', 'produces', 'product', 'production', 'productive', 'products', 'profanity', 'profesh', 'profesional', 'professed', 'professes', 'profession', 'professional', 'professionalism', 'professionality', 'professionally', 'professionals', 'professors', 'profile', 'profiling', 'profit', 'profitable', 'profiteroles', 'profits', 'profoundly', 'profusely', 'program', 'programmable', 'programming', 'programs', 'progress', 'progression', 'progressive', 'progressively', 'prohibition', 'project', 'projected', 'projects', 'prolly', 'prom', 'prominent', 'prominently', 'promiscuous', 'promise', 'promised', 'promises', 'promising', 'promos', 'promote', 'promoted', 'promoter', 'promoters', 'promotes', 'promoting', 'promotion', 'promotions', 'prompt', 'prompted', 'promptly', 'pronounce', 'pronounced', 'pronto', 'pronunciation', 'proof', 'prop', 'propane', 'proper', 'properly', 'properties', 'property', 'proportional', 'proportions', 'propose', 'proposed', 'proprietor', 'proprietors', 'proprietress', 'props', 'prorate', 'pros', 'prosciutto', 'proscuitto', 'prosecco', 'prospect', 'prospective', 'prosper', 'prosperous', 'protecting', 'protein', 'proteins', 'protip', 'protocol', 'protégé', 'proud', 'proudly', 'prove', 'proved', 'proven', 'provencal', 'provence', 'proverbial', 'proves', 'provide', 'provided', 'provider', 'providers', 'provides', 'providing', 'province', 'proving', 'provisionals', 'provisions', 'provolone', 'prowl', 'proximity', 'proxy', 'ps', 'pseudo', 'psyched', 'psycho', 'psychologically', 'psychologist', 'pub', 'pube', 'public', 'publication', 'publications', 'publicized', 'publicly', 'published', 'publisher', 'publix', 'pubs', 'pucks', 'pudding', 'puddle', 'puddles', 'pudge', 'pueblo', 'puerto', 'puff', 'puffing', 'puffs', 'puffy', 'pug', 'puka', 'puke', 'puked', 'puking', 'pull', 'pulled', 'pullers', 'pulling', 'pullman', 'pulls', 'pulp', 'pulsating', 'pulverized', 'pumas', 'pump', 'pumped', 'pumpernickel', 'pumping', 'pumpkin', 'pumps', 'pun', 'punch', 'punchcard', 'punched', 'punches', 'punctual', 'punctuated', 'punctuation', 'puncture', 'pungent', 'punished', 'punishment', 'punjabi', 'punk', 'punked', 'puntini', 'pup', 'pupcakes', 'puppet', 'puppies', 'puppy', 'pups', 'pupu', 'pupusa', 'pupusas', 'purchase', 'purchased', 'purchaser', 'purchases', 'purchasing', 'pure', 'puree', 'purell', 'purely', 'puri', 'purist', 'purista', 'purists', 'purple', 'purpose', 'purposed', 'purposely', 'purposes', 'purse', 'purses', 'pursued', 'pursuit', 'purveyor', 'puréed', 'push', 'pushed', 'pushes', 'pushing', 'pushy', 'pussy', 'pussycat', 'put', 'puter', 'putrid', 'puts', 'puttanesca', 'puttanesco', 'putting', 'putts', 'puzzled', 'pv', 'pveah', 'pyllo', 'pyramid', 'qc', 'qdoba', 'qhick', 'qt', 'quacks', 'quail', 'quaint', 'qualified', 'qualifier', 'qualifies', 'qualify', 'qualifying', 'qualities', 'quality', 'qualm', 'quandary', 'quantities', 'quantity', 'quart', 'quarter', 'quarters', 'que', 'quebec', 'queen', 'queens', 'queer', 'quenching', 'quesadilla', 'quesadillas', 'quesadlla', 'quesedillas', 'quesitons', 'queso', 'quest', 'question', 'questionable', 'questionably', 'questioned', 'questioning', 'questions', 'queue', 'quibble', 'quiche', 'quiches', 'quick', 'quickening', 'quicker', 'quickest', 'quickly', 'quiessence', 'quiet', 'quieter', 'quietly', 'quiktrip', 'quiktrips', 'quince', 'quinoa', 'quintessential', 'quiona', 'quirk', 'quirkily', 'quirkiness', 'quirky', 'quit', 'quite', 'quitting', 'quiver', 'quiznos', 'quorn', 'quotas', 'quote', 'quoted', 'quotes', 'qver', 'qwest', 'ra', 'rabbit', 'rabbits', 'rabe', 'rabies', 'rabit', 'race', 'raced', 'races', 'racette', 'raceway', 'rachael', 'rachel', 'racial', 'racing', 'racism', 'rack', 'rackin', 'racks', 'racquet', 'rad', 'radar', 'radiator', 'radio', 'radish', 'radishes', 'radius', 'raffle', 'raffles', 'rafters', 'rafts', 'rag', 'rage', 'rager', 'ragey', 'ragin', 'ragout', 'rai', 'rail', 'railing', 'railroad', 'rain', 'rainbow', 'rainforest', 'raintree', 'rainy', 'raise', 'raised', 'raisin', 'raising', 'raj', 'rake', 'ralph', 'rama', 'ramada', 'ramadas', 'ramble', 'rambutans', 'ramen', 'ramikans', 'ramirez', 'ramiro', 'ran', 'rana', 'ranch', 'ranchera', 'ranchero', 'rancheros', 'rancid', 'rancilio', 'random', 'randomly', 'randy', 'rang', 'range', 'ranged', 'ranges', 'ranging', 'rangoons', 'rank', 'ranks', 'ransacked', 'ransom', 'rant', 'ranted', 'rap', 'rapid', 'rapper', 'rare', 'rarely', 'rarer', 'rarity', 'rasberry', 'raspado', 'raspberries', 'raspberry', 'rat', 'ratatouillie', 'rate', 'rated', 'rates', 'rather', 'rating', 'ratings', 'ratio', 'ration', 'rations', 'ratpack', 'rats', 'rattled', 'rattles', 'rattling', 'rattlings', 'ratty', 'raucous', 'raunchy', 'ravaged', 'rave', 'raved', 'raven', 'ravenous', 'raves', 'raving', 'ravings', 'ravioli', 'raviolis', 'raviolli', 'raw', 'rawk', 'rawness', 'rawr', 'ray', 'rays', 'razor', 'razors', 'razpado', 'rb', 'rc', 'rcvd', 'rd', 'rdh', 'rds', 're', 'reaaaaally', 'reach', 'reachable', 'reached', 'reaches', 'reaching', 'react', 'reacted', 'reaction', 'read', 'reader', 'readers', 'readily', 'reading', 'reads', 'ready', 'real', 'realistic', 'reality', 'realize', 'realized', 'realizing', 'realllllllly', 'reallllllly', 'reallly', 'really', 'realrider', 'realryder', 'realtors', 'realty', 'reams', 'reappeared', 'reapplied', 'rear', 'reason', 'reasonable', 'reasonably', 'reasons', 'reassurance', 'reassurances', 'reassure', 'reassured', 'reassuring', 'rebar', 'rebate', 'rebates', 'rebecca', 'rebel', 'rebook', 'rebuilding', 'rebuttal', 'rec', 'recall', 'recant', 'recap', 'recapture', 'reccomend', 'reccommend', 'receipt', 'receipts', 'receive', 'received', 'receiver', 'receives', 'receiving', 'recent', 'recently', 'recept', 'receptacle', 'reception', 'receptionist', 'receptions', 'receptive', 'recesses', 'recession', 'recharging', 'reciept', 'recieved', 'recipe', 'recipes', 'recital', 'recitals', 'recite', 'recites', 'recker', 'recline', 'reclined', 'recliner', 'reclining', 'recognition', 'recognizable', 'recognize', 'recognized', 'recomend', 'recommend', 'recommendation', 'recommendations', 'recommended', 'recommending', 'recommends', 'recompense', 'recongnized', 'record', 'recording', 'records', 'recover', 'recovered', 'recovering', 'recovery', 'recreate', 'recreation', 'recruiting', 'rectified', 'rectify', 'recyclable', 'recycling', 'red', 'redbull', 'reddest', 'reddwarf', 'redecorating', 'redeem', 'redeeming', 'redefine', 'redemption', 'redicolus', 'rediculous', 'rediculously', 'redid', 'redneck', 'rednecks', 'redo', 'redone', 'reds', 'redseven', 'reduce', 'reduced', 'reduction', 'redux', 'reeeeally', 'reef', 'reeked', 'reeks', 'reeling', 'reese', 'ref', 'refer', 'reference', 'referenced', 'references', 'referral', 'referred', 'referring', 'refers', 'refill', 'refillable', 'refilled', 'refilling', 'refills', 'refine', 'refined', 'refinement', 'reflect', 'reflected', 'reflecting', 'reflection', 'reflections', 'reflects', 'reflex', 'reflux', 'refreshed', 'refresher', 'refreshing', 'refreshment', 'refried', 'refrigerated', 'refrigeration', 'refrigerator', 'refuge', 'refugees', 'refund', 'refundable', 'refunded', 'refunds', 'refuse', 'refused', 'refuses', 'refusing', 'reg', 'regal', 'regan', 'regard', 'regarded', 'regarding', 'regardless', 'regards', 'reggiano', 'regina', 'regio', 'region', 'regional', 'regions', 'register', 'registered', 'registration', 'registry', 'regoddamndiculously', 'regress', 'regret', 'regreted', 'regrets', 'regrettable', 'regrettably', 'regretted', 'regular', 'regularly', 'regulars', 'regulator', 'regulatory', 'regus', 'rehearsal', 'rehearsed', 'reheat', 'reheated', 'rehydrated', 'reimburse', 'reina', 'reincarnated', 'reinforcement', 'reintroduced', 'reinvest', 'reiterate', 'reject', 'rejected', 'rejoice', 'rejuvanation', 'rejuvenated', 'rejuvenates', 'related', 'relating', 'relationship', 'relationships', 'relatively', 'relatives', 'relax', 'relaxation', 'relaxed', 'relaxing', 'relay', 'relayed', 'release', 'released', 'releases', 'releasing', 'relented', 'relevant', 'reliable', 'reliably', 'reliance', 'relic', 'relied', 'relief', 'relieved', 'relieves', 'relieving', 'religion', 'religious', 'relish', 'relive', 'rellano', 'rellena', 'relleno', 'rellenos', 'relocated', 'reluctant', 'reluctantly', 'rely', 'remain', 'remainder', 'remained', 'remaining', 'remains', 'remake', 'remakes', 'remarkable', 'remarked', 'remedied', 'remedy', 'remember', 'remembered', 'remembering', 'remembers', 'remind', 'reminded', 'reminder', 'reminders', 'reminding', 'reminds', 'reminisced', 'reminiscence', 'reminiscent', 'reminiscing', 'remiss', 'remodeled', 'remodeling', 'remodelled', 'remodled', 'remolded', 'remorse', 'remote', 'remotely', 'removal', 'remove', 'removed', 'remover', 'renaissance', 'rename', 'renamed', 'renaming', 'rendered', 'rene', 'renegade', 'renew', 'renewed', 'reno', 'renovated', 'renovation', 'renovations', 'rent', 'rental', 'rentals', 'rented', 'renters', 'renting', 'rents', 'reopen', 'reopened', 'reordered', 'rep', 'repair', 'repaired', 'repairing', 'repairs', 'repartee', 'repast', 'repeat', 'repeated', 'repeatedly', 'repeating', 'repetition', 'repetitive', 'rephrase', 'replace', 'replaced', 'replacement', 'replacing', 'replant', 'replenish', 'replenishment', 'replica', 'replied', 'replies', 'reply', 'report', 'reported', 'repotted', 'representation', 'representative', 'represented', 'representing', 'represents', 'reprieve', 'reprinting', 'reps', 'reptile', 'reptiles', 'republic', 'republican', 'repulsive', 'reputable', 'reputation', 'req', 'request', 'requested', 'requesting', 'requests', 'require', 'required', 'requirement', 'requires', 'reschedule', 'rescheduled', 'rescue', 'rescued', 'research', 'researched', 'researching', 'reseated', 'resell', 'resemblance', 'resemble', 'resembled', 'resembling', 'reservation', 'reservations', 'reserve', 'reserved', 'residence', 'resident', 'residential', 'residents', 'resides', 'residue', 'resist', 'resistant', 'resisted', 'resisting', 'resling', 'resold', 'resolve', 'resolved', 'resolving', 'resonates', 'resort', 'resorts', 'resource', 'resources', 'respect', 'respectable', 'respected', 'respectful', 'respecting', 'respectively', 'respond', 'responded', 'responding', 'responds', 'response', 'responses', 'responsibilities', 'responsibility', 'responsible', 'responsive', 'rest', 'restaraunt', 'restauant', 'restaurant', 'restaurants', 'restaurateur', 'restaurateurs', 'resteraunt', 'resting', 'restless', 'resto', 'restock', 'restocking', 'restored', 'restrictions', 'restroom', 'restrooms', 'restuarant', 'restuarants', 'resturant', 'resturants', 'resturaunt', 'result', 'resulted', 'resulting', 'results', 'retail', 'retailed', 'retailers', 'retain', 'retains', 'retarded', 'retards', 'retarted', 'retention', 'retentive', 'rethink', 'rethinking', 'retire', 'retired', 'retirees', 'retirement', 'retort', 'retreat', 'retrieve', 'retrieved', 'retro', 'retrospectively', 'return', 'returned', 'returning', 'returns', 'reuben', 'reunion', 'reunions', 'reusable', 'revamp', 'reveal', 'revealed', 'revealing', 'revel', 'revelation', 'revenge', 'revenue', 'revered', 'reverse', 'review', 'reviewed', 'reviewer', 'reviewers', 'reviewing', 'reviews', 'revisit', 'revitalization', 'revitalize', 'revive', 'revived', 'reviwers', 'revolting', 'revolving', 'reward', 'rewarded', 'rewards', 'rewind', 'rex', 'rey', 'reynolds', 'rhino', 'rhonda', 'rhone', 'rhyme', 'rhythm', 'rhythmically', 'rhythms', 'rib', 'ribbon', 'ribeeyeeeee', 'ribeye', 'ribs', 'rican', 'rice', 'rices', 'rich', 'richard', 'richardson', 'riches', 'richest', 'richman', 'richmond', 'richness', 'rick', 'rico', 'ricotta', 'rid', 'riddance', 'ridden', 'riddens', 'riddled', 'ride', 'rider', 'riders', 'rides', 'ridge', 'ridgemont', 'ridiculed', 'ridiculous', 'ridiculously', 'ridiculousness', 'riding', 'riesling', 'rifled', 'rifles', 'rig', 'rigatoni', 'right', 'righteous', 'rightful', 'rightly', 'rights', 'rigmarole', 'rim', 'ring', 'ringer', 'ringing', 'rings', 'rink', 'rinkukiu', 'rinse', 'rinsed', 'rio', 'rios', 'rip', 'riparian', 'ripe', 'ripened', 'ripest', 'ripoff', 'ripped', 'rise', 'risers', 'rises', 'rising', 'risk', 'risking', 'risks', 'risky', 'risotto', 'risser', 'rissotto', 'ristorant', 'ristorante', 'rita', 'ritas', 'rito', 'ritual', 'ritz', 'riva', 'rival', 'rivaled', 'rivals', 'rivas', 'river', 'rivers', 'riverview', 'rk8m1rxl50pb69_c2yqqtg', 'rl', 'rm', 'rnr', 'roach', 'road', 'roadhouse', 'roadhouses', 'roading', 'roads', 'roadshow', 'roadside', 'roadtrip', 'roadway', 'roam', 'roamed', 'roaring', 'roark', 'roast', 'roasted', 'roaster', 'roasting', 'roasts', 'rob', 'robata', 'robb', 'robbins', 'robe', 'robert', 'roberto', 'robes', 'robin', 'robotically', 'robust', 'robyn', 'rock', 'rockabilly', 'rocked', 'rocker', 'rockerij', 'rocket', 'rocketburger', 'rocketed', 'rockets', 'rockin', 'rocking', 'rocknroll', 'rocks', 'rockstar', 'rod', 'rode', 'rodeo', 'rodgering', 'roeser', 'rogue', 'roka', 'rokerij', 'rolatini', 'role', 'roll', 'rollatini', 'rolled', 'roller', 'rollin', 'rolling', 'rolls', 'roma', 'romaine', 'roman', 'romance', 'romanelli', 'romano', 'romantic', 'rome', 'romper', 'ron', 'roof', 'roofing', 'roofs', 'rooftop', 'rooibos', 'room', 'roommate', 'rooms', 'roomy', 'roosevelt', 'roost', 'rooste', 'rooster', 'root', 'rootbeer', 'rooting', 'roots', 'ropa', 'rope', 'roped', 'ropes', 'rosa', 'rose', 'rosemary', 'rosie', 'rosita', 'ross', 'rosson', 'rot', 'rotary', 'rotate', 'rotated', 'rotates', 'rotating', 'rotation', 'rotc', 'rotd', 'rotisserie', 'rotten', 'rottie', 'rotting', 'rouge', 'rough', 'roughly', 'round', 'rounded', 'rounding', 'rounds', 'roused', 'route', 'routed', 'routes', 'routine', 'roving', 'row', 'rowdy', 'rows', 'roxie', 'roy', 'royal', 'royale', 'royals', 'royalty', 'roys', 'rpi', 'rr', 'rsvp', 'rub', 'rubbed', 'rubber', 'rubbery', 'rubbing', 'ruben', 'rubik', 'rubio', 'rubios', 'rubs', 'ruby', 'rubz', 'rude', 'rudely', 'rudeness', 'rudest', 'rudy', 'rue', 'rueben', 'ruffians', 'rugby', 'rugged', 'rugger', 'rugs', 'ruin', 'ruined', 'ruining', 'ruins', 'rula', 'rule', 'rules', 'rum', 'rumbi', 'rumbles', 'rumbling', 'rumor', 'rums', 'run', 'rundown', 'runner', 'runners', 'runniest', 'running', 'runny', 'runs', 'runway', 'rupture', 'rural', 'rush', 'rushed', 'rushes', 'rushing', 'russell', 'russets', 'russian', 'rustic', 'rustica', 'rusticana', 'rustler', 'rustlers', 'rusty', 'rut', 'rutabaga', 'ruth', 'rx', 'ryan', 'rye', 'ryno', 'sa', 'sabor', 'sabzi', 'sack', 'sacked', 'sacks', 'sacramento', 'sacred', 'sacrifice', 'sacrificed', 'sad', 'saddens', 'saddle', 'sadly', 'sadness', 'safe', 'safely', 'safer', 'safety', 'safeway', 'saffron', 'safley', 'saga', 'sagacity', 'sage', 'sagging', 'saguaro', 'said', 'saigon', 'sailor', 'saint', 'saintly', 'saints', 'sakana', 'sake', 'sakebomber', 'sakes', 'saki', 'sala', 'salad', 'salads', 'salami', 'salary', 'salat', 'salazar', 'salcido', 'salds', 'sale', 'salek', 'salem', 'sales', 'salesgirl', 'salesgirls', 'salesman', 'salesperson', 'saleswomen', 'saliva', 'salivate', 'salivates', 'salivating', 'sally', 'salmon', 'salmons', 'salon', 'salons', 'saloon', 'salsa', 'salsas', 'salscicia', 'salsiccia', 'salt', 'salted', 'saltier', 'saltiest', 'saltimbocca', 'saltine', 'saltiness', 'saltwater', 'salty', 'salud', 'salute', 'salvador', 'salvage', 'salvation', 'sam', 'samburger', 'same', 'samich', 'sammich', 'sammies', 'sammy', 'samosa', 'samosas', 'sample', 'sampled', 'sampler', 'samples', 'sampling', 'samplings', 'samsung', 'samuri', 'san', 'sanctuary', 'sand', 'sandal', 'sandals', 'sandalwood', 'sanded', 'sandella', 'sanding', 'sando', 'sands', 'sandstone', 'sandstorm', 'sandwhich', 'sandwhiches', 'sandwich', 'sandwiched', 'sandwiches', 'sandy', 'sandys', 'sane', 'sang', 'sangria', 'sangrias', 'sanitary', 'sanitizing', 'sanity', 'sank', 'sans', 'santa', 'santan', 'sante', 'santi', 'santisi', 'sao', 'sapling', 'sapporo', 'sar', 'sara', 'sarah', 'sarcasm', 'sarcastic', 'sarcastically', 'sarrc', 'sarsaparilla', 'sashimi', 'sat', 'satay', 'sate', 'sated', 'satellite', 'satiate', 'satified', 'satisfaction', 'satisfied', 'satisfies', 'satisfy', 'satisfying', 'satisfyingly', 'satori', 'satuday', 'saturated', 'saturday', 'saturdays', 'sauce', 'sauced', 'saucers', 'sauces', 'saucey', 'saucy', 'sauerbraten', 'sauerkraut', 'sauna', 'saunas', 'saunter', 'saurkraut', 'sausage', 'sausages', 'sauteed', 'sautéed', 'sauv', 'sauvignon', 'save', 'saved', 'saver', 'savers', 'saves', 'saving', 'savings', 'savor', 'savored', 'savoring', 'savory', 'savoy', 'savvy', 'saw', 'sawdust', 'sawed', 'sawth', 'saxophone', 'say', 'sayin', 'saying', 'says', 'sazerac', 'sb', 'sbux', 'scal', 'scale', 'scallion', 'scallions', 'scallop', 'scalloped', 'scallops', 'scalp', 'scam', 'scammed', 'scamorza', 'scan', 'scandalesque', 'scandinavian', 'scanned', 'scanning', 'scans', 'scant', 'scantily', 'scape', 'scar', 'scardy', 'scare', 'scared', 'scarey', 'scarf', 'scarfed', 'scarfing', 'scarier', 'scariest', 'scary', 'scathing', 'scattered', 'scenario', 'scene', 'scenery', 'scenes', 'scenic', 'scent', 'scented', 'schedule', 'scheduled', 'schedules', 'scheduling', 'scheme', 'schmancy', 'schmears', 'schmicks', 'schmoozeaz', 'schmucks', 'schneikies', 'schnitzel', 'school', 'schooled', 'schools', 'schreiner', 'schwetty', 'sci', 'science', 'scientific', 'scientist', 'scissors', 'scoffed', 'scolded', 'scolding', 'scollops', 'scone', 'scones', 'scoop', 'scooped', 'scoops', 'scooter', 'scope', 'scorching', 'score', 'scored', 'scores', 'scorpion', 'scorpions', 'scotch', 'scothes', 'scott', 'scottsadale', 'scottsdale', 'scottsdaley', 'scottsdalian', 'scottsdalish', 'scout', 'scow', 'scowl', 'scraggly', 'scramble', 'scrambled', 'scrambler', 'scramblers', 'scrambles', 'scrambling', 'scrap', 'scraped', 'scraping', 'scraps', 'scrapy', 'scratch', 'scratched', 'scratcher', 'scream', 'screamed', 'screaming', 'screams', 'screen', 'screening', 'screens', 'screw', 'screwed', 'screwing', 'screws', 'script', 'scripts', 'scrounge', 'scrub', 'scrubs', 'scruffy', 'scrumptious', 'scrunch', 'scrunched', 'sculpted', 'sculpture', 'sculptures', 'scum', 'scust', 'scuzy', 'sd', 'sdl', 'se', 'sea', 'seabase', 'seabass', 'seafood', 'seagulls', 'sealed', 'seamlessly', 'seams', 'seamus', 'sean', 'seann', 'sear', 'search', 'searched', 'searches', 'searching', 'seared', 'sears', 'season', 'seasonal', 'seasoned', 'seasoning', 'seasons', 'seat', 'seated', 'seating', 'seatings', 'seats', 'seattle', 'seaweed', 'sebastian', 'sec', 'secluded', 'second', 'secondary', 'secondly', 'seconds', 'secret', 'secretary', 'secretive', 'secretmenu', 'secrets', 'secs', 'section', 'sectioned', 'sections', 'secure', 'secured', 'security', 'sedate', 'sedated', 'sedation', 'sedona', 'seductive', 'see', 'seed', 'seeded', 'seeds', 'seedy', 'seeing', 'seek', 'seeking', 'seem', 'seemed', 'seeming', 'seemingly', 'seems', 'seen', 'sees', 'segments', 'segway', 'seizing', 'sekong', 'seldom', 'select', 'selected', 'selecting', 'selection', 'selectioned', 'selections', 'selects', 'selena', 'self', 'selfish', 'sell', 'seller', 'sellers', 'selling', 'sells', 'selvedge', 'selves', 'semblance', 'semerdjian', 'semester', 'semi', 'sen', 'send', 'sending', 'sendoff', 'sends', 'senior', 'seniors', 'senor', 'senorita', 'sens', 'sensation', 'sensational', 'sensations', 'sense', 'sensed', 'senses', 'sensible', 'sensitive', 'sensitivity', 'sensory', 'sensuous', 'sent', 'sentance', 'sentence', 'sentences', 'sentimental', 'separate', 'separately', 'separating', 'separation', 'seperate', 'sephora', 'september', 'sequel', 'sequence', 'sequined', 'sera', 'serbian', 'serene', 'serenity', 'series', 'serious', 'seriously', 'serive', 'serously', 'serpentine', 'serptember', 'serranos', 'serums', 'serv', 'serve', 'served', 'server', 'servered', 'servers', 'serves', 'service', 'serviced', 'services', 'serving', 'servings', 'sesame', 'session', 'sessions', 'set', 'sets', 'setting', 'settings', 'settle', 'settled', 'setup', 'setups', 'seven', 'sever', 'several', 'severe', 'severely', 'sew', 'sewer', 'sewn', 'sex', 'sexiest', 'sexiness', 'sexy', 'sf', 'sfo', 'sh', 'shabby', 'shabu', 'shack', 'shacked', 'shade', 'shaded', 'shades', 'shadow', 'shadows', 'shady', 'shae', 'shaft', 'shake', 'shaken', 'shaker', 'shakes', 'shaking', 'shall', 'shallot', 'shallots', 'sham', 'shame', 'shameful', 'shamefully', 'shameless', 'shampoo', 'shampoos', 'shanghai', 'shank', 'shanks', 'shannon', 'shape', 'shaped', 'shapes', 'shaping', 'shar', 'share', 'shared', 'sharers', 'shares', 'sharing', 'shark', 'sharkfest', 'sharon', 'sharp', 'sharpened', 'sharper', 'sharpie', 'shashimi', 'shasta', 'shattered', 'shave', 'shaved', 'shaves', 'shaving', 'shawarma', 'shawn', 'shazam', 'shazzam', 'she', 'shea', 'sheared', 'shed', 'shedding', 'sheen', 'sheep', 'sheer', 'sheesh', 'sheet', 'sheets', 'sheila', 'shelf', 'shell', 'shellac', 'shelley', 'shellfish', 'shelling', 'shells', 'shelter', 'sheltered', 'shelve', 'shelves', 'shelving', 'shenanigans', 'shep', 'shepard', 'shepards', 'shepherd', 'shepherds', 'sheppard', 'sheraton', 'sheriff', 'sherlock', 'sherry', 'shift', 'shifts', 'shifty', 'shimagamo', 'shimp', 'shin', 'shinbay', 'shindig', 'shine', 'shiner', 'shines', 'shiney', 'shining', 'shins', 'shiny', 'ship', 'shipment', 'shipments', 'shipped', 'shipping', 'shirataki', 'shiraz', 'shirazi', 'shirt', 'shirts', 'shish', 'shishito', 'shit', 'shitake', 'shitaki', 'shithead', 'shittier', 'shitty', 'shmancy', 'sho', 'shochu', 'shock', 'shocked', 'shocker', 'shocking', 'shockingly', 'shocks', 'shoe', 'shoes', 'shone', 'shook', 'shooshing', 'shoot', 'shooter', 'shooters', 'shooting', 'shoots', 'shop', 'shopaholics', 'shopkeepers', 'shoppe', 'shopped', 'shopper', 'shoppers', 'shopping', 'shops', 'shorba', 'shore', 'short', 'shortage', 'shortbread', 'shorten', 'shortened', 'shortens', 'shorter', 'shorthand', 'shortleashdogs', 'shortly', 'shortribs', 'shorts', 'shorty', 'shot', 'shotgun', 'shots', 'should', 'shoulder', 'shoulders', 'shouldn', 'shouldnt', 'shout', 'shouted', 'shouting', 'shouts', 'shoved', 'shovel', 'shovelfuls', 'shoveling', 'shoving', 'show', 'showcase', 'showcased', 'showed', 'shower', 'showering', 'showers', 'showing', 'showings', 'shown', 'showroom', 'shows', 'showstopper', 'shrapnel', 'shred', 'shredded', 'shreds', 'shrimp', 'shrine', 'shrink', 'shriveled', 'shrooms', 'shrugged', 'shtml', 'shu', 'shucks', 'shudder', 'shuffleboard', 'shuffled', 'shuffling', 'shui', 'shuro', 'shut', 'shuttle', 'shuttled', 'shwarma', 'shy', 'shyness', 'shyt', 'si', 'siam', 'siblings', 'sic', 'sichuan', 'sicilian', 'sick', 'sickening', 'sickeningly', 'sickest', 'sickly', 'side', 'sidebar', 'sidebarphx', 'sidecar', 'sided', 'sidekick', 'sides', 'sidewalk', 'sideways', 'sidling', 'siduri', 'siebel', 'sierra', 'sift', 'sigh', 'sighed', 'sight', 'sights', 'sign', 'signage', 'signal', 'signaled', 'signals', 'signature', 'signed', 'signer', 'significant', 'significantly', 'signing', 'signs', 'siiders', 'silberschlag', 'silence', 'silenced', 'silent', 'silently', 'silica', 'silk', 'silky', 'silly', 'silvana', 'silver', 'silvered', 'silvermine', 'silverton', 'silverware', 'sima', 'similar', 'similarities', 'similarity', 'similarly', 'simmered', 'simple', 'simplest', 'simplicity', 'simplify', 'simplistic', 'simply', 'simpson', 'simultaneously', 'sin', 'sinatra', 'since', 'sincere', 'sincerely', 'sincerity', 'sinful', 'sinfully', 'sing', 'singapore', 'singer', 'singers', 'singing', 'single', 'singles', 'singleton', 'sink', 'sinker', 'sinking', 'sinks', 'sinner', 'sinsr', 'sip', 'siphon', 'sipped', 'sipping', 'sips', 'sir', 'sirloin', 'sissies', 'sissy', 'sissys', 'sister', 'sisters', 'sit', 'site', 'sites', 'sits', 'sitter', 'sitting', 'situated', 'situation', 'siu', 'sivananda', 'six', 'sixteen', 'sixth', 'sixty', 'sizable', 'size', 'sized', 'sizeranne', 'sizes', 'sizing', 'sizzle', 'sizzler', 'sizzling', 'skarderud', 'skate', 'skateboarding', 'skating', 'skeptic', 'skeptical', 'skepticism', 'sketchbook', 'sketchy', 'skewed', 'skewer', 'skewers', 'ski', 'skiba', 'skill', 'skilled', 'skillet', 'skillets', 'skillfully', 'skills', 'skim', 'skimp', 'skimpy', 'skin', 'skinny', 'skins', 'skip', 'skipped', 'skipping', 'skirt', 'skirts', 'skits', 'skull', 'sky', 'skylights', 'skyline', 'slab', 'slabs', 'slacks', 'slam', 'slammed', 'slander', 'slang', 'slanged', 'slangs', 'slant', 'slap', 'slapped', 'slaps', 'slash', 'slated', 'slather', 'slathered', 'slave', 'slaw', 'sleazer', 'sleek', 'sleep', 'sleeping', 'sleepy', 'sleeve', 'sleeved', 'sleeves', 'slept', 'slew', 'slice', 'sliced', 'slices', 'slicing', 'slick', 'slicker', 'slid', 'slide', 'slider', 'sliders', 'slides', 'sliding', 'slight', 'slighted', 'slightest', 'slightly', 'slighty', 'slim', 'slimmed', 'slimming', 'slimy', 'slingers', 'slip', 'slipped', 'slippers', 'slippery', 'sliver', 'slivered', 'slivers', 'sllluuuurrrpp', 'slob', 'slogan', 'slop', 'slope', 'slopes', 'slopped', 'sloppy', 'slot', 'slotted', 'slouch', 'slow', 'slowed', 'slowest', 'slowing', 'slowly', 'slums', 'slurpers', 'slurping', 'slurs', 'slushies', 'slutty', 'sm', 'smack', 'smacked', 'smacking', 'smacks', 'small', 'smaller', 'smallest', 'smallish', 'smalll', 'smancy', 'smart', 'smarten', 'smarter', 'smarts', 'smash', 'smashboxx', 'smashburger', 'smashed', 'smashing', 'smattering', 'smc', 'smear', 'smeared', 'smearing', 'smedium', 'smeeks', 'smell', 'smelled', 'smelling', 'smells', 'smelly', 'smile', 'smiled', 'smiles', 'smiley', 'smiling', 'smith', 'smitty', 'smock', 'smoke', 'smoked', 'smokehouse', 'smokers', 'smokes', 'smokey', 'smokin', 'smoking', 'smoky', 'smooshy', 'smooth', 'smoother', 'smoothie', 'smoothies', 'smoothly', 'smoothy', 'smore', 'smores', 'smother', 'smothered', 'smucker', 'smuggling', 'snaaz', 'snack', 'snacking', 'snacks', 'snag', 'snagged', 'snagging', 'snails', 'snakes', 'snaking', 'snap', 'snapped', 'snapper', 'snappy', 'snaps', 'snarfed', 'snarking', 'snarl', 'snatched', 'sneak', 'sneaker', 'sneakers', 'sneaking', 'sneaks', 'sneaky', 'sneer', 'sneeze', 'sneezed', 'snicker', 'snickerdoodle', 'snickered', 'snickers', 'sniff', 'sniffed', 'sniffling', 'sniffster', 'snikerdoodle', 'snob', 'snobbery', 'snobbish', 'snobbsdale', 'snobby', 'snobs', 'snoooty', 'snooty', 'snorting', 'snottily', 'snottsdale', 'snotty', 'snow', 'snowbirds', 'snowfairy', 'snubbed', 'so', 'soak', 'soaked', 'soaking', 'soap', 'soaps', 'soapy', 'soba', 'sober', 'socal', 'soccer', 'social', 'socialize', 'socialized', 'socializing', 'socially', 'society', 'sock', 'socket', 'sockets', 'socks', 'soda', 'sodas', 'sodelicious', 'sodium', 'sofa', 'sofas', 'sofia', 'soft', 'softball', 'softdrink', 'softee', 'softened', 'softening', 'softer', 'softshell', 'software', 'sogginess', 'soggy', 'sol', 'solar', 'sold', 'soldier', 'soldiered', 'sole', 'solely', 'solemnly', 'soles', 'solicited', 'solicits', 'solid', 'solidly', 'solitaire', 'solitary', 'solitude', 'solo', 'solstice', 'soluitions', 'solution', 'solutions', 'solve', 'solved', 'solvent', 'solvents', 'solving', 'som', 'somber', 'sombra', 'sombreros', 'some', 'somebody', 'someday', 'somehow', 'somehwere', 'someone', 'someones', 'someplace', 'something', 'somethings', 'sometime', 'sometimes', 'somewhat', 'somewhere', 'sommelier', 'sommersault', 'somtimes', 'son', 'sone', 'song', 'songs', 'sonic', 'sonny', 'sonora', 'sonoran', 'sonoraveterinaryspecialists', 'sons', 'sony', 'soo', 'soon', 'sooner', 'sooo', 'soooo', 'sooooo', 'soooooo', 'sooooooo', 'soooooooo', 'sooooooooo', 'soothe', 'soothing', 'sop', 'sopa', 'sopapilla', 'sopapillas', 'sophia', 'sophie', 'sophisticated', 'sophistication', 'sophomore', 'sopping', 'sopranos', 'sopressata', 'sorbet', 'sorbets', 'sordid', 'sore', 'sorely', 'sorento', 'soronan', 'sorority', 'sorrentino', 'sorrow', 'sorrows', 'sorry', 'sort', 'sorta', 'sorted', 'sorting', 'sorts', 'souchong', 'souffle', 'souffles', 'sought', 'soul', 'souls', 'sound', 'sounded', 'sounding', 'sounds', 'soundtrack', 'soup', 'soups', 'soupy', 'sour', 'source', 'sourced', 'sources', 'sourcing', 'sourdough', 'sourness', 'sous', 'south', 'southbridge', 'southeast', 'southern', 'southwest', 'southwestern', 'soutwest', 'souvenier', 'souveniers', 'souvia', 'souvlaki', 'sox', 'soy', 'soylent', 'soynami', 'sp', 'spa', 'space', 'spaces', 'spacey', 'spacing', 'spacious', 'spackling', 'spades', 'spaetzle', 'spagetti', 'spaghetti', 'spain', 'spam', 'span', 'spandex', 'spandwex', 'spaniards', 'spanikopita', 'spanish', 'spanking', 'spare', 'spared', 'spark', 'sparked', 'sparkling', 'sparkly', 'sparse', 'spas', 'spashground', 'spastic', 'spat', 'spaten', 'spaw', 'spawn', 'spawned', 'spay', 'spaying', 'speak', 'speakeasy', 'speaker', 'speakers', 'speaking', 'speaks', 'spear', 'spearmint', 'special', 'specialist', 'specialists', 'speciality', 'specialize', 'specializes', 'specially', 'specialness', 'specials', 'specialties', 'specialtly', 'specialty', 'species', 'specifc', 'specific', 'specifically', 'specification', 'specifications', 'specifics', 'specified', 'speckled', 'spectacular', 'spectators', 'spectrum', 'speculate', 'speculation', 'speech', 'speechless', 'speed', 'speeds', 'speedy', 'spell', 'spelled', 'spelling', 'spellings', 'spencer', 'spend', 'spending', 'spends', 'spendy', 'spent', 'speraticly', 'spewed', 'spic', 'spice', 'spiced', 'spices', 'spicey', 'spicier', 'spiciness', 'spicoli', 'spicolli', 'spicy', 'spiddle', 'spider', 'spiderman', 'spiders', 'spiedini', 'spieker', 'spiiiccyyyy', 'spiked', 'spikey', 'spiky', 'spill', 'spilled', 'spilling', 'spin', 'spinach', 'spinal', 'spinato', 'spinatos', 'spincach', 'spinning', 'spirit', 'spirits', 'spiritual', 'spiro', 'spit', 'spite', 'splash', 'splashed', 'splashing', 'splatters', 'splayed', 'splenda', 'splendid', 'splinter', 'split', 'splits', 'splitting', 'splleeeendid', 'splurge', 'splurged', 'splurges', 'splurging', 'spoil', 'spoiled', 'spoilt', 'spoke', 'spoken', 'sponge', 'spongy', 'sponsored', 'spontaneous', 'spooky', 'spoon', 'spoonful', 'spoonfuls', 'spoons', 'sporadic', 'spore', 'sport', 'sporting', 'sportman', 'sports', 'sportsman', 'spot', 'spotless', 'spotlessly', 'spots', 'spotted', 'spotty', 'spouse', 'spouses', 'spouting', 'spouts', 'sprawl', 'sprawled', 'sprawling', 'sprawls', 'spray', 'sprayer', 'spread', 'spreads', 'spreadsheet', 'spring', 'springfield', 'springrolls', 'springs', 'sprinkle', 'sprinkled', 'sprinkles', 'sprinkling', 'sprint', 'sprite', 'sprites', 'sprout', 'sprouts', 'spudnuts', 'spumoni', 'spun', 'spur', 'spy', 'sq', 'sqaw', 'sqirrels', 'squad', 'square', 'squares', 'squash', 'squat', 'squaw', 'squeaky', 'squealing', 'squeegee', 'squeeking', 'squeeze', 'squeezed', 'squeezing', 'squid', 'squint', 'squirming', 'squirrel', 'squirrels', 'squirt', 'squirted', 'squished', 'squishing', 'squishy', 'sr', 'src', 'sriacha', 'sriracha', 'ss', 'ssc', 'sslowest', 'ssssshhhhhh', 'st', 'stab', 'stabbed', 'stable', 'stack', 'stacked', 'stacking', 'stacks', 'stadium', 'stadiums', 'staff', 'staffed', 'staffer', 'staffing', 'staffperson', 'staffs', 'stage', 'stagecoach', 'stages', 'staggering', 'stained', 'staining', 'stainless', 'stains', 'stair', 'staircase', 'stairmaster', 'stairs', 'stake', 'staked', 'stale', 'stalk', 'stalked', 'stalking', 'stall', 'stalled', 'stalls', 'stamina', 'stammered', 'stammering', 'stamp', 'stamped', 'stan', 'stand', 'standard', 'standards', 'standby', 'standing', 'standout', 'standouts', 'stands', 'stanley', 'staple', 'staples', 'stapley', 'star', 'starbuck', 'starbucks', 'starches', 'starchy', 'stardust', 'stare', 'stared', 'stares', 'stargazing', 'staring', 'stark', 'starr', 'starry', 'stars', 'start', 'started', 'starteed', 'starter', 'starters', 'starting', 'startled', 'startline', 'startlingly', 'starts', 'starve', 'starving', 'starwood', 'stash', 'stashed', 'stashing', 'state', 'stated', 'statement', 'states', 'stateside', 'static', 'stating', 'station', 'stationary', 'stationed', 'stations', 'statistics', 'statues', 'stature', 'status', 'stave', 'stay', 'staycation', 'staycations', 'stayed', 'staying', 'stays', 'steady', 'steak', 'steakburger', 'steakhouse', 'steakhouses', 'steaks', 'steal', 'stealerships', 'stealing', 'steals', 'stealthy', 'steam', 'steamed', 'steamers', 'steaming', 'stedson', 'steel', 'steelhead', 'steen', 'steep', 'steeping', 'steepness', 'steer', 'steered', 'steinway', 'stella', 'stellar', 'stellas', 'stem', 'stemware', 'stench', 'step', 'stephen', 'stepped', 'stepper', 'stepping', 'steps', 'stepsister', 'stereo', 'stereotype', 'stereotypical', 'sterile', 'sterilized', 'steroids', 'stetson', 'steve', 'stew', 'stewart', 'stews', 'stick', 'sticker', 'stickers', 'stickiness', 'sticking', 'stickler', 'sticks', 'sticky', 'stiff', 'stiffy', 'stigma', 'stigmata', 'still', 'stilll', 'stilton', 'stimulating', 'stimulation', 'stimuli', 'stingray', 'stingrays', 'stingy', 'stink', 'stinking', 'stinks', 'stinkweeds', 'stinky', 'stipulation', 'stipulations', 'stir', 'stirred', 'stirrup', 'stitched', 'stitches', 'stitching', 'stl', 'stock', 'stocked', 'stocking', 'stockings', 'stocks', 'stockyards', 'stoked', 'stole', 'stolen', 'stomach', 'stomachs', 'stomp', 'stomped', 'stompin', 'stomping', 'stone', 'stoned', 'stones', 'stood', 'stool', 'stools', 'stop', 'stopped', 'stopping', 'stops', 'storage', 'store', 'stored', 'storefront', 'storefronts', 'stores', 'stories', 'storm', 'stormed', 'storms', 'stormy', 'story', 'stouffer', 'stout', 'stracciatella', 'straddling', 'straight', 'straightaway', 'straightforward', 'strain', 'strained', 'strait', 'strand', 'stranded', 'strands', 'strange', 'strangely', 'stranger', 'strangers', 'strangest', 'strap', 'strapless', 'strapped', 'straps', 'strategic', 'strategizing', 'strategy', 'stratified', 'straw', 'strawberries', 'strawberry', 'stray', 'strayed', 'strbucks', 'streak', 'stream', 'streaming', 'streamliner', 'strebe', 'street', 'streets', 'streetwalkin', 'strength', 'strenuous', 'strep', 'stress', 'stressed', 'stressing', 'stretch', 'stretches', 'stretching', 'striaght', 'strict', 'strictly', 'stride', 'strike', 'strikes', 'striking', 'string', 'stringent', 'stringier', 'strings', 'stringy', 'strip', 'stripe', 'striped', 'stripes', 'striping', 'stripped', 'stripper', 'strippers', 'stripping', 'strips', 'strive', 'strives', 'stroganoff', 'stroke', 'strokes', 'stroll', 'strolled', 'stroller', 'strolling', 'strong', 'stronger', 'stronghold', 'strongly', 'strore', 'struck', 'structure', 'struggle', 'struggled', 'struggles', 'struggling', 'strummed', 'struts', 'stubborn', 'stubbs', 'stubs', 'stucco', 'stuck', 'stucky', 'stud', 'studded', 'studebaker', 'student', 'students', 'studied', 'studio', 'studios', 'study', 'studying', 'stuff', 'stuffed', 'stuffing', 'stuffy', 'stumble', 'stumbled', 'stumbling', 'stumps', 'stunk', 'stunned', 'stunner', 'stunning', 'stupendous', 'stupendously', 'stupid', 'stupidly', 'stupor', 'sturgeon', 'stutter', 'stuttering', 'style', 'styled', 'styles', 'stylings', 'stylish', 'stylist', 'stylists', 'stylush', 'styrofoam', 'sua', 'sub', 'subaru', 'subconcious', 'subdued', 'suberb', 'subject', 'subjects', 'sublime', 'submit', 'submitted', 'submitting', 'subpar', 'subs', 'subscriber', 'subscription', 'subscriptions', 'subsequent', 'subsequently', 'subset', 'substance', 'substandard', 'substantial', 'substantially', 'substitute', 'substituted', 'substitution', 'substitutions', 'subtle', 'subtleness', 'subtler', 'subtly', 'subtract', 'suburban', 'suburbia', 'suburbs', 'subway', 'subways', 'succeed', 'succeeded', 'succeeds', 'success', 'successful', 'successfully', 'succulent', 'succulents', 'succumbed', 'such', 'sucha', 'suck', 'sucked', 'sucker', 'suckered', 'suckers', 'sucking', 'sucks', 'sud', 'sudden', 'suddenly', 'suds', 'sue', 'sued', 'suffer', 'suffered', 'suffering', 'suffers', 'suffice', 'sufficed', 'sufficient', 'sufficiently', 'sugar', 'sugared', 'sugary', 'suggest', 'suggested', 'suggesting', 'suggestion', 'suggestions', 'suggests', 'suicide', 'suit', 'suitable', 'suite', 'suited', 'suites', 'suiting', 'suits', 'sul', 'sullivan', 'sultry', 'sum', 'sumac', 'sumibiyaki', 'summarize', 'summary', 'summer', 'summers', 'summertime', 'summery', 'summit', 'summitt', 'sumptuous', 'sums', 'sun', 'sunburn', 'sunchokes', 'sundae', 'sundaes', 'sundance', 'sunday', 'sundays', 'sundevil', 'sundried', 'sundries', 'sundrops', 'sunflower', 'sunglasses', 'sunken', 'sunny', 'sunnyslope', 'sunridge', 'sunrise', 'suns', 'sunscreen', 'sunscreens', 'sunset', 'sunshine', 'sunsine', 'super', 'superb', 'superbly', 'superbowl', 'supercuts', 'superfantasticdeliciousness', 'superfood', 'superior', 'superman', 'supermarket', 'supermarkets', 'superstar', 'superstition', 'supervision', 'supervisor', 'supervisors', 'supped', 'supper', 'supplementation', 'supplements', 'supplier', 'suppliers', 'supplies', 'supply', 'support', 'supported', 'supporter', 'supporters', 'supporting', 'supportive', 'supports', 'suppose', 'supposed', 'supposedly', 'supreme', 'supremely', 'suprise', 'suprising', 'sur', 'surcharge', 'surcharges', 'sure', 'surefire', 'surely', 'surf', 'surface', 'surfaces', 'surfing', 'surgeries', 'surgery', 'surly', 'surname', 'surpassed', 'surpasses', 'surprise', 'surprised', 'surprises', 'surprising', 'surprisingly', 'surreal', 'surround', 'surrounded', 'surrounding', 'surroundings', 'surrounds', 'suruki', 'survival', 'survive', 'survived', 'survives', 'surviving', 'susan', 'sushi', 'sushis', 'susie', 'suspect', 'suspected', 'suspended', 'suspenders', 'suspension', 'suspicion', 'suspicious', 'suspiciously', 'sustainability', 'sustainable', 'sustainably', 'sustaining', 'susy', 'sutra', 'sutures', 'suv', 'sven', 'svs', 'sw', 'swaddee', 'swadee', 'swag', 'swallow', 'swam', 'swamp', 'swamped', 'swank', 'swanky', 'swap', 'swapped', 'sware', 'swarma', 'swashing', 'swatting', 'swayed', 'swb', 'swear', 'swearing', 'swears', 'sweat', 'sweater', 'sweaters', 'sweating', 'sweatshops', 'sweaty', 'swede', 'sweden', 'swedish', 'sweeet', 'sweep', 'sweeping', 'sweet', 'sweetened', 'sweeter', 'sweetest', 'sweetheart', 'sweetie', 'sweeties', 'sweetish', 'sweetly', 'sweetness', 'sweetrepublic', 'sweets', 'sweltering', 'swift', 'swill', 'swim', 'swimmer', 'swimming', 'swimsuits', 'swindled', 'swing', 'swinging', 'swipe', 'swiped', 'swirl', 'swirling', 'swirls', 'swiss', 'switch', 'switchbacks', 'switched', 'swivel', 'swizzle', 'swollen', 'swoon', 'swooning', 'swoop', 'swooped', 'swordfish', 'swore', 'sworn', 'swung', 'sy', 'syd', 'syllables', 'symbol', 'symbols', 'sympathetic', 'sympathy', 'symphony', 'symptoms', 'sync', 'synergy', 'synthetic', 'syrup', 'syrups', 'syrupy', 'sysco', 'system', 'systems', 'szechuan', 'tab', 'tabasco', 'tabassco', 'tabbouleh', 'table', 'tableau', 'tablecloths', 'tables', 'tableside', 'tablespoon', 'tablespoons', 'tablet', 'tabooli', 'tabouli', 'tabs', 'tack', 'tacked', 'tacky', 'taco', 'tacos', 'tacossssss', 'tact', 'tad', 'taffy', 'tag', 'tagged', 'tagline', 'taglines', 'tags', 'tahini', 'tahiti', 'tai', 'tail', 'tailgate', 'tailor', 'tailored', 'tailoring', 'tailors', 'tails', 'tainted', 'taipei', 'taiwanese', 'takamatsu', 'take', 'takeaway', 'taken', 'takeout', 'takeouts', 'taker', 'takes', 'taking', 'tako', 'takoyaki', 'talavera', 'tale', 'talent', 'talented', 'talents', 'talibanish', 'talisha', 'talk', 'talkative', 'talked', 'talker', 'talkin', 'talking', 'talks', 'tall', 'tallest', 'tally', 'tam', 'tamale', 'tamales', 'tamarind', 'tamarindo', 'tame', 'tamie', 'tammie', 'tampa', 'tampiquena', 'tampons', 'tan', 'tana', 'tandem', 'tandoori', 'tang', 'tangerine', 'tangible', 'tango', 'tangy', 'tank', 'tankard', 'tanks', 'tannat', 'tanning', 'tans', 'tantalized', 'tantalizing', 'tanzanian', 'tanzy', 'taook', 'taos', 'tap', 'tapas', 'tape', 'taped', 'tapenade', 'tapenades', 'tapioca', 'tapped', 'tapping', 'taps', 'taqueria', 'taquitos', 'tar', 'tara', 'tarantino', 'tarbell', 'tarbells', 'tardy', 'targer', 'target', 'targeted', 'targets', 'taro', 'tart', 'tartar', 'tartare', 'tartes', 'tartiflette', 'tartish', 'tarts', 'tartufa', 'tartufo', 'task', 'tasks', 'tassone', 'taste', 'tastebuds', 'tasted', 'tasteful', 'tastefully', 'tasteless', 'taster', 'tastes', 'tastey', 'tastier', 'tasties', 'tastiest', 'tastiness', 'tasting', 'tastings', 'tasty', 'tasy', 'tataki', 'tater', 'taters', 'tats', 'tattered', 'tattering', 'tattoo', 'tattooed', 'tattooer', 'tattooers', 'tattoos', 'tatts', 'tatum', 'tatziki', 'taught', 'taunts', 'tavern', 'tawnya', 'tax', 'taxes', 'taxi', 'taxicab', 'taxidermy', 'taylor', 'tazer', 'tb', 'tc', 'tch', 'tchatchkies', 'tchy', 'tcpa', 'tea', 'teach', 'teacher', 'teachers', 'teaches', 'teaching', 'teacup', 'teaks', 'teakwoods', 'teal', 'team', 'teams', 'teamwork', 'teapot', 'teapots', 'tear', 'tears', 'teas', 'tease', 'teaspoon', 'teats', 'teavana', 'tech', 'technical', 'technically', 'technician', 'technicians', 'technique', 'techniques', 'techno', 'technology', 'techs', 'ted', 'teddy', 'teds', 'tee', 'teed', 'teehee', 'teeming', 'teen', 'teenage', 'teenager', 'teenagers', 'teenie', 'teens', 'teensy', 'teeny', 'teenytiny', 'tees', 'teese', 'teeter', 'teeth', 'teff', 'teharu', 'tejas', 'telegraph', 'telemarketers', 'telenovela', 'telephone', 'television', 'televisions', 'tell', 'teller', 'tellin', 'telling', 'tells', 'telly', 'temp', 'tempe', 'temped', 'temper', 'temperature', 'temperatures', 'tempermant', 'temporada', 'temporary', 'tempranillo', 'temps', 'temptation', 'tempted', 'tempting', 'tempur', 'tempura', 'ten', 'tenant', 'tend', 'tended', 'tendencies', 'tendency', 'tender', 'tenderbelly', 'tenderlion', 'tenderloin', 'tenderness', 'tenders', 'tendon', 'tendons', 'tends', 'tennesee', 'tennis', 'tent', 'tenth', 'tents', 'tepan', 'tepary', 'tepenyaki', 'teppen', 'teppiniyaki', 'tequila', 'tequilas', 'tequilla', 'teresa', 'teriffic', 'teriyaki', 'term', 'termial', 'terminal', 'terminals', 'terms', 'terra', 'terrace', 'terrain', 'terrayki', 'terrazzo', 'terrible', 'terribly', 'terrier', 'terrific', 'terrified', 'terrill', 'terrimisu', 'territory', 'terrors', 'terrrific', 'tess', 'test', 'testament', 'tested', 'testosterone', 'tests', 'tex', 'texan', 'texas', 'texasburgerguy', 'texaz', 'texmex', 'text', 'texted', 'texting', 'texts', 'textural', 'texture', 'textured', 'textures', 'tgf', 'tgw', 'th', 'tha', 'thai', 'thaiger', 'thailand', 'thali', 'than', 'thang', 'thanh', 'thank', 'thanked', 'thankful', 'thankfully', 'thankgsiving', 'thanking', 'thanks', 'thanksgiving', 'thanksliving', 'thankyou', 'that', 'thats', 'thawed', 'thawing', 'thay', 'the', 'theater', 'theaters', 'theatre', 'theatres', 'theatrical', 'thee', 'thefts', 'their', 'theirs', 'theives', 'them', 'theme', 'themed', 'themes', 'themselves', 'then', 'theodosopoulos', 'theory', 'thepanko', 'theprice', 'ther', 'therapeutic', 'therapist', 'therapists', 'therapy', 'there', 'thereafter', 'thereby', 'therefor', 'therefore', 'therein', 'thereof', 'theres', 'thermostat', 'these', 'thestandard', 'they', 'theyre', 'thhe', 'thick', 'thicker', 'thickness', 'thie', 'thier', 'thigh', 'thighs', 'thin', 'thing', 'thingie', 'thingies', 'things', 'thingy', 'thingys', 'think', 'thinker', 'thinkin', 'thinking', 'thinks', 'thinly', 'thinner', 'third', 'thirdly', 'thirst', 'thirsty', 'thirty', 'this', 'thit', 'tho', 'thole', 'thomas', 'thompson', 'thorough', 'thoroughfares', 'thoroughly', 'those', 'thou', 'though', 'thought', 'thoughtful', 'thoughts', 'thouhgt', 'thousand', 'thousands', 'thr', 'thrasher', 'thread', 'threading', 'threatened', 'threatening', 'threats', 'three', 'threesome', 'threw', 'thrice', 'thrift', 'thrifting', 'thrifty', 'thrilled', 'thrilling', 'thrive', 'throat', 'throne', 'throrugh', 'through', 'throughout', 'throught', 'throw', 'throwback', 'throwin', 'throwing', 'thrown', 'throws', 'thru', 'thruoghout', 'thta', 'thugs', 'thumb', 'thumbs', 'thumping', 'thunder', 'thunderbird', 'thunderstorm', 'thunk', 'thur', 'thurs', 'thursday', 'thursdays', 'thus', 'thyme', 'ti', 'tiara', 'tibi', 'tibs', 'ticked', 'ticket', 'ticketing', 'tickets', 'tickled', 'ticoz', 'tidbits', 'tide', 'tidy', 'tie', 'tied', 'tiered', 'tiers', 'ties', 'tieu', 'tiffany', 'tiffanys', 'tiger', 'tigers', 'tight', 'tighter', 'tijuana', 'tika', 'tike', 'tiki', 'tikil', 'tikka', 'tikki', 'til', 'tilapia', 'tile', 'tiler', 'till', 'tilly', 'tim', 'time', 'timed', 'timeless', 'timely', 'timer', 'timers', 'times', 'timeshare', 'timey', 'timid', 'timing', 'timo', 'tin', 'tina', 'tines', 'tinga', 'tingling', 'tini', 'tiniest', 'tinkering', 'tinkled', 'tins', 'tint', 'tinted', 'tiny', 'tinyurl', 'tip', 'tipalia', 'tipped', 'tipping', 'tips', 'tipsy', 'tiramisu', 'tire', 'tired', 'tirelessly', 'tires', 'tiring', 'tish', 'tissue', 'tit', 'titan', 'title', 'titles', 'tix', 'tj', 'tk', 'tlc', 'tlike', 'to', 'toad', 'toast', 'toasted', 'toaster', 'toasts', 'toasty', 'tobacco', 'tobasco', 'toby', 'today', 'todays', 'todd', 'toddler', 'toddlers', 'toddy', 'toe', 'toenails', 'toes', 'toffee', 'tofu', 'together', 'togetherness', 'togo', 'toilet', 'toilets', 'tokens', 'tokyo', 'told', 'toledos', 'tolerable', 'tolerance', 'tolerate', 'toliet', 'tolteca', 'tom', 'tomahawk', 'tomasos', 'tomatillo', 'tomato', 'tomatoes', 'tomatos', 'tomb', 'tomi', 'tommy', 'tomorrow', 'tomorrows', 'ton', 'tone', 'toned', 'toners', 'tones', 'tongs', 'tongue', 'tongued', 'tonic', 'tonight', 'tonights', 'tons', 'tony', 'too', 'toof', 'took', 'tool', 'tools', 'tooooo', 'tooth', 'toothbrush', 'toothless', 'tootin', 'tootsie', 'tootzi', 'top', 'topic', 'topics', 'topings', 'topless', 'topnotch', 'topped', 'topping', 'toppings', 'topple', 'topps', 'tops', 'torch', 'torched', 'tore', 'tori', 'torment', 'torn', 'toro', 'torres', 'tort', 'torta', 'tortalini', 'tortas', 'tortellini', 'tortilla', 'tortillas', 'torture', 'torturous', 'toshiba', 'toss', 'tossed', 'tosses', 'tossing', 'tostada', 'tostadas', 'tostitos', 'tot', 'total', 'totaled', 'totally', 'toting', 'tots', 'tottie', 'totts', 'touch', 'touched', 'touches', 'touching', 'tough', 'tougher', 'tounge', 'tour', 'tourism', 'tourist', 'tourists', 'tournaments', 'tourney', 'tours', 'touted', 'touting', 'tovar', 'tow', 'toward', 'towards', 'towed', 'towel', 'towels', 'tower', 'towers', 'towing', 'town', 'towne', 'towner', 'towners', 'townhomes', 'towns', 'toxin', 'toy', 'toying', 'toyota', 'toys', 'tqla', 'tra', 'trace', 'traces', 'track', 'tracking', 'tracks', 'tract', 'traction', 'tractor', 'tracy', 'trade', 'traded', 'trademark', 'trader', 'traders', 'trading', 'tradition', 'traditional', 'traditionally', 'traffic', 'tragically', 'tragus', 'trail', 'trailers', 'trailhead', 'trailings', 'trails', 'train', 'trained', 'trainer', 'trainers', 'training', 'trains', 'traipse', 'tramadol', 'tranquil', 'tranquility', 'transacting', 'transaction', 'transcendent', 'transcendental', 'transcripts', 'transfer', 'transfered', 'transferred', 'transferring', 'transfers', 'transform', 'transformation', 'transformed', 'transformers', 'transforms', 'transgendered', 'transients', 'transit', 'transition', 'transitioned', 'transitioning', 'translated', 'translates', 'translation', 'translations', 'transmission', 'transparency', 'transparent', 'transplant', 'transplanted', 'transplanting', 'transport', 'transported', 'transporting', 'trap', 'trapped', 'traps', 'trash', 'trashed', 'trashy', 'trauma', 'traumatized', 'travel', 'traveled', 'traveler', 'travelers', 'traveling', 'travelling', 'travels', 'travelzoo', 'traverse', 'travesty', 'travis', 'tray', 'trays', 'treacherous', 'treachery', 'tread', 'treadmill', 'treasure', 'treasures', 'treat', 'treated', 'treating', 'treatment', 'treatments', 'treats', 'tree', 'treehouse', 'trees', 'trek', 'trekking', 'treks', 'tremendous', 'trend', 'trendier', 'trendy', 'trepidation', 'trepidations', 'tres', 'tri', 'triangles', 'triangular', 'triathlons', 'tribute', 'trick', 'tricked', 'trickiest', 'tricks', 'tricky', 'tricycles', 'tried', 'tries', 'trifecta', 'trifled', 'trigger', 'trike', 'trim', 'trimmed', 'trimmers', 'trinkets', 'trio', 'trip', 'tripe', 'triple', 'trippin', 'trips', 'triscuits', 'trish', 'trisha', 'trite', 'triva', 'trivia', 'troon', 'trophies', 'trophy', 'tropical', 'trot', 'trotted', 'trouble', 'troubled', 'trough', 'trousers', 'trout', 'troy', 'truants', 'truck', 'truckin', 'trucks', 'true', 'truely', 'truffle', 'truffled', 'truffles', 'truly', 'trumpet', 'trumps', 'trunk', 'trust', 'trusted', 'trusting', 'trustworthy', 'trusty', 'truth', 'truthfully', 'try', 'trying', 'tryst', 'tsa', 'tshirts', 'tske', 'tso', 'tsoynami', 'tsoynamis', 'tty', 'tub', 'tube', 'tubes', 'tubs', 'tuck', 'tucked', 'tucker', 'tucson', 'tues', 'tuesday', 'tuesdays', 'tuition', 'tum', 'tumbled', 'tumbling', 'tumeric', 'tummy', 'tumor', 'tums', 'tuna', 'tune', 'tuned', 'tunes', 'tuneup', 'tunnel', 'tupperware', 'turbo', 'turbulence', 'turd', 'tureen', 'turkey', 'turkish', 'turn', 'turned', 'turner', 'turning', 'turnover', 'turns', 'turntable', 'turtle', 'tuscan', 'tuscana', 'tuscany', 'tush', 'tutelage', 'tutorial', 'tutoring', 'tutti', 'tv', 'tvs', 'twangy', 'twas', 'tweak', 'tweaker', 'tweek', 'tween', 'tweeples', 'tweet', 'tweeted', 'tweeter', 'tweets', 'tweeze', 'twelve', 'twenties', 'twenty', 'twice', 'twig', 'twilight', 'twin', 'twinkling', 'twinkly', 'twins', 'twist', 'twisted', 'twisting', 'twisty', 'twitter', 'twix', 'two', 'twozels', 'twss', 'tx', 'tying', 'tyler', 'tylor', 'type', 'typed', 'types', 'typical', 'typically', 'typing', 'tyson', 'tysoncrosbie', 'tzatziki', 'ua', 'uber', 'ubiquitous', 'uchi', 'udder', 'udon', 'udupai', 'udupi', 'ufc', 'ugh', 'ugly', 'uh', 'uhh', 'uhhh', 'uk', 'ukrainian', 'ul', 'ulta', 'ultimate', 'ultimately', 'ultra', 'ultrasound', 'ultrasounds', 'ultrastarmovies', 'um', 'umami', 'umberto', 'umbrella', 'umbrellaed', 'umbrellas', 'umbria', 'umm', 'ummm', 'ummmmmmmm', 'umph', 'umpteen', 'un', 'unable', 'unacceptable', 'unadulterated', 'unagi', 'unanimous', 'unannounced', 'unanswered', 'unapologetic', 'unapologetically', 'unappealing', 'unappetizing', 'unassuming', 'unaware', 'unbearable', 'unbeatable', 'unbelievable', 'unbelievably', 'unborn', 'unbridled', 'uncaffeinated', 'uncanny', 'uncaring', 'uncle', 'unclear', 'uncleared', 'uncles', 'uncluttered', 'uncomfortable', 'uncomfortabley', 'uncomfotable', 'uncommon', 'uncomplicated', 'uncooked', 'uncool', 'uncooperative', 'uncountable', 'uncouth', 'uncrisp', 'uncrowded', 'uncrumbled', 'uncut', 'undecided', 'under', 'underage', 'underaged', 'underarm', 'underarms', 'undercoat', 'undercooked', 'underdone', 'undergrads', 'underground', 'underhanded', 'underneath', 'underrated', 'undersalted', 'underseason', 'underserved', 'understaffed', 'understand', 'understandable', 'understanding', 'understands', 'understated', 'understatement', 'understood', 'underwear', 'underwhelmed', 'underwhelming', 'underwritten', 'undeserving', 'undeterred', 'undies', 'undoubtedly', 'undr', 'undress', 'undrinkable', 'uneasy', 'uneaten', 'unedible', 'uneducated', 'unemployed', 'unemployment', 'unending', 'unenjoyably', 'unethical', 'uneventful', 'unexceptional', 'unexpected', 'unexpectedly', 'unexplainably', 'unfamiliar', 'unfavorable', 'unfazed', 'unfinished', 'unflattering', 'unflavored', 'unflexible', 'unfocused', 'unforgettable', 'unforgivable', 'unfortunate', 'unfortunately', 'unfounded', 'unfriendliness', 'unfriendly', 'unfulfilled', 'ungreasy', 'unhappy', 'unhealthily', 'unhealthy', 'unheard', 'unhelpful', 'uni', 'unidentifiable', 'unidientifiable', 'uniform', 'uniformly', 'uniforms', 'unimaginable', 'unimpressed', 'uninspired', 'uninspiring', 'unintended', 'uninteresting', 'uninterrupted', 'uninterupted', 'uninviting', 'union', 'unique', 'uniquely', 'uniqueness', 'unisex', 'unison', 'unit', 'unite', 'united', 'units', 'universities', 'university', 'unkept', 'unknowingly', 'unknown', 'unleashing', 'unless', 'unlike', 'unlikely', 'unlimited', 'unlock', 'unlocked', 'unlucky', 'unmanipulated', 'unmarked', 'unmatched', 'unmentionable', 'unmistakably', 'unneccesary', 'unnecessary', 'unnoticed', 'uno', 'unobstructed', 'unocal', 'unoccupied', 'unofficial', 'unorganized', 'unoriginal', 'unoticed', 'unpalatable', 'unparalleled', 'unphogettable', 'unphoghetable', 'unpleasant', 'unplesant', 'unpretentious', 'unpretentiously', 'unprocessed', 'unprofessional', 'unprofessionally', 'unreal', 'unreasonable', 'unrefined', 'unrelated', 'unrivaled', 'unsanitary', 'unsatisfactory', 'unsatisfied', 'unseasoned', 'unseen', 'unselfishly', 'unsettling', 'unsolicited', 'unspectacular', 'unstopable', 'unstoppable', 'unstressed', 'unsuccessful', 'unsuccessfully', 'unsure', 'unsuspecting', 'unsweetened', 'unted', 'unthinkable', 'until', 'untill', 'untraditional', 'untrained', 'untried', 'unusable', 'unused', 'unusual', 'unusually', 'unvalidated', 'unwanted', 'unwarmed', 'unwelcome', 'unwelcoming', 'unwilling', 'unwind', 'unyielding', 'uopx', 'up', 'upbeat', 'upbringings', 'upc', 'upcharge', 'upcharging', 'upchuck', 'upcoming', 'update', 'updated', 'updates', 'updating', 'upfront', 'upgrade', 'upgraded', 'upgrades', 'upgrading', 'uphill', 'upholstery', 'upload', 'uploaded', 'uploads', 'upo', 'upon', 'upped', 'upper', 'uppers', 'upping', 'uprooted', 'ups', 'upsale', 'upscale', 'upsell', 'upset', 'upsets', 'upsetting', 'upside', 'upstaged', 'upstairs', 'uptight', 'uptown', 'ur', 'urban', 'urbanspoon', 'urchin', 'urge', 'urgent', 'urging', 'urinal', 'urinates', 'urine', 'uruguay', 'us', 'usa', 'usage', 'usain', 'usairways', 'usd', 'use', 'used', 'useful', 'useless', 'user', 'uses', 'using', 'usl', 'usps', 'usual', 'usually', 'usuals', 'ususally', 'utah', 'utensil', 'utensils', 'uterus', 'utility', 'utilize', 'utilized', 'utilizing', 'utmost', 'utter', 'uttered', 'utterly', 'uv', 'ux10', 'uye', 'va', 'vac', 'vaca', 'vacant', 'vacation', 'vacationing', 'vacations', 'vacay', 'vaccilate', 'vaccination', 'vaccines', 'vacuum', 'vacuumed', 'vaguely', 'vain', 'val', 'valencia', 'valentine', 'valentines', 'valerie', 'valet', 'valeted', 'valets', 'valid', 'validated', 'validates', 'validation', 'valle', 'valley', 'valomilk', 'valuable', 'value', 'valued', 'values', 'vampire', 'vampiro', 'van', 'vancouver', 'vandalized', 'vang', 'vanilla', 'vanity', 'vans', 'vantage', 'vaporized', 'variance', 'variation', 'variations', 'varied', 'varies', 'varietals', 'varieties', 'variety', 'various', 'vary', 'vase', 'vases', 'vast', 'vat', 'vatican', 'vatoci', 'vatra', 'vault', 'vca', 've', 'veal', 'veer', 'veerrrrrryyyyyyyyy', 'veg', 'vegan', 'veganized', 'vegas', 'vegetable', 'vegetables', 'vegetarian', 'vegetarians', 'veggie', 'veggies', 'vegie', 'vegiies', 'vegtable', 'vehicle', 'vehicles', 'veiled', 'vein', 'veins', 'velvet', 'velveta', 'velvety', 'vender', 'vendor', 'vendors', 'venerable', 'vengence', 'venice', 'venom', 'vent', 'ventilation', 'vents', 'venture', 'ventured', 'ventures', 'venturing', 'venue', 'venues', 'venus', 'venyse', 'vera', 'verbal', 'verbally', 'verde', 'verdes', 'verdict', 'verduras', 'verge', 'verges', 'verify', 'verisimilitude', 'veritable', 'verizon', 'vermicelli', 'vermont', 'vermonter', 'veronica', 'veronique', 'verrado', 'versatile', 'verse', 'versed', 'version', 'versions', 'versus', 'verts', 'verve', 'very', 'vesper', 'vestibule', 'vests', 'vet', 'veteran', 'veterans', 'veterinary', 'vets', 'vexing', 'vey', 'via', 'viad', 'viagra', 'vibe', 'vibrant', 'vibrate', 'vibrated', 'vibrator', 'vic', 'vice', 'vices', 'vicinity', 'vicious', 'vicky', 'victoria', 'victorian', 'vide', 'video', 'videogame', 'videos', 'vids', 'vieja', 'viejas', 'vien', 'viet', 'vietnam', 'vietnamese', 'vietri', 'view', 'viewers', 'viewing', 'viewpoint', 'views', 'vig', 'vigazz', 'vignettes', 'viking', 'vikings', 'vile', 'villa', 'village', 'villas', 'vin', 'vinagerette', 'vinagrette', 'vinaigrette', 'vincent', 'vindaloo', 'vine', 'vinegar', 'vinegarette', 'vinegary', 'vines', 'vineyard', 'vingerette', 'vings', 'vino', 'vintage', 'vinyl', 'viola', 'violated', 'violation', 'violations', 'violence', 'violently', 'vip', 'vips', 'virgin', 'virginia', 'virtually', 'virus', 'viscous', 'visi', 'visibility', 'visible', 'visibly', 'vision', 'visions', 'visit', 'visited', 'visiting', 'visitor', 'visitors', 'visits', 'vista', 'vistal', 'visual', 'visualize', 'visually', 'visuals', 'vitality', 'vitamin', 'vitamins', 'vittles', 'vivant', 'vivid', 'vochos', 'vodka', 'vodkas', 'voga', 'voice', 'voiced', 'void', 'voided', 'voila', 'volcano', 'volleyball', 'volume', 'volumes', 'volunteer', 'volunteered', 'volunteering', 'volunteers', 'vomit', 'von', 'voodoo', 'voracious', 'vortex', 'vote', 'voted', 'voting', 'vouch', 'voucher', 'vouchers', 'vow', 'vowed', 'vs', 'vsc', 'vueve', 'vulgar', 'vulture', 'vultures', 'vw', 'wa', 'waaaaaaaaay', 'waaaaaay', 'waaaaay', 'waayy', 'wac', 'wach', 'wacko', 'wacky', 'wad', 'wade', 'waders', 'waffle', 'waffles', 'waffling', 'wafts', 'wag', 'wager', 'wagged', 'wagyu', 'wah', 'wahoo', 'waikiki', 'waist', 'waistband', 'waisting', 'wait', 'waited', 'waiter', 'waiters', 'waiting', 'waitless', 'waitors', 'waitperson', 'waitress', 'waitresses', 'waits', 'waitstaff', 'waitstand', 'waive', 'waived', 'wake', 'waking', 'wal', 'waldorf', 'walet', 'walgreens', 'walk', 'walkable', 'walked', 'walking', 'walks', 'walkway', 'walkways', 'wall', 'wallet', 'wallets', 'wallnuts', 'wallowing', 'wallpaper', 'wallpapers', 'walls', 'wally', 'wallys', 'walmart', 'walnut', 'walnuts', 'waltzed', 'wand', 'wanda', 'wander', 'wandered', 'wandering', 'wanna', 'wannabe', 'wannabes', 'want', 'want_', 'wanted', 'wanting', 'wantons', 'wants', 'war', 'ward', 'warden', 'wardrobe', 'wards', 'ware', 'warehouse', 'warehoused', 'wares', 'wargaming', 'warm', 'warmed', 'warmer', 'warmers', 'warming', 'warmly', 'warmth', 'warn', 'warned', 'warner', 'warning', 'warnings', 'warp', 'warrant', 'warrants', 'warranty', 'warriors', 'wars', 'wary', 'was', 'wasabe', 'wasabi', 'wash', 'washcloths', 'washday', 'washed', 'washer', 'washers', 'washes', 'washing', 'washington', 'washingtons', 'wasn', 'wasnt', 'wasp', 'waste', 'wastebaskets', 'wasted', 'waster', 'wasting', 'wasy', 'watch', 'watched', 'watcher', 'watchers', 'watches', 'watching', 'water', 'watered', 'waterfall', 'waterfalls', 'waterfront', 'watering', 'watermelon', 'waterproof', 'waters', 'waterslides', 'waterworks', 'watery', 'watt', 'wave', 'waved', 'wavelle', 'waving', 'wax', 'waxed', 'waxing', 'way', 'wayne', 'ways', 'wayward', 'wayyy', 'wayyyy', 'wayyyyyyy', 'wazoooo', 'wbc', 'wcg', 'we', 'weak', 'weakness', 'wealthier', 'weapon', 'wear', 'wearers', 'wearing', 'wears', 'weary', 'weather', 'weaving', 'web', 'website', 'websites', 'wed', 'wedding', 'weddings', 'wedge', 'wedges', 'wednesday', 'wednesdays', 'weds', 'wee', 'weeds', 'week', 'weekday', 'weekdays', 'weekend', 'weekends', 'weekly', 'weeknight', 'weeknights', 'weeks', 'wei', 'weigh', 'weighs', 'weight', 'weighted', 'weights', 'weihenstephaner', 'weil', 'weird', 'weirded', 'weirdest', 'weirdly', 'weirdo', 'weirdos', 'welcome', 'welcomed', 'welcomes', 'welcoming', 'well', 'wellness', 'wells', 'wendy', 'wendys', 'went', 'were', 'weren', 'werent', 'werne', 'wes', 'west', 'western', 'westgate', 'westin', 'westminster', 'westside', 'westward', 'wet', 'wha', 'whaat', 'whack', 'whacked', 'whales', 'what', 'whatever', 'whatnot', 'whats', 'whatsoever', 'whatsosever', 'whatsover', 'wheat', 'wheel', 'wheeling', 'wheels', 'wheezed', 'when', 'whenever', 'where', 'whereas', 'wheres', 'whereupon', 'wherever', 'whether', 'whew', 'which', 'whiff', 'while', 'whilst', 'whim', 'whimper', 'whimsical', 'whined', 'whines', 'whinin', 'whining', 'whinnying', 'whip', 'whipped', 'whips', 'whirl', 'whirlpool', 'whirlpools', 'whisked', 'whiskey', 'whiskeys', 'whisper', 'whispered', 'whispers', 'whistle', 'whistling', 'white', 'whiteboard', 'whiten', 'whites', 'whitesands', 'whitey', 'whitney', 'whiz', 'who', 'whoa', 'whoah', 'whoever', 'whole', 'wholeheartedly', 'wholesome', 'wholly', 'whom', 'whoop', 'whooping', 'whopper', 'whopping', 'whore', 'whoreish', 'whoring', 'whose', 'why', 'wi', 'wich', 'wicked', 'wicker', 'wide', 'widening', 'wider', 'widow', 'width', 'wiener', 'wierd', 'wife', 'wifes', 'wifey', 'wifi', 'wig', 'wiggle', 'wigs', 'wigwam', 'wih', 'wii', 'wiki', 'wikipedia', 'wil', 'wild', 'wildcat', 'wilderness', 'wildest', 'wildfish', 'wildflower', 'wildflowers', 'wildhorse', 'wildlife', 'wildly', 'will', 'willamette', 'willfully', 'willie', 'willing', 'willingfully', 'willow', 'willpower', 'wills', 'willy', 'willys', 'wilma', 'wilted', 'wimp', 'wimper', 'win', 'wind', 'windex', 'winding', 'window', 'windowpanes', 'windows', 'winds', 'windshield', 'windshields', 'windsor', 'windy', 'wine', 'wines', 'wing', 'wingers', 'wings', 'wining', 'wink', 'winkie', 'winkies', 'winking', 'winky', 'winner', 'winners', 'winning', 'wino', 'winos', 'wins', 'winter', 'wipe', 'wiped', 'wiper', 'wipes', 'wiping', 'wire', 'wired', 'wireless', 'wires', 'wiring', 'wisconsin', 'wisconsinite', 'wisdom', 'wise', 'wiseguy', 'wisely', 'wiser', 'wish', 'wished', 'wishes', 'wishful', 'wishing', 'witches', 'with', 'withdrawal', 'withdrawn', 'withe', 'withheld', 'within', 'without', 'withstand', 'withstanding', 'witness', 'witnessed', 'witnesses', 'witty', 'wives', 'wiz', 'wizard', 'wk', 'wks', 'wll', 'wm', 'woah', 'wobble', 'wobbly', 'woe', 'woes', 'wok', 'woke', 'woken', 'wolfed', 'wolfpack', 'wolverine', 'woman', 'women', 'womens', 'won', 'wonder', 'wondered', 'wonderful', 'wonderfully', 'wonderfulness', 'wondering', 'wonderland', 'wonderous', 'wonders', 'wondrous', 'wong', 'wongs', 'wont', 'wonton', 'wontons', 'woo', 'wood', 'woodcarving', 'wooden', 'woodlands', 'woods', 'woodworker', 'wooed', 'woohoo', 'wool', 'wooooooooo', 'word', 'wordly', 'words', 'wore', 'work', 'worked', 'worker', 'workers', 'working', 'workmanship', 'workout', 'workouts', 'works', 'workshops', 'world', 'worlds', 'worldwide', 'worm', 'worn', 'worried', 'worries', 'worrisome', 'worry', 'worrying', 'worse', 'worship', 'worst', 'worstershire', 'worth', 'worthless', 'worthwhile', 'worthy', 'wott', 'woudn', 'would', 'woulda', 'wouldn', 'wouldnt', 'wouldve', 'wound', 'wounds', 'wow', 'wowed', 'wowzer', 'wp', 'wracking', 'wrap', 'wrapped', 'wrapper', 'wrappers', 'wrapping', 'wraps', 'wrath', 'wreck', 'wrestling', 'wright', 'wrigley', 'wrigleyville', 'wrinkled', 'wrinkles', 'wrinkling', 'wrist', 'wristbands', 'write', 'writer', 'writers', 'writes', 'writing', 'written', 'wrkout', 'wrong', 'wrote', 'wt', 'wtf', 'wth', 'wtih', 'wussies', 'wussy', 'wwe', 'www', 'würze', 'x2', 'x5', 'xanax', 'xavier', 'xbox', 'xcp', 'xeriscape', 'xg8u6fz2e8hu0xq3hf7czg', 'xl', 'xlv', 'xmas', 'xylophone', 'xyz', 'xèo', 'ya', 'yaaaaay', 'yack', 'yah', 'yahoo', 'yakaguru', 'yaki', 'yakisoba', 'yakitori', 'yall', 'yam', 'yang', 'yankin', 'yanks', 'yard', 'yards', 'yardsale', 'yasu', 'yawning', 'yay', 'yc', 'yds', 'yea', 'yeah', 'year', 'yearly', 'yearning', 'yearnings', 'years', 'yeast', 'yeeeaaaahhh', 'yeh', 'yelena', 'yell', 'yelled', 'yelling', 'yellow', 'yellowfin', 'yellowish', 'yellowtail', 'yells', 'yelp', 'yelped', 'yelper', 'yelpers', 'yelping', 'yelps', 'yen', 'yep', 'yeppie', 'yer', 'yerba', 'yes', 'yesssss', 'yesterday', 'yet', 'yew', 'ygl', 'yielding', 'yikes', 'yin', 'yippee', 'ymca', 'yo', 'yodeling', 'yodels', 'yoga', 'yogalates', 'yoghund', 'yogis', 'yogurt', 'yogurtini', 'yogurtland', 'yogurtology', 'yogurtopia', 'yogurts', 'yoli', 'yolk', 'yon', 'yoohoo', 'york', 'yorker', 'yorkers', 'yorkie', 'you', 'youd', 'youki', 'young', 'younger', 'youngest', 'youngggg', 'youngtown', 'your', 'youre', 'yours', 'yourself', 'yourselves', 'youth', 'youthful', 'youtube', 'yow', 'yowza', 'yr', 'yragui', 'yrs', 'yu', 'yuck', 'yucky', 'yuk', 'yukgejang', 'yukon', 'yum', 'yuma', 'yumm', 'yummie', 'yummier', 'yumminess', 'yummm', 'yummmayyyy', 'yummmm', 'yummmmm', 'yummmmmm', 'yummmmmmers', 'yummmmmmmm', 'yummmmy', 'yummo', 'yummy', 'yumness', 'yung', 'yup', 'yupha', 'yuppies', 'yur', 'yuri', 'yusefs', 'yuukk', 'yuuuummmmae', 'yuuuuummmmmyyy', 'yuuuuuuum', 'yuyuyummy', 'yuzu', 'yyyeeaahhhh', 'yyyyy', 'z11', 'za', 'zabba', 'zach', 'zam', 'zanella', 'zankou', 'zappos', 'zatsiki', 'zen', 'zero', 'zest', 'zesty', 'zexperience', 'zha', 'zhou', 'zia', 'zichini', 'zihuatenejo', 'zilch', 'zillion', 'zin', 'zinburger', 'zinburgergeist', 'zinc', 'zinfandel', 'zing', 'zip', 'zipcar', 'ziploc', 'zipper', 'zippers', 'zipps', 'ziti', 'zoe', 'zombi', 'zombies', 'zone', 'zoners', 'zones', 'zoning', 'zoo', 'zoom', 'zoyo', 'zucca', 'zucchini', 'zuccini', 'zuchinni', 'zumba', 'zupa', 'zupas', 'zuzu', 'zuzus', 'zwiebel', 'zzed', 'éclairs', 'école', 'ém']\n"
     ]
    }
   ],
   "source": [
    "X=cv.fit_transform(X)\n",
    "print(cv.get_feature_names())\n"
   ]
  },
  {
   "cell_type": "code",
   "execution_count": 40,
   "metadata": {},
   "outputs": [
    {
     "name": "stdout",
     "output_type": "stream",
     "text": [
      "Shape of Sparse Matrix:  (4086, 19183)\n",
      "Amount of Non-Zero occurences:  317288\n"
     ]
    }
   ],
   "source": [
    "print('Shape of Sparse Matrix: ', X.shape)\n",
    "print('Amount of Non-Zero occurences: ', X.nnz)"
   ]
  },
  {
   "cell_type": "code",
   "execution_count": 41,
   "metadata": {},
   "outputs": [
    {
     "name": "stdout",
     "output_type": "stream",
     "text": [
      "sparsity: 0\n"
     ]
    }
   ],
   "source": [
    "sparsity = (100.0 * X.nnz / (X.shape[0] * X.shape[1]))\n",
    "print('sparsity: {}'.format(round(sparsity)))"
   ]
  },
  {
   "cell_type": "markdown",
   "metadata": {},
   "source": [
    "## Train Test Split\n",
    "\n"
   ]
  },
  {
   "cell_type": "code",
   "execution_count": 42,
   "metadata": {},
   "outputs": [],
   "source": [
    "from sklearn.model_selection import train_test_split\n",
    "X_train, X_test, y_train, y_test=train_test_split(X,y,test_size=0.3,random_state=101)"
   ]
  },
  {
   "cell_type": "markdown",
   "metadata": {},
   "source": [
    "## Training a Model\n",
    "\n"
   ]
  },
  {
   "cell_type": "code",
   "execution_count": 43,
   "metadata": {},
   "outputs": [],
   "source": [
    "from sklearn.naive_bayes import MultinomialNB\n",
    "nb=MultinomialNB()"
   ]
  },
  {
   "cell_type": "code",
   "execution_count": 44,
   "metadata": {},
   "outputs": [
    {
     "data": {
      "text/plain": [
       "MultinomialNB()"
      ]
     },
     "execution_count": 44,
     "metadata": {},
     "output_type": "execute_result"
    }
   ],
   "source": [
    "nb.fit(X_train,y_train)"
   ]
  },
  {
   "cell_type": "markdown",
   "metadata": {},
   "source": [
    "## Predictions and Evaluations\n",
    "\n"
   ]
  },
  {
   "cell_type": "code",
   "execution_count": 45,
   "metadata": {},
   "outputs": [],
   "source": [
    "prediction=nb.predict(X_test)"
   ]
  },
  {
   "cell_type": "code",
   "execution_count": 46,
   "metadata": {},
   "outputs": [],
   "source": [
    "from sklearn.metrics import confusion_matrix,classification_report"
   ]
  },
  {
   "cell_type": "code",
   "execution_count": 47,
   "metadata": {},
   "outputs": [
    {
     "name": "stdout",
     "output_type": "stream",
     "text": [
      "[[159  69]\n",
      " [ 22 976]]\n",
      "              precision    recall  f1-score   support\n",
      "\n",
      "           1       0.88      0.70      0.78       228\n",
      "           5       0.93      0.98      0.96       998\n",
      "\n",
      "    accuracy                           0.93      1226\n",
      "   macro avg       0.91      0.84      0.87      1226\n",
      "weighted avg       0.92      0.93      0.92      1226\n",
      "\n"
     ]
    }
   ],
   "source": [
    "print(confusion_matrix(y_test,prediction))\n",
    "print(classification_report(y_test,prediction))"
   ]
  },
  {
   "cell_type": "markdown",
   "metadata": {},
   "source": [
    "**Теперь можем использовать TF-IDF и посмотреть что изменится**"
   ]
  },
  {
   "cell_type": "code",
   "execution_count": 48,
   "metadata": {},
   "outputs": [],
   "source": [
    "from sklearn.feature_extraction.text import TfidfTransformer"
   ]
  },
  {
   "cell_type": "code",
   "execution_count": 49,
   "metadata": {},
   "outputs": [],
   "source": [
    "from sklearn.pipeline import Pipeline"
   ]
  },
  {
   "cell_type": "markdown",
   "metadata": {},
   "source": [
    "**Создадим свой анализатор**"
   ]
  },
  {
   "cell_type": "code",
   "execution_count": 50,
   "metadata": {},
   "outputs": [
    {
     "data": {
      "text/plain": [
       "['i',\n",
       " 'me',\n",
       " 'my',\n",
       " 'myself',\n",
       " 'we',\n",
       " 'our',\n",
       " 'ours',\n",
       " 'ourselves',\n",
       " 'you',\n",
       " \"you're\",\n",
       " \"you've\",\n",
       " \"you'll\",\n",
       " \"you'd\",\n",
       " 'your',\n",
       " 'yours',\n",
       " 'yourself',\n",
       " 'yourselves',\n",
       " 'he',\n",
       " 'him',\n",
       " 'his',\n",
       " 'himself',\n",
       " 'she',\n",
       " \"she's\",\n",
       " 'her',\n",
       " 'hers',\n",
       " 'herself',\n",
       " 'it',\n",
       " \"it's\",\n",
       " 'its',\n",
       " 'itself',\n",
       " 'they',\n",
       " 'them',\n",
       " 'their',\n",
       " 'theirs',\n",
       " 'themselves',\n",
       " 'what',\n",
       " 'which',\n",
       " 'who',\n",
       " 'whom',\n",
       " 'this',\n",
       " 'that',\n",
       " \"that'll\",\n",
       " 'these',\n",
       " 'those',\n",
       " 'am',\n",
       " 'is',\n",
       " 'are',\n",
       " 'was',\n",
       " 'were',\n",
       " 'be',\n",
       " 'been',\n",
       " 'being',\n",
       " 'have',\n",
       " 'has',\n",
       " 'had',\n",
       " 'having',\n",
       " 'do',\n",
       " 'does',\n",
       " 'did',\n",
       " 'doing',\n",
       " 'a',\n",
       " 'an',\n",
       " 'the',\n",
       " 'and',\n",
       " 'but',\n",
       " 'if',\n",
       " 'or',\n",
       " 'because',\n",
       " 'as',\n",
       " 'until',\n",
       " 'while',\n",
       " 'of',\n",
       " 'at',\n",
       " 'by',\n",
       " 'for',\n",
       " 'with',\n",
       " 'about',\n",
       " 'against',\n",
       " 'between',\n",
       " 'into',\n",
       " 'through',\n",
       " 'during',\n",
       " 'before',\n",
       " 'after',\n",
       " 'above',\n",
       " 'below',\n",
       " 'to',\n",
       " 'from',\n",
       " 'up',\n",
       " 'down',\n",
       " 'in',\n",
       " 'out',\n",
       " 'on',\n",
       " 'off',\n",
       " 'over',\n",
       " 'under',\n",
       " 'again',\n",
       " 'further',\n",
       " 'then',\n",
       " 'once',\n",
       " 'here',\n",
       " 'there',\n",
       " 'when',\n",
       " 'where',\n",
       " 'why',\n",
       " 'how',\n",
       " 'all',\n",
       " 'any',\n",
       " 'both',\n",
       " 'each',\n",
       " 'few',\n",
       " 'more',\n",
       " 'most',\n",
       " 'other',\n",
       " 'some',\n",
       " 'such',\n",
       " 'no',\n",
       " 'nor',\n",
       " 'not',\n",
       " 'only',\n",
       " 'own',\n",
       " 'same',\n",
       " 'so',\n",
       " 'than',\n",
       " 'too',\n",
       " 'very',\n",
       " 's',\n",
       " 't',\n",
       " 'can',\n",
       " 'will',\n",
       " 'just',\n",
       " 'don',\n",
       " \"don't\",\n",
       " 'should',\n",
       " \"should've\",\n",
       " 'now',\n",
       " 'd',\n",
       " 'll',\n",
       " 'm',\n",
       " 'o',\n",
       " 're',\n",
       " 've',\n",
       " 'y',\n",
       " 'ain',\n",
       " 'aren',\n",
       " \"aren't\",\n",
       " 'couldn',\n",
       " \"couldn't\",\n",
       " 'didn',\n",
       " \"didn't\",\n",
       " 'doesn',\n",
       " \"doesn't\",\n",
       " 'hadn',\n",
       " \"hadn't\",\n",
       " 'hasn',\n",
       " \"hasn't\",\n",
       " 'haven',\n",
       " \"haven't\",\n",
       " 'isn',\n",
       " \"isn't\",\n",
       " 'ma',\n",
       " 'mightn',\n",
       " \"mightn't\",\n",
       " 'mustn',\n",
       " \"mustn't\",\n",
       " 'needn',\n",
       " \"needn't\",\n",
       " 'shan',\n",
       " \"shan't\",\n",
       " 'shouldn',\n",
       " \"shouldn't\",\n",
       " 'wasn',\n",
       " \"wasn't\",\n",
       " 'weren',\n",
       " \"weren't\",\n",
       " 'won',\n",
       " \"won't\",\n",
       " 'wouldn',\n",
       " \"wouldn't\"]"
      ]
     },
     "execution_count": 50,
     "metadata": {},
     "output_type": "execute_result"
    }
   ],
   "source": [
    "from nltk.corpus import stopwords\n",
    "import string\n",
    "stopwords.words('english')"
   ]
  },
  {
   "cell_type": "code",
   "execution_count": 51,
   "metadata": {},
   "outputs": [],
   "source": [
    "def text_process(mess):\n",
    "    #убираем знаки пунктуции\n",
    "    nopunc = [char for char in mess if char not in string.punctuation]\n",
    "    nopunc = ''.join(nopunc)\n",
    "    #убираем самые неинформативные слова\n",
    "    return [word for word in nopunc.split() if word.lower() not in stopwords.words('english')]"
   ]
  },
  {
   "cell_type": "code",
   "execution_count": 52,
   "metadata": {},
   "outputs": [],
   "source": [
    "pipeline=Pipeline([\n",
    "    ('bow', CountVectorizer(analyzer=text_process)),\n",
    "    ('tfidf',TfidfTransformer()),\n",
    "     ('classifier',MultinomialNB()),\n",
    "])"
   ]
  },
  {
   "cell_type": "markdown",
   "metadata": {},
   "source": [
    "### Train Test Split\n",
    "\n"
   ]
  },
  {
   "cell_type": "code",
   "execution_count": 53,
   "metadata": {},
   "outputs": [],
   "source": [
    "X = yelp_class['text']\n",
    "y = yelp_class['stars']\n",
    "X_train, X_test, y_train, y_test = train_test_split(X, y,test_size=0.3,random_state=101)"
   ]
  },
  {
   "cell_type": "code",
   "execution_count": 54,
   "metadata": {},
   "outputs": [
    {
     "data": {
      "text/plain": [
       "Pipeline(steps=[('bow',\n",
       "                 CountVectorizer(analyzer=<function text_process at 0x000001FF2A3361F0>)),\n",
       "                ('tfidf', TfidfTransformer()),\n",
       "                ('classifier', MultinomialNB())])"
      ]
     },
     "execution_count": 54,
     "metadata": {},
     "output_type": "execute_result"
    }
   ],
   "source": [
    "pipeline.fit(X_train,y_train)"
   ]
  },
  {
   "cell_type": "markdown",
   "metadata": {},
   "source": [
    "### Predictions and Evaluation\n",
    "\n",
    "** Now use the pipeline to predict from the X_test and create a classification report and confusion matrix. You should notice strange results.**"
   ]
  },
  {
   "cell_type": "code",
   "execution_count": 55,
   "metadata": {},
   "outputs": [],
   "source": [
    "pred=pipeline.predict(X_test)"
   ]
  },
  {
   "cell_type": "code",
   "execution_count": 56,
   "metadata": {},
   "outputs": [
    {
     "name": "stdout",
     "output_type": "stream",
     "text": [
      "[[  0 228]\n",
      " [  0 998]]\n",
      "              precision    recall  f1-score   support\n",
      "\n",
      "           1       0.00      0.00      0.00       228\n",
      "           5       0.81      1.00      0.90       998\n",
      "\n",
      "    accuracy                           0.81      1226\n",
      "   macro avg       0.41      0.50      0.45      1226\n",
      "weighted avg       0.66      0.81      0.73      1226\n",
      "\n"
     ]
    },
    {
     "name": "stderr",
     "output_type": "stream",
     "text": [
      "c:\\python38\\lib\\site-packages\\sklearn\\metrics\\_classification.py:1221: UndefinedMetricWarning: Precision and F-score are ill-defined and being set to 0.0 in labels with no predicted samples. Use `zero_division` parameter to control this behavior.\n",
      "  _warn_prf(average, modifier, msg_start, len(result))\n"
     ]
    }
   ],
   "source": [
    "print(confusion_matrix(y_test,pred))\n",
    "print(classification_report(y_test,pred))"
   ]
  },
  {
   "cell_type": "markdown",
   "metadata": {},
   "source": [
    "Результаты очевидно стали хуже, но стоит попробовать  использовать другие параметры в pipeline. Возможно результат улучшится, но скорее всего для этого набора данных TF-IDF не подходит"
   ]
  },
  {
   "cell_type": "markdown",
   "metadata": {},
   "source": [
    "# Great Job!"
   ]
  }
 ],
 "metadata": {
  "kernelspec": {
   "display_name": "Python 3",
   "language": "python",
   "name": "python3"
  },
  "language_info": {
   "codemirror_mode": {
    "name": "ipython",
    "version": 3
   },
   "file_extension": ".py",
   "mimetype": "text/x-python",
   "name": "python",
   "nbconvert_exporter": "python",
   "pygments_lexer": "ipython3",
   "version": "3.8.3"
  }
 },
 "nbformat": 4,
 "nbformat_minor": 1
}
